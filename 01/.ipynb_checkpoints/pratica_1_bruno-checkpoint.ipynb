{
 "cells": [
  {
   "cell_type": "code",
   "execution_count": 23,
   "id": "8387f1c1-64db-46ba-9ebf-1ed17ee759d9",
   "metadata": {},
   "outputs": [],
   "source": [
    "from sympy import *"
   ]
  },
  {
   "cell_type": "code",
   "execution_count": 24,
   "id": "1f586b7f-3117-4213-9c1f-1f4d6b10c59d",
   "metadata": {},
   "outputs": [],
   "source": [
    "#definição de variáveis\n",
    "# DV = (delta)V\n",
    "Vcc, s, L, Iof, I, R, Vdo, Ioa, Vra, Vfr, t, k, T, V0, V1, DV = symbols('Vcc s L Iof I R Vdo Ioa Vra Vfr t k T V0 V1 DV')"
   ]
  },
  {
   "cell_type": "code",
   "execution_count": 25,
   "id": "a6f7072f-0567-49b3-9609-9ac11dd5c7b8",
   "metadata": {},
   "outputs": [
    {
     "data": {
      "text/latex": [
       "$\\displaystyle - I L s - I R + Iof L + \\frac{Vcc}{s} = 0$"
      ],
      "text/plain": [
       "Eq(-I*L*s - I*R + Iof*L + Vcc/s, 0)"
      ]
     },
     "execution_count": 25,
     "metadata": {},
     "output_type": "execute_result"
    }
   ],
   "source": [
    "# chave aberta\n",
    "Eq1=Eq(Vcc/s -s*L*I + L*Iof - R*I,0)\n",
    "Eq1"
   ]
  },
  {
   "cell_type": "code",
   "execution_count": 26,
   "id": "f05f9b9f-9083-4a29-8e21-773ed7d728e5",
   "metadata": {},
   "outputs": [
    {
     "data": {
      "text/latex": [
       "$\\displaystyle - I L s - I R + Ioa - \\frac{Vdo}{s} = 0$"
      ],
      "text/plain": [
       "Eq(-I*L*s - I*R + Ioa - Vdo/s, 0)"
      ]
     },
     "execution_count": 26,
     "metadata": {},
     "output_type": "execute_result"
    }
   ],
   "source": [
    "# chave fechada\n",
    "Eq2=Eq(-Vdo/s-s*L*I+Ioa - R*I,0)\n",
    "Eq2"
   ]
  },
  {
   "cell_type": "code",
   "execution_count": 27,
   "id": "951387b9-887b-46ea-ac00-f4cbd3ea1bf6",
   "metadata": {},
   "outputs": [
    {
     "data": {
      "text/plain": [
       "[(Iof*L*s + Vcc)/(s*(L*s + R))]"
      ]
     },
     "execution_count": 27,
     "metadata": {},
     "output_type": "execute_result"
    }
   ],
   "source": [
    "# define a corrente no circuito com chave fechada\n",
    "sol1 = solve(Eq1,I)\n",
    "sol1"
   ]
  },
  {
   "cell_type": "code",
   "execution_count": 28,
   "id": "3fde3c92-db75-4b17-b2c5-f562eb3e7347",
   "metadata": {},
   "outputs": [
    {
     "data": {
      "text/latex": [
       "$\\displaystyle \\frac{R \\left(Iof L s + Vcc\\right)}{s \\left(L s + R\\right)}$"
      ],
      "text/plain": [
       "R*(Iof*L*s + Vcc)/(s*(L*s + R))"
      ]
     },
     "execution_count": 28,
     "metadata": {},
     "output_type": "execute_result"
    }
   ],
   "source": [
    "# define a tensão no resistor no circuito com chave fechada\n",
    "Vrf=sol1[0]*R\n",
    "Vrf"
   ]
  },
  {
   "cell_type": "code",
   "execution_count": 29,
   "id": "b907cd93-cfe5-4c7f-aca8-718ef65235b0",
   "metadata": {},
   "outputs": [
    {
     "data": {
      "text/plain": [
       "[(Ioa*s - Vdo)/(s*(L*s + R))]"
      ]
     },
     "execution_count": 29,
     "metadata": {},
     "output_type": "execute_result"
    }
   ],
   "source": [
    "# define a corrente no circuito com chave aberta\n",
    "sol2 = solve(Eq2,I)\n",
    "sol2"
   ]
  },
  {
   "cell_type": "code",
   "execution_count": 30,
   "id": "0e9360f7-080f-4bc9-a1aa-4683ee1d00a0",
   "metadata": {},
   "outputs": [
    {
     "data": {
      "text/latex": [
       "$\\displaystyle \\frac{R \\left(Ioa s - Vdo\\right)}{s \\left(L s + R\\right)}$"
      ],
      "text/plain": [
       "R*(Ioa*s - Vdo)/(s*(L*s + R))"
      ]
     },
     "execution_count": 30,
     "metadata": {},
     "output_type": "execute_result"
    }
   ],
   "source": [
    "# define a tensão no resistor no circuito com chave aberta\n",
    "Vra=sol2[0]*R\n",
    "Vra"
   ]
  },
  {
   "cell_type": "code",
   "execution_count": 31,
   "id": "b548ffca",
   "metadata": {},
   "outputs": [
    {
     "data": {
      "text/plain": [
       "(L*(Iof*R - Vcc)/(L*s + R) + Vcc/s, -Vdo/s + (Ioa*R + L*Vdo)/(L*s + R))"
      ]
     },
     "execution_count": 31,
     "metadata": {},
     "output_type": "execute_result"
    }
   ],
   "source": [
    "# Simplificar as expressões e depois expandir em frações parciais\n",
    "VRf_s_simplified = simplify(Vrf)\n",
    "VRa_s_simplified = simplify(Vra)\n",
    "\n",
    "# Tentativa de expansão em frações parciais\n",
    "VRf_s_fractioned = apart(VRf_s_simplified, s)\n",
    "VRa_s_fractioned = apart(VRa_s_simplified, s)\n",
    "\n",
    "VRf_s_fractioned, VRa_s_fractioned"
   ]
  },
  {
   "cell_type": "code",
   "execution_count": 32,
   "id": "ec6bf374",
   "metadata": {},
   "outputs": [
    {
     "data": {
      "text/plain": [
       "([L*(Iof*R - Vcc)/(L*s + R), Vcc/s], [-Vdo/s, (Ioa*R + L*Vdo)/(L*s + R)])"
      ]
     },
     "execution_count": 32,
     "metadata": {},
     "output_type": "execute_result"
    }
   ],
   "source": [
    "VRf_s_fractioned.as_ordered_terms(),VRa_s_fractioned.as_ordered_terms()"
   ]
  },
  {
   "cell_type": "code",
   "execution_count": 33,
   "id": "d4495be4",
   "metadata": {},
   "outputs": [
    {
     "data": {
      "text/plain": [
       "([(L*(Iof*R - Vcc)/(L*s + R), 0), (Vcc/s, 0)],\n",
       " [(-Vdo/s, 0), ((Ioa*R + L*Vdo)/(L*s + R), 0)])"
      ]
     },
     "execution_count": 33,
     "metadata": {},
     "output_type": "execute_result"
    }
   ],
   "source": [
    "# Calcular os residuos\n",
    "# Polos e residuos para Vrf(s)\n",
    "polos_residuos_VRf = [(p, residue(VRf_s_fractioned, s, p)) for p in VRf_s_fractioned.as_ordered_terms()]\n",
    "\n",
    "# Polos e resíduos para VRa(s)\n",
    "polos_residuos_VRa = [(p, residue(VRa_s_fractioned, s, p)) for p in VRa_s_fractioned.as_ordered_terms()]\n",
    "\n",
    "polos_residuos_VRf, polos_residuos_VRa"
   ]
  },
  {
   "cell_type": "code",
   "execution_count": 34,
   "id": "ad005457",
   "metadata": {},
   "outputs": [
    {
     "data": {
      "text/plain": [
       "(Vcc*Heaviside(t) + (Iof*R - Vcc)*exp(-R*t/L)*Heaviside(t),\n",
       " -Vdo*Heaviside(t) + (Ioa*R + L*Vdo)*exp(-R*t/L)*Heaviside(t)/L)"
      ]
     },
     "execution_count": 34,
     "metadata": {},
     "output_type": "execute_result"
    }
   ],
   "source": [
    "# Calculando a transformada inversa de Laplace apenas para VRf(s)\n",
    "vRf_t = inverse_laplace_transform(VRf_s_fractioned, s, t)\n",
    "vRa_t = inverse_laplace_transform(VRa_s_fractioned, s, t)\n",
    "\n",
    "vRf_t,vRa_t"
   ]
  },
  {
   "cell_type": "markdown",
   "id": "eaa3c752-a358-47cf-9b2b-c0fbb549b170",
   "metadata": {},
   "source": [
    "## Análise no Tempo"
   ]
  },
  {
   "cell_type": "code",
   "execution_count": 35,
   "id": "60138996-762e-40da-922b-3dba42424112",
   "metadata": {},
   "outputs": [
    {
     "data": {
      "text/latex": [
       "$\\displaystyle \\left(Iof R + Vcc e^{\\frac{R t}{L}} - Vcc\\right) e^{- \\frac{R t}{L}}$"
      ],
      "text/plain": [
       "(Iof*R + Vcc*exp(R*t/L) - Vcc)*exp(-R*t/L)"
      ]
     },
     "execution_count": 35,
     "metadata": {},
     "output_type": "execute_result"
    }
   ],
   "source": [
    "# Aplicaremos a transformada inversa de Laplace para obter a tensão no domínio do tempo\n",
    "# Dividimos por Heaviside(t) para elimitar o Euler como função de teta\n",
    "\n",
    "Vrft = simplify(inverse_laplace_transform(Vrf, s, t))/Heaviside(t)\n",
    "Vrft"
   ]
  },
  {
   "cell_type": "code",
   "execution_count": 36,
   "id": "a6ee0ec4-6f54-401c-bdd8-f03702e4c8f0",
   "metadata": {},
   "outputs": [
    {
     "data": {
      "text/latex": [
       "$\\displaystyle \\frac{\\left(Ioa R - L Vdo e^{\\frac{R t}{L}} + L Vdo\\right) e^{- \\frac{R t}{L}}}{L}$"
      ],
      "text/plain": [
       "(Ioa*R - L*Vdo*exp(R*t/L) + L*Vdo)*exp(-R*t/L)/L"
      ]
     },
     "execution_count": 36,
     "metadata": {},
     "output_type": "execute_result"
    }
   ],
   "source": [
    "# Aplicaremos a transformada inversa de Laplace para obter a tensão no domínio do tempo\n",
    "# Dividimos por Heaviside(t) para elimitar o Euler como função de teta\n",
    "\n",
    "Vrat = simplify(inverse_laplace_transform(Vra, s, t))/Heaviside(t)\n",
    "Vrat"
   ]
  },
  {
   "cell_type": "markdown",
   "id": "a088a1a7-8b17-487a-9cff-10eb0f358dbe",
   "metadata": {},
   "source": [
    "## V1 e V2"
   ]
  },
  {
   "cell_type": "code",
   "execution_count": 37,
   "id": "6a5922a4-871d-4b90-99a4-6a19da308b5e",
   "metadata": {},
   "outputs": [
    {
     "data": {
      "text/latex": [
       "$\\displaystyle \\left(V_{0} + Vcc e^{\\frac{R T k}{L}} - Vcc\\right) e^{- \\frac{R T k}{L}}$"
      ],
      "text/plain": [
       "(V0 + Vcc*exp(R*T*k/L) - Vcc)*exp(-R*T*k/L)"
      ]
     },
     "execution_count": 37,
     "metadata": {},
     "output_type": "execute_result"
    }
   ],
   "source": [
    "# substituindo os valores de em t e na corrente inicial (condição inicial) para definir V1\n",
    "V1=Vrft.subs(t, k*T)\n",
    "V1=V1.subs(Iof, V0/R)\n",
    "V1"
   ]
  },
  {
   "cell_type": "code",
   "execution_count": 38,
   "id": "41b50272-8253-456d-a908-7da2a0923d89",
   "metadata": {},
   "outputs": [
    {
     "data": {
      "text/latex": [
       "$\\displaystyle \\frac{\\left(- L Vdo e^{\\frac{R T \\left(1 - k\\right)}{L}} + L Vdo + \\left(V_{0} + Vcc e^{\\frac{R T k}{L}} - Vcc\\right) e^{- \\frac{R T k}{L}}\\right) e^{- \\frac{R T \\left(1 - k\\right)}{L}}}{L}$"
      ],
      "text/plain": [
       "(-L*Vdo*exp(R*T*(1 - k)/L) + L*Vdo + (V0 + Vcc*exp(R*T*k/L) - Vcc)*exp(-R*T*k/L))*exp(-R*T*(1 - k)/L)/L"
      ]
     },
     "execution_count": 38,
     "metadata": {},
     "output_type": "execute_result"
    }
   ],
   "source": [
    "# substituindo os valores de em t e na corrente inicial (condição inicial) para definir V2\n",
    "\n",
    "V2=Vrat.subs(t, (1-k)*T)\n",
    "V2=V2.subs(Ioa, V1/R)\n",
    "V2"
   ]
  },
  {
   "cell_type": "markdown",
   "id": "4572553c-ad94-4ed4-9dfa-b5fc32bdeccc",
   "metadata": {},
   "source": [
    "## Análise em regime permanente"
   ]
  },
  {
   "cell_type": "code",
   "execution_count": 39,
   "id": "7b4da476-82e5-4c64-b1b5-b280c4601a73",
   "metadata": {},
   "outputs": [
    {
     "data": {
      "text/latex": [
       "$\\displaystyle \\frac{L Vcc e^{\\frac{R T}{L}} e^{\\frac{R T k}{L}}}{L e^{\\frac{R T}{L}} e^{\\frac{R T k}{L}} - e^{\\frac{R T k}{L}}} - \\frac{L Vcc e^{\\frac{R T}{L}}}{L e^{\\frac{R T}{L}} e^{\\frac{R T k}{L}} - e^{\\frac{R T k}{L}}} + \\frac{L Vdo e^{\\frac{R T}{L}} e^{\\frac{R T k}{L}}}{L e^{\\frac{R T}{L}} e^{\\frac{R T k}{L}} - e^{\\frac{R T k}{L}}} - \\frac{L Vdo e^{\\frac{R T}{L}}}{L e^{\\frac{R T}{L}} e^{\\frac{R T k}{L}} - e^{\\frac{R T k}{L}}} - \\frac{L Vdo e^{\\frac{2 R T k}{L}}}{L e^{\\frac{R T}{L}} e^{\\frac{R T k}{L}} - e^{\\frac{R T k}{L}}} + \\frac{L Vdo e^{\\frac{R T k}{L}}}{L e^{\\frac{R T}{L}} e^{\\frac{R T k}{L}} - e^{\\frac{R T k}{L}}} - \\frac{Vcc e^{\\frac{2 R T k}{L}}}{L e^{\\frac{R T}{L}} e^{\\frac{R T k}{L}} - e^{\\frac{R T k}{L}}} + \\frac{Vcc e^{\\frac{R T k}{L}}}{L e^{\\frac{R T}{L}} e^{\\frac{R T k}{L}} - e^{\\frac{R T k}{L}}}$"
      ],
      "text/plain": [
       "L*Vcc*exp(R*T/L)*exp(R*T*k/L)/(L*exp(R*T/L)*exp(R*T*k/L) - exp(R*T*k/L)) - L*Vcc*exp(R*T/L)/(L*exp(R*T/L)*exp(R*T*k/L) - exp(R*T*k/L)) + L*Vdo*exp(R*T/L)*exp(R*T*k/L)/(L*exp(R*T/L)*exp(R*T*k/L) - exp(R*T*k/L)) - L*Vdo*exp(R*T/L)/(L*exp(R*T/L)*exp(R*T*k/L) - exp(R*T*k/L)) - L*Vdo*exp(2*R*T*k/L)/(L*exp(R*T/L)*exp(R*T*k/L) - exp(R*T*k/L)) + L*Vdo*exp(R*T*k/L)/(L*exp(R*T/L)*exp(R*T*k/L) - exp(R*T*k/L)) - Vcc*exp(2*R*T*k/L)/(L*exp(R*T/L)*exp(R*T*k/L) - exp(R*T*k/L)) + Vcc*exp(R*T*k/L)/(L*exp(R*T/L)*exp(R*T*k/L) - exp(R*T*k/L))"
      ]
     },
     "execution_count": 39,
     "metadata": {},
     "output_type": "execute_result"
    }
   ],
   "source": [
    "# Achar os valores de V0 e DV\n",
    "# Considerando V2 = V0 e V1 = V0 + DV\n",
    "\n",
    "# V0 + DV = V1\n",
    "prop1 = Eq(V0 + DV, V1)\n",
    "\n",
    "# V0 = V2\n",
    "prop2 = Eq(V0, V2)\n",
    "\n",
    "# solucionando o sistema e obtendo os valores de V0 e DV\n",
    "Vsol = linsolve([prop1, prop2], (V0, DV))\n",
    "Vsol.args[0][1]"
   ]
  },
  {
   "cell_type": "markdown",
   "id": "09b389b0-6209-4aa9-9abe-b28081eaf968",
   "metadata": {},
   "source": [
    "## Série de Taylor e limites"
   ]
  },
  {
   "cell_type": "code",
   "execution_count": 40,
   "id": "156b05bb-8b6a-4def-8da3-e6090023928b",
   "metadata": {},
   "outputs": [
    {
     "data": {
      "text/latex": [
       "$\\displaystyle T \\left(\\frac{R Vdo k}{L - 1} - \\frac{R Vdo}{L - 1} + \\frac{R Vcc k}{L \\left(L - 1\\right)}\\right) + O\\left(T^{2}\\right)$"
      ],
      "text/plain": [
       "T*(R*Vdo*k/(L - 1) - R*Vdo/(L - 1) + R*Vcc*k/(L*(L - 1))) + O(T**2)"
      ]
     },
     "execution_count": 40,
     "metadata": {},
     "output_type": "execute_result"
    }
   ],
   "source": [
    "# aplicando a série de Taylor e os limites\n",
    "tayDV = series(Vsol.args[0][0], T, 0, 2)\n",
    "tayV0 = series(Vsol.args[0][1], T, 0, 2)\n",
    "tayDV"
   ]
  },
  {
   "cell_type": "code",
   "execution_count": 43,
   "id": "0dbe7bf0-de0c-4d7d-bdc7-6beced482a18",
   "metadata": {},
   "outputs": [
    {
     "data": {
      "text/latex": [
       "$\\displaystyle T \\left(\\frac{R Vcc k}{L - 1} - \\frac{R Vcc k}{L \\left(L - 1\\right)}\\right) + O\\left(T^{2}\\right)$"
      ],
      "text/plain": [
       "T*(R*Vcc*k/(L - 1) - R*Vcc*k/(L*(L - 1))) + O(T**2)"
      ]
     },
     "execution_count": 43,
     "metadata": {},
     "output_type": "execute_result"
    }
   ],
   "source": [
    "# Extraindo os termos da série (normalmente o termo constante e o coeficiente de T)\n",
    "V0_linear = tayV0.removeO()  # Remove os termos de ordem superior\n",
    "V_linear = tayDV.removeO()    \n",
    "\n",
    "# Valores de V0 e V quando T -> 0\n",
    "V0_at_T0 = V0_linear.subs(T, 0)\n",
    "V_at_T0 = V_linear.subs(T, 0)\n",
    "\n",
    "tayV0"
   ]
  },
  {
   "cell_type": "code",
   "execution_count": 47,
   "id": "a6c23092-ccde-4c9c-9e96-fe37a8618067",
   "metadata": {},
   "outputs": [
    {
     "data": {
      "text/plain": [
       "[0.5*(1000.0*R*T*Vdo*k - 1000.0*R*T*Vdo + Vcc - 1414.2135623731*sqrt(0.5*R**2*T**2*Vdo**2*k**2 - R**2*T**2*Vdo**2*k + 0.5*R**2*T**2*Vdo**2 + 0.002*R*T*Vcc**2*k + 0.001*R*T*Vcc*Vdo*k - 0.001*R*T*Vcc*Vdo + 5.0e-7*Vcc**2))/Vcc,\n",
       " 0.5*(1000.0*R*T*Vdo*k - 1000.0*R*T*Vdo + Vcc + 1414.2135623731*sqrt(0.5*R**2*T**2*Vdo**2*k**2 - R**2*T**2*Vdo**2*k + 0.5*R**2*T**2*Vdo**2 + 0.002*R*T*Vcc**2*k + 0.001*R*T*Vcc*Vdo*k - 0.001*R*T*Vcc*Vdo + 5.0e-7*Vcc**2))/Vcc]"
      ]
     },
     "execution_count": 47,
     "metadata": {},
     "output_type": "execute_result"
    }
   ],
   "source": [
    "# Define a condição de V ser 0.001 * Vcc\n",
    "condicao = Eq(tayV0, 0.001 * Vcc)\n",
    "eq_condicao = condicao.subs(tayV0, V_linear)\n",
    "sol_L = solve(eq_condicao,L)\n",
    "\n",
    "sol_L"
   ]
  },
  {
   "cell_type": "code",
   "execution_count": 48,
   "id": "faec6bb2",
   "metadata": {},
   "outputs": [
    {
     "data": {
      "text/plain": [
       "{(5, 10000.0): 0.0007213475204444818,\n",
       " (5, 50000.0): 0.00014426950408889634,\n",
       " (1, 10000.0): 0.00014426950408889634,\n",
       " (1, 50000.0): 2.885390081777927e-05}"
      ]
     },
     "execution_count": 48,
     "metadata": {},
     "output_type": "execute_result"
    }
   ],
   "source": [
    "import numpy as np\n",
    "\n",
    "# Definição dos valores\n",
    "Rs = [5, 1]  # Valores de R\n",
    "frequencies = [10e3, 50e3]  # Frequências em Hz\n",
    "\n",
    "# Cálculo de L para cada combinação de R e f\n",
    "results = {}\n",
    "for R in Rs:\n",
    "    for f in frequencies:\n",
    "        L = -R / (f * np.log(0.5))\n",
    "        results[(R, f)] = L\n",
    "\n",
    "results\n"
   ]
  },
  {
   "cell_type": "code",
   "execution_count": null,
   "id": "cb421bd4",
   "metadata": {},
   "outputs": [],
   "source": []
  }
 ],
 "metadata": {
  "kernelspec": {
   "display_name": "Python 3 (ipykernel)",
   "language": "python",
   "name": "python3"
  },
  "language_info": {
   "codemirror_mode": {
    "name": "ipython",
    "version": 3
   },
   "file_extension": ".py",
   "mimetype": "text/x-python",
   "name": "python",
   "nbconvert_exporter": "python",
   "pygments_lexer": "ipython3",
   "version": "3.11.9"
  }
 },
 "nbformat": 4,
 "nbformat_minor": 5
}

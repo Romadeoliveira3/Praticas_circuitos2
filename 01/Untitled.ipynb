{
 "cells": [
  {
   "cell_type": "code",
   "execution_count": 7,
   "id": "d5bbb9a5-62de-487f-9f3a-d1402b9c4b23",
   "metadata": {},
   "outputs": [],
   "source": [
    "from sympy import *\n"
   ]
  },
  {
   "cell_type": "code",
   "execution_count": 8,
   "id": "59740c9e-c480-4ea4-b8e9-d37f8afbdb70",
   "metadata": {},
   "outputs": [],
   "source": [
    "#definição de variáveis\n",
    "Hs, Vi, R1, R2, C, R3, Vo, V1, s, t, w = symbols(\"Hs Vi R1 R2 C R3 Vo V1 s t w\")"
   ]
  },
  {
   "cell_type": "code",
   "execution_count": 9,
   "id": "84e7026f-3d3b-401e-aafe-6bf11d7d2852",
   "metadata": {},
   "outputs": [
    {
     "data": {
      "text/latex": [
       "$\\displaystyle V_{1} = - \\frac{Vo}{C R_{3} s}$"
      ],
      "text/plain": [
       "Eq(V1, -Vo/(C*R3*s))"
      ]
     },
     "execution_count": 9,
     "metadata": {},
     "output_type": "execute_result"
    }
   ],
   "source": [
    "eq1 = Eq(V1, -Vo*(1/(C*s))/R3)\n",
    "eq1"
   ]
  },
  {
   "cell_type": "code",
   "execution_count": 10,
   "id": "ea7fb75a-e6a0-465a-b4df-95c7edc3d342",
   "metadata": {},
   "outputs": [
    {
     "data": {
      "text/latex": [
       "$\\displaystyle \\frac{- V_{1} + Vi}{R_{1}} = C V_{1} s + C s \\left(V_{1} - Vo\\right) + \\frac{V_{1}}{R_{2}}$"
      ],
      "text/plain": [
       "Eq((-V1 + Vi)/R1, C*V1*s + C*s*(V1 - Vo) + V1/R2)"
      ]
     },
     "execution_count": 10,
     "metadata": {},
     "output_type": "execute_result"
    }
   ],
   "source": [
    "eq2 = Eq((Vi-V1)/R1, ((V1-Vo)/(1/(C*s)))+(V1/(1/(C*s)))+(V1/R2))\n",
    "eq2"
   ]
  },
  {
   "cell_type": "code",
   "execution_count": 11,
   "id": "891fcf3d-ee1a-474f-869a-74065d46d894",
   "metadata": {},
   "outputs": [
    {
     "data": {
      "text/latex": [
       "$\\displaystyle \\left\\{\\left( - \\frac{C R_{2} R_{3} Vi s}{C^{2} R_{1} R_{2} R_{3} s^{2} + 2 C R_{1} R_{2} s + R_{1} + R_{2}}, \\  \\frac{R_{2} Vi}{C^{2} R_{1} R_{2} R_{3} s^{2} + 2 C R_{1} R_{2} s + R_{1} + R_{2}}\\right)\\right\\}$"
      ],
      "text/plain": [
       "{(-C*R2*R3*Vi*s/(C**2*R1*R2*R3*s**2 + 2*C*R1*R2*s + R1 + R2), R2*Vi/(C**2*R1*R2*R3*s**2 + 2*C*R1*R2*s + R1 + R2))}"
      ]
     },
     "execution_count": 11,
     "metadata": {},
     "output_type": "execute_result"
    }
   ],
   "source": [
    "eqVo = linsolve([eq1,eq2], (Vo,V1))\n",
    "eqVo"
   ]
  },
  {
   "cell_type": "code",
   "execution_count": 12,
   "id": "0f64e029-b49c-41a6-859d-4f5342169f90",
   "metadata": {},
   "outputs": [
    {
     "data": {
      "text/latex": [
       "$\\displaystyle - \\frac{C R_{2} R_{3} s}{C^{2} R_{1} R_{2} R_{3} s^{2} + 2 C R_{1} R_{2} s + R_{1} + R_{2}}$"
      ],
      "text/plain": [
       "-C*R2*R3*s/(C**2*R1*R2*R3*s**2 + 2*C*R1*R2*s + R1 + R2)"
      ]
     },
     "execution_count": 12,
     "metadata": {},
     "output_type": "execute_result"
    }
   ],
   "source": [
    "# Calculando a função transferência H(s)\n",
    "\n",
    "solVo = eqVo.args[0][0]\n",
    "Hs = solVo/Vi\n",
    "Hs"
   ]
  },
  {
   "cell_type": "code",
   "execution_count": 13,
   "id": "80d5b19e-482b-4522-878d-5c031e0c257a",
   "metadata": {},
   "outputs": [
    {
     "data": {
      "text/latex": [
       "$\\displaystyle - \\frac{i C R_{2} R_{3} w}{- C^{2} R_{1} R_{2} R_{3} w^{2} + 2 i C R_{1} R_{2} w + R_{1} + R_{2}}$"
      ],
      "text/plain": [
       "-I*C*R2*R3*w/(-C**2*R1*R2*R3*w**2 + 2*I*C*R1*R2*w + R1 + R2)"
      ]
     },
     "execution_count": 13,
     "metadata": {},
     "output_type": "execute_result"
    }
   ],
   "source": [
    "# Substituindo s = jw\n",
    "\n",
    "Hjw = Hs.subs(s, I*w)\n",
    "Hjw"
   ]
  },
  {
   "cell_type": "code",
   "execution_count": 14,
   "id": "68bd1ca7-2f00-45c4-9963-041f7c50b299",
   "metadata": {},
   "outputs": [
    {
     "data": {
      "text/latex": [
       "$\\displaystyle \\left|{\\frac{C R_{2} R_{3} w}{- C^{2} R_{1} R_{2} R_{3} w^{2} + 2 i C R_{1} R_{2} w + R_{1} + R_{2}}}\\right|$"
      ],
      "text/plain": [
       "Abs(C*R2*R3*w/(-C**2*R1*R2*R3*w**2 + 2*I*C*R1*R2*w + R1 + R2))"
      ]
     },
     "execution_count": 14,
     "metadata": {},
     "output_type": "execute_result"
    }
   ],
   "source": [
    "abs(Hjw)"
   ]
  },
  {
   "cell_type": "code",
   "execution_count": 15,
   "id": "5a781b01-bdc5-433b-9213-12e82fc1673f",
   "metadata": {},
   "outputs": [
    {
     "data": {
      "text/latex": [
       "$\\displaystyle \\frac{180 \\arg{\\left(- \\frac{i C R_{2} R_{3} w}{- C^{2} R_{1} R_{2} R_{3} w^{2} + 2 i C R_{1} R_{2} w + R_{1} + R_{2}} \\right)}}{\\pi}$"
      ],
      "text/plain": [
       "180*arg(-I*C*R2*R3*w/(-C**2*R1*R2*R3*w**2 + 2*I*C*R1*R2*w + R1 + R2))/pi"
      ]
     },
     "execution_count": 15,
     "metadata": {},
     "output_type": "execute_result"
    }
   ],
   "source": [
    "#resposta em radiano, se liga\n",
    "\n",
    "deg(arg(Hjw))"
   ]
  },
  {
   "cell_type": "code",
   "execution_count": 16,
   "id": "19b72a0b-c638-4273-9cf3-6d0d78cd4d6a",
   "metadata": {},
   "outputs": [
    {
     "data": {
      "text/latex": [
       "$\\displaystyle - \\frac{2.209 i w}{- 0.000103823 w^{2} + 0.04418 i w + 940}$"
      ],
      "text/plain": [
       "-2.209*I*w/(-0.000103823*w**2 + 0.04418*I*w + 940)"
      ]
     },
     "execution_count": 16,
     "metadata": {},
     "output_type": "execute_result"
    }
   ],
   "source": [
    "H_subs1=Hjw.subs({C:100e-9, R1:470, R2:470, R3:47e+3})\n",
    "H_subs1"
   ]
  },
  {
   "cell_type": "code",
   "execution_count": 17,
   "id": "2f6c7552-b7ee-410e-a556-928afbd82402",
   "metadata": {},
   "outputs": [
    {
     "data": {
      "text/plain": [
       "(0.5947268235758382, -90.6815228100342)"
      ]
     },
     "execution_count": 17,
     "metadata": {},
     "output_type": "execute_result"
    }
   ],
   "source": [
    "#freq 40Hz\n",
    "Mod1=abs(H_subs1)\n",
    "Arg1=deg(arg(H_subs1))\n",
    "float(Mod1.subs(w,2*pi*40)), float(Arg1.subs(w,2*pi*40))"
   ]
  },
  {
   "cell_type": "code",
   "execution_count": 18,
   "id": "aa2d4352-4ff6-4e18-aa55-d4e5ab712178",
   "metadata": {},
   "outputs": [],
   "source": [
    "#w_40 = arg(0.59) theta(-90°)"
   ]
  },
  {
   "cell_type": "code",
   "execution_count": 19,
   "id": "faa1811e-df6d-41c8-961d-8601adad6906",
   "metadata": {},
   "outputs": [
    {
     "ename": "NameError",
     "evalue": "name 'L1' is not defined",
     "output_type": "error",
     "traceback": [
      "\u001b[1;31m---------------------------------------------------------------------------\u001b[0m",
      "\u001b[1;31mNameError\u001b[0m                                 Traceback (most recent call last)",
      "Cell \u001b[1;32mIn[19], line 4\u001b[0m\n\u001b[0;32m      1\u001b[0m \u001b[38;5;28;01mimport\u001b[39;00m \u001b[38;5;21;01mpandas\u001b[39;00m \u001b[38;5;28;01mas\u001b[39;00m \u001b[38;5;21;01mpd\u001b[39;00m\n\u001b[0;32m      3\u001b[0m parametros \u001b[38;5;241m=\u001b[39m [\n\u001b[1;32m----> 4\u001b[0m     (\u001b[38;5;241m5\u001b[39m, \u001b[38;5;241m1\u001b[39m\u001b[38;5;241m/\u001b[39m\u001b[38;5;241m10000\u001b[39m, \u001b[43mL1\u001b[49m),  \u001b[38;5;66;03m# R = 5 ohm, Feq = 10 kHz, L = L1\u001b[39;00m\n\u001b[0;32m      5\u001b[0m     (\u001b[38;5;241m5\u001b[39m, \u001b[38;5;241m1\u001b[39m\u001b[38;5;241m/\u001b[39m\u001b[38;5;241m50000\u001b[39m, L2),  \n\u001b[0;32m      6\u001b[0m     (\u001b[38;5;241m1\u001b[39m, \u001b[38;5;241m1\u001b[39m\u001b[38;5;241m/\u001b[39m\u001b[38;5;241m10000\u001b[39m, L3),  \n\u001b[0;32m      7\u001b[0m     (\u001b[38;5;241m1\u001b[39m, \u001b[38;5;241m1\u001b[39m\u001b[38;5;241m/\u001b[39m\u001b[38;5;241m50000\u001b[39m, L4)   \n\u001b[0;32m      8\u001b[0m ]\n\u001b[0;32m     10\u001b[0m \u001b[38;5;66;03m# Calculando V0 e DV para cada conjunto de parâmetros\u001b[39;00m\n\u001b[0;32m     11\u001b[0m resultados \u001b[38;5;241m=\u001b[39m []\n",
      "\u001b[1;31mNameError\u001b[0m: name 'L1' is not defined"
     ]
    }
   ],
   "source": [
    "import pandas as pd\n",
    "\n",
    "parametros = [\n",
    "    (5, 1/10000, L1),  # R = 5 ohm, Feq = 10 kHz, L = L1\n",
    "    (5, 1/50000, L2),  \n",
    "    (1, 1/10000, L3),  \n",
    "    (1, 1/50000, L4)   \n",
    "]\n",
    "\n",
    "# Calculando V0 e DV para cada conjunto de parâmetros\n",
    "resultados = []\n",
    "for R_val, T_val, L_val in parametros:\n",
    "    resultado_V0 = Vsol.args[0][0].subs([(k, 1/2), (R, R_val), (T, T_val), (Vcc, 5), (L, L_val), (Vdo, 0)])\n",
    "    resultado_DV = Vsol.args[0][1].subs([(k, 1/2), (R, R_val), (T, T_val), (Vcc, 5), (L, L_val), (Vdo, 0)])\n",
    "    resultados.append((R_val, T_val**(-1), L_val, resultado_V0, resultado_DV))\n",
    "\n",
    "# Criando um DataFrame a partir da lista de resultados\n",
    "df = pd.DataFrame(resultados, columns=['R (ohm)', 'Feq (Hz)', 'L (H)', 'V0', 'DV'])\n",
    "\n",
    "# Exibindo a tabela\n",
    "print(df)"
   ]
  }
 ],
 "metadata": {
  "kernelspec": {
   "display_name": "Python 3 (ipykernel)",
   "language": "python",
   "name": "python3"
  },
  "language_info": {
   "codemirror_mode": {
    "name": "ipython",
    "version": 3
   },
   "file_extension": ".py",
   "mimetype": "text/x-python",
   "name": "python",
   "nbconvert_exporter": "python",
   "pygments_lexer": "ipython3",
   "version": "3.12.2"
  }
 },
 "nbformat": 4,
 "nbformat_minor": 5
}

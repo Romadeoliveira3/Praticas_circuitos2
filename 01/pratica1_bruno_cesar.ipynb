{
  "cells": [
    {
      "cell_type": "code",
      "execution_count": 2,
      "id": "8387f1c1-64db-46ba-9ebf-1ed17ee759d9",
      "metadata": {
        "id": "8387f1c1-64db-46ba-9ebf-1ed17ee759d9"
      },
      "outputs": [],
      "source": [
        "from sympy import *"
      ]
    },
    {
      "cell_type": "code",
      "execution_count": 3,
      "id": "1f586b7f-3117-4213-9c1f-1f4d6b10c59d",
      "metadata": {
        "id": "1f586b7f-3117-4213-9c1f-1f4d6b10c59d"
      },
      "outputs": [],
      "source": [
        "#definição de variáveis\n",
        "# DV = (delta)V\n",
        "Vcc, s, L, Iof, I, R, Vdo, Ioa, Vra, Vfr, t, k, T, V0, V1, DV = symbols('Vcc s L Iof I R Vdo Ioa Vra Vfr t k T V0 V1 DV')"
      ]
    },
    {
      "cell_type": "code",
      "execution_count": 4,
      "id": "a6f7072f-0567-49b3-9609-9ac11dd5c7b8",
      "metadata": {
        "colab": {
          "base_uri": "https://localhost:8080/",
          "height": 52
        },
        "id": "a6f7072f-0567-49b3-9609-9ac11dd5c7b8",
        "outputId": "ad1bc909-6a81-4165-a8e4-2708ba346a43"
      },
      "outputs": [
        {
          "data": {
            "text/latex": [
              "$\\displaystyle - I L s - I R + Iof L + \\frac{Vcc}{s} = 0$"
            ],
            "text/plain": [
              "Eq(-I*L*s - I*R + Iof*L + Vcc/s, 0)"
            ]
          },
          "execution_count": 4,
          "metadata": {},
          "output_type": "execute_result"
        }
      ],
      "source": [
        "# chave aberta\n",
        "Eq1=Eq(Vcc/s -s*L*I + L*Iof - R*I,0)\n",
        "Eq1"
      ]
    },
    {
      "cell_type": "code",
      "execution_count": 5,
      "id": "f05f9b9f-9083-4a29-8e21-773ed7d728e5",
      "metadata": {
        "colab": {
          "base_uri": "https://localhost:8080/",
          "height": 52
        },
        "id": "f05f9b9f-9083-4a29-8e21-773ed7d728e5",
        "outputId": "22e66f12-4e59-4996-e0f1-13f4bdc5ce91"
      },
      "outputs": [
        {
          "data": {
            "text/latex": [
              "$\\displaystyle - I L s - I R + Ioa L - \\frac{Vdo}{s} = 0$"
            ],
            "text/plain": [
              "Eq(-I*L*s - I*R + Ioa*L - Vdo/s, 0)"
            ]
          },
          "execution_count": 5,
          "metadata": {},
          "output_type": "execute_result"
        }
      ],
      "source": [
        "# chave fechada\n",
        "Eq2=Eq(-Vdo/s-s*L*I+Ioa*L - R*I,0)\n",
        "Eq2"
      ]
    },
    {
      "cell_type": "code",
      "execution_count": 6,
      "id": "951387b9-887b-46ea-ac00-f4cbd3ea1bf6",
      "metadata": {
        "colab": {
          "base_uri": "https://localhost:8080/"
        },
        "id": "951387b9-887b-46ea-ac00-f4cbd3ea1bf6",
        "outputId": "77c6615e-c117-406d-e1bf-33cae39b08d6"
      },
      "outputs": [
        {
          "data": {
            "text/plain": [
              "[(Iof*L*s + Vcc)/(s*(L*s + R))]"
            ]
          },
          "execution_count": 6,
          "metadata": {},
          "output_type": "execute_result"
        }
      ],
      "source": [
        "# define a corrente no circuito com chave fechada\n",
        "sol1 = solve(Eq1,I)\n",
        "sol1"
      ]
    },
    {
      "cell_type": "code",
      "execution_count": 7,
      "id": "3fde3c92-db75-4b17-b2c5-f562eb3e7347",
      "metadata": {
        "colab": {
          "base_uri": "https://localhost:8080/",
          "height": 57
        },
        "id": "3fde3c92-db75-4b17-b2c5-f562eb3e7347",
        "outputId": "f3b18ff5-3b08-491e-dbab-c6316cbe88a4"
      },
      "outputs": [
        {
          "data": {
            "text/latex": [
              "$\\displaystyle \\frac{R \\left(Iof L s + Vcc\\right)}{s \\left(L s + R\\right)}$"
            ],
            "text/plain": [
              "R*(Iof*L*s + Vcc)/(s*(L*s + R))"
            ]
          },
          "execution_count": 7,
          "metadata": {},
          "output_type": "execute_result"
        }
      ],
      "source": [
        "# define a tensão no resistor no circuito com chave fechada\n",
        "Vrf=sol1[0]*R\n",
        "Vrf"
      ]
    },
    {
      "cell_type": "code",
      "execution_count": 8,
      "id": "b907cd93-cfe5-4c7f-aca8-718ef65235b0",
      "metadata": {
        "colab": {
          "base_uri": "https://localhost:8080/"
        },
        "id": "b907cd93-cfe5-4c7f-aca8-718ef65235b0",
        "outputId": "e8c8b561-f5e6-4fd0-b82e-6ab41e7f74e8"
      },
      "outputs": [
        {
          "data": {
            "text/plain": [
              "[(Ioa*L*s - Vdo)/(s*(L*s + R))]"
            ]
          },
          "execution_count": 8,
          "metadata": {},
          "output_type": "execute_result"
        }
      ],
      "source": [
        "# define a corrente no circuito com chave aberta\n",
        "sol2 = solve(Eq2,I)\n",
        "sol2"
      ]
    },
    {
      "cell_type": "code",
      "execution_count": 9,
      "id": "0e9360f7-080f-4bc9-a1aa-4683ee1d00a0",
      "metadata": {
        "colab": {
          "base_uri": "https://localhost:8080/",
          "height": 57
        },
        "id": "0e9360f7-080f-4bc9-a1aa-4683ee1d00a0",
        "outputId": "567ecfeb-5982-4032-b9dd-d90bdb931ffa"
      },
      "outputs": [
        {
          "data": {
            "text/latex": [
              "$\\displaystyle \\frac{R \\left(Ioa L s - Vdo\\right)}{s \\left(L s + R\\right)}$"
            ],
            "text/plain": [
              "R*(Ioa*L*s - Vdo)/(s*(L*s + R))"
            ]
          },
          "execution_count": 9,
          "metadata": {},
          "output_type": "execute_result"
        }
      ],
      "source": [
        "# define a tensão no resistor no circuito com chave aberta\n",
        "Vra=sol2[0]*R\n",
        "Vra"
      ]
    },
    {
      "cell_type": "markdown",
      "id": "eaa3c752-a358-47cf-9b2b-c0fbb549b170",
      "metadata": {
        "id": "eaa3c752-a358-47cf-9b2b-c0fbb549b170"
      },
      "source": [
        "## Análise no Tempo"
      ]
    },
    {
      "cell_type": "code",
      "execution_count": 10,
      "id": "60138996-762e-40da-922b-3dba42424112",
      "metadata": {
        "colab": {
          "base_uri": "https://localhost:8080/",
          "height": 47
        },
        "id": "60138996-762e-40da-922b-3dba42424112",
        "outputId": "b78af142-10d6-40f0-cd47-c4a1503897ec"
      },
      "outputs": [
        {
          "data": {
            "text/latex": [
              "$\\displaystyle \\left(Iof R + Vcc e^{\\frac{R t}{L}} - Vcc\\right) e^{- \\frac{R t}{L}}$"
            ],
            "text/plain": [
              "(Iof*R + Vcc*exp(R*t/L) - Vcc)*exp(-R*t/L)"
            ]
          },
          "execution_count": 10,
          "metadata": {},
          "output_type": "execute_result"
        }
      ],
      "source": [
        "# Aplicaremos a transformada inversa de Laplace para obter a tensão no domínio do tempo\n",
        "# Dividimos por Heaviside(t) para elimitar o Euler como função de teta\n",
        "\n",
        "Vrft = simplify(inverse_laplace_transform(Vrf, s, t))/Heaviside(t)\n",
        "Vrft"
      ]
    },
    {
      "cell_type": "code",
      "execution_count": 11,
      "id": "a6ee0ec4-6f54-401c-bdd8-f03702e4c8f0",
      "metadata": {
        "colab": {
          "base_uri": "https://localhost:8080/",
          "height": 47
        },
        "id": "a6ee0ec4-6f54-401c-bdd8-f03702e4c8f0",
        "outputId": "c1088c88-21fd-4639-b8ef-f631806189e5"
      },
      "outputs": [
        {
          "data": {
            "text/latex": [
              "$\\displaystyle \\left(Ioa R - Vdo e^{\\frac{R t}{L}} + Vdo\\right) e^{- \\frac{R t}{L}}$"
            ],
            "text/plain": [
              "(Ioa*R - Vdo*exp(R*t/L) + Vdo)*exp(-R*t/L)"
            ]
          },
          "execution_count": 11,
          "metadata": {},
          "output_type": "execute_result"
        }
      ],
      "source": [
        "# Aplicaremos a transformada inversa de Laplace para obter a tensão no domínio do tempo\n",
        "# Dividimos por Heaviside(t) para elimitar o Euler como função de teta\n",
        "\n",
        "Vrat = simplify(inverse_laplace_transform(Vra, s, t))/Heaviside(t)\n",
        "Vrat"
      ]
    },
    {
      "cell_type": "markdown",
      "id": "a088a1a7-8b17-487a-9cff-10eb0f358dbe",
      "metadata": {
        "id": "a088a1a7-8b17-487a-9cff-10eb0f358dbe"
      },
      "source": [
        "## V1 e V2"
      ]
    },
    {
      "cell_type": "code",
      "execution_count": 12,
      "id": "6a5922a4-871d-4b90-99a4-6a19da308b5e",
      "metadata": {
        "colab": {
          "base_uri": "https://localhost:8080/",
          "height": 47
        },
        "id": "6a5922a4-871d-4b90-99a4-6a19da308b5e",
        "outputId": "bedc14b6-7fe1-4afe-fb59-2ed76a06633e"
      },
      "outputs": [
        {
          "data": {
            "text/latex": [
              "$\\displaystyle \\left(V_{0} + Vcc e^{\\frac{R T k}{L}} - Vcc\\right) e^{- \\frac{R T k}{L}}$"
            ],
            "text/plain": [
              "(V0 + Vcc*exp(R*T*k/L) - Vcc)*exp(-R*T*k/L)"
            ]
          },
          "execution_count": 12,
          "metadata": {},
          "output_type": "execute_result"
        }
      ],
      "source": [
        "# substituindo os valores de em t e na corrente inicial (condição inicial) para definir V1\n",
        "V1=Vrft.subs(t, k*T)\n",
        "V1=V1.subs(Iof, V0/R)\n",
        "V1"
      ]
    },
    {
      "cell_type": "code",
      "execution_count": 13,
      "id": "41b50272-8253-456d-a908-7da2a0923d89",
      "metadata": {
        "colab": {
          "base_uri": "https://localhost:8080/",
          "height": 47
        },
        "id": "41b50272-8253-456d-a908-7da2a0923d89",
        "outputId": "7cd6c5d7-06dc-4e4f-b59c-bfd331378788"
      },
      "outputs": [
        {
          "data": {
            "text/latex": [
              "$\\displaystyle \\left(- Vdo e^{\\frac{R T \\left(1 - k\\right)}{L}} + Vdo + \\left(V_{0} + Vcc e^{\\frac{R T k}{L}} - Vcc\\right) e^{- \\frac{R T k}{L}}\\right) e^{- \\frac{R T \\left(1 - k\\right)}{L}}$"
            ],
            "text/plain": [
              "(-Vdo*exp(R*T*(1 - k)/L) + Vdo + (V0 + Vcc*exp(R*T*k/L) - Vcc)*exp(-R*T*k/L))*exp(-R*T*(1 - k)/L)"
            ]
          },
          "execution_count": 13,
          "metadata": {},
          "output_type": "execute_result"
        }
      ],
      "source": [
        "# substituindo os valores de em t e na corrente inicial (condição inicial) para definir V2\n",
        "\n",
        "V2=Vrat.subs(t, (1-k)*T)\n",
        "V2=V2.subs(Ioa, V1/R)\n",
        "V2"
      ]
    },
    {
      "cell_type": "markdown",
      "id": "4572553c-ad94-4ed4-9dfa-b5fc32bdeccc",
      "metadata": {
        "id": "4572553c-ad94-4ed4-9dfa-b5fc32bdeccc"
      },
      "source": [
        "## Análise em regime permanente"
      ]
    },
    {
      "cell_type": "code",
      "execution_count": 14,
      "id": "7b4da476-82e5-4c64-b1b5-b280c4601a73",
      "metadata": {
        "id": "7b4da476-82e5-4c64-b1b5-b280c4601a73"
      },
      "outputs": [
        {
          "data": {
            "text/latex": [
              "$\\displaystyle \\frac{Vcc e^{\\frac{R T k}{L}}}{e^{\\frac{R T}{L}} - 1} - \\frac{Vcc}{e^{\\frac{R T}{L}} - 1} - \\frac{Vdo e^{\\frac{R T}{L}}}{e^{\\frac{R T}{L}} - 1} + \\frac{Vdo e^{\\frac{R T k}{L}}}{e^{\\frac{R T}{L}} - 1}$"
            ],
            "text/plain": [
              "Vcc*exp(R*T*k/L)/(exp(R*T/L) - 1) - Vcc/(exp(R*T/L) - 1) - Vdo*exp(R*T/L)/(exp(R*T/L) - 1) + Vdo*exp(R*T*k/L)/(exp(R*T/L) - 1)"
            ]
          },
          "execution_count": 14,
          "metadata": {},
          "output_type": "execute_result"
        }
      ],
      "source": [
        "# Achar os valores de V0 e DV\n",
        "# Considerando V2 = V0 e V1 = V0 + DV\n",
        "\n",
        "# V0 + DV = V1\n",
        "prop1 = Eq(V0 + DV, V1)\n",
        "\n",
        "# V0 = V2\n",
        "prop2 = Eq(V0, V2)\n",
        "\n",
        "# solucionando o sistema e obtendo os valores de V0 e DV\n",
        "Vsol = linsolve([prop1, prop2], (V0, DV))\n",
        "\n",
        "# atribuindo as soluções de V0 e DV\n",
        "solV0 = Vsol.args[0][0]\n",
        "solDV = Vsol.args[0][1]\n",
        "solV0"
      ]
    },
    {
      "cell_type": "code",
      "execution_count": 15,
      "id": "2795d95c",
      "metadata": {},
      "outputs": [
        {
          "data": {
            "text/latex": [
              "$\\displaystyle \\frac{Vcc e^{\\frac{R T}{L}} e^{\\frac{R T k}{L}}}{e^{\\frac{R T}{L}} e^{\\frac{R T k}{L}} - e^{\\frac{R T k}{L}}} - \\frac{Vcc e^{\\frac{R T}{L}}}{e^{\\frac{R T}{L}} e^{\\frac{R T k}{L}} - e^{\\frac{R T k}{L}}} - \\frac{Vcc e^{\\frac{2 R T k}{L}}}{e^{\\frac{R T}{L}} e^{\\frac{R T k}{L}} - e^{\\frac{R T k}{L}}} + \\frac{Vcc e^{\\frac{R T k}{L}}}{e^{\\frac{R T}{L}} e^{\\frac{R T k}{L}} - e^{\\frac{R T k}{L}}} + \\frac{Vdo e^{\\frac{R T}{L}} e^{\\frac{R T k}{L}}}{e^{\\frac{R T}{L}} e^{\\frac{R T k}{L}} - e^{\\frac{R T k}{L}}} - \\frac{Vdo e^{\\frac{R T}{L}}}{e^{\\frac{R T}{L}} e^{\\frac{R T k}{L}} - e^{\\frac{R T k}{L}}} - \\frac{Vdo e^{\\frac{2 R T k}{L}}}{e^{\\frac{R T}{L}} e^{\\frac{R T k}{L}} - e^{\\frac{R T k}{L}}} + \\frac{Vdo e^{\\frac{R T k}{L}}}{e^{\\frac{R T}{L}} e^{\\frac{R T k}{L}} - e^{\\frac{R T k}{L}}}$"
            ],
            "text/plain": [
              "Vcc*exp(R*T/L)*exp(R*T*k/L)/(exp(R*T/L)*exp(R*T*k/L) - exp(R*T*k/L)) - Vcc*exp(R*T/L)/(exp(R*T/L)*exp(R*T*k/L) - exp(R*T*k/L)) - Vcc*exp(2*R*T*k/L)/(exp(R*T/L)*exp(R*T*k/L) - exp(R*T*k/L)) + Vcc*exp(R*T*k/L)/(exp(R*T/L)*exp(R*T*k/L) - exp(R*T*k/L)) + Vdo*exp(R*T/L)*exp(R*T*k/L)/(exp(R*T/L)*exp(R*T*k/L) - exp(R*T*k/L)) - Vdo*exp(R*T/L)/(exp(R*T/L)*exp(R*T*k/L) - exp(R*T*k/L)) - Vdo*exp(2*R*T*k/L)/(exp(R*T/L)*exp(R*T*k/L) - exp(R*T*k/L)) + Vdo*exp(R*T*k/L)/(exp(R*T/L)*exp(R*T*k/L) - exp(R*T*k/L))"
            ]
          },
          "execution_count": 15,
          "metadata": {},
          "output_type": "execute_result"
        }
      ],
      "source": [
        "solDV"
      ]
    },
    {
      "cell_type": "markdown",
      "id": "09b389b0-6209-4aa9-9abe-b28081eaf968",
      "metadata": {
        "id": "09b389b0-6209-4aa9-9abe-b28081eaf968"
      },
      "source": [
        "## Série de Taylor e limites"
      ]
    },
    {
      "cell_type": "code",
      "execution_count": 16,
      "id": "156b05bb-8b6a-4def-8da3-e6090023928b",
      "metadata": {
        "colab": {
          "base_uri": "https://localhost:8080/",
          "height": 58
        },
        "id": "156b05bb-8b6a-4def-8da3-e6090023928b",
        "outputId": "d29fa032-163e-4807-8f91-f99fe4407c72"
      },
      "outputs": [
        {
          "data": {
            "text/latex": [
              "$\\displaystyle T \\left(- \\frac{R Vcc k^{2}}{L} + \\frac{R Vcc k}{L} - \\frac{R Vdo k^{2}}{L} + \\frac{R Vdo k}{L}\\right)$"
            ],
            "text/plain": [
              "T*(-R*Vcc*k**2/L + R*Vcc*k/L - R*Vdo*k**2/L + R*Vdo*k/L)"
            ]
          },
          "execution_count": 16,
          "metadata": {},
          "output_type": "execute_result"
        }
      ],
      "source": [
        "# aplicando a série de Taylor e os limites DV = Vsol.args[0][1]; V0 = Vsol.args[0][0]\n",
        "# usa-se o método .removeO() para retirar o termo final da série e obter um polinômio conveniente para a substituição a seguir\n",
        "tayDV = series(solDV, T, 0, 2).removeO()\n",
        "tayV0 = series(solV0, T, 0, 2).removeO()\n",
        "tayDV"
      ]
    },
    {
      "cell_type": "code",
      "execution_count": 17,
      "id": "d434b877",
      "metadata": {},
      "outputs": [
        {
          "data": {
            "text/latex": [
              "$\\displaystyle T \\left(\\frac{R Vcc k^{2}}{2 L} - \\frac{R Vcc k}{2 L} + \\frac{R Vdo k^{2}}{2 L} - \\frac{R Vdo k}{2 L}\\right) + Vcc k + Vdo k - Vdo$"
            ],
            "text/plain": [
              "T*(R*Vcc*k**2/(2*L) - R*Vcc*k/(2*L) + R*Vdo*k**2/(2*L) - R*Vdo*k/(2*L)) + Vcc*k + Vdo*k - Vdo"
            ]
          },
          "execution_count": 17,
          "metadata": {},
          "output_type": "execute_result"
        }
      ],
      "source": [
        "tayV0"
      ]
    },
    {
      "cell_type": "code",
      "execution_count": 20,
      "id": "0dbe7bf0-de0c-4d7d-bdc7-6beced482a18",
      "metadata": {
        "colab": {
          "base_uri": "https://localhost:8080/",
          "height": 38
        },
        "id": "0dbe7bf0-de0c-4d7d-bdc7-6beced482a18",
        "outputId": "5ac1baab-e1e8-4d79-9b15-7ff624e981d1"
      },
      "outputs": [
        {
          "data": {
            "text/latex": [
              "$\\displaystyle Vcc k + Vdo k - Vdo$"
            ],
            "text/plain": [
              "Vcc*k + Vdo*k - Vdo"
            ]
          },
          "execution_count": 20,
          "metadata": {},
          "output_type": "execute_result"
        }
      ],
      "source": [
        "# limites\n",
        "limTayDV = limit(solDV, T, 0, dir=\"+-\")\n",
        "limTayV0 = limit(solV0, T, 0, dir=\"+-\")\n",
        "limTayV0"
      ]
    },
    {
      "cell_type": "code",
      "execution_count": 21,
      "id": "30d13c13",
      "metadata": {},
      "outputs": [
        {
          "data": {
            "text/latex": [
              "$\\displaystyle 0$"
            ],
            "text/plain": [
              "0"
            ]
          },
          "execution_count": 21,
          "metadata": {},
          "output_type": "execute_result"
        }
      ],
      "source": [
        "limTayDV"
      ]
    },
    {
      "cell_type": "markdown",
      "id": "jOW3DjdtDosB",
      "metadata": {
        "id": "jOW3DjdtDosB"
      },
      "source": [
        "# Valores para o indutor"
      ]
    },
    {
      "cell_type": "code",
      "execution_count": 25,
      "id": "a6c23092-ccde-4c9c-9e96-fe37a8618067",
      "metadata": {
        "colab": {
          "base_uri": "https://localhost:8080/",
          "height": 38
        },
        "id": "a6c23092-ccde-4c9c-9e96-fe37a8618067",
        "outputId": "f1bc1b49-5aab-461d-8ff9-b0fc6a3909e2"
      },
      "outputs": [
        {
          "data": {
            "text/latex": [
              "$\\displaystyle L = 1000 R T k \\left(1 - k\\right)$"
            ],
            "text/plain": [
              "Eq(L, 1000*R*T*k*(1 - k))"
            ]
          },
          "execution_count": 25,
          "metadata": {},
          "output_type": "execute_result"
        }
      ],
      "source": [
        "Lprocurado = Eq(tayDV.subs(Vdo,0), Vcc/1000)\n",
        "Lprocurado = solve(Lprocurado, [L])[0]\n",
        "Eq(L,Lprocurado)"
      ]
    },
    {
      "cell_type": "markdown",
      "id": "Wb-Rn54REf3k",
      "metadata": {
        "id": "Wb-Rn54REf3k"
      },
      "source": [
        "# Substituindo os valores"
      ]
    },
    {
      "cell_type": "code",
      "execution_count": null,
      "id": "SDJ4A7JHEIsc",
      "metadata": {
        "colab": {
          "base_uri": "https://localhost:8080/",
          "height": 37
        },
        "id": "SDJ4A7JHEIsc",
        "outputId": "2cad609c-eaa9-4f28-9732-f0cec89666d1"
      },
      "outputs": [
        {
          "data": {
            "text/latex": [
              "$\\displaystyle 0.025$"
            ],
            "text/plain": [
              "0.0250000000000000"
            ]
          },
          "execution_count": 55,
          "metadata": {},
          "output_type": "execute_result"
        }
      ],
      "source": [
        "\n",
        "#R = 5 ohm\n",
        "#Feq = 10 kHz\n",
        "L1=Lprocurado.subs([(k, 1/2), (R,5), (T, 1/10000)])\n",
        "\n",
        "#Feq = 50 kHz\n",
        "L2=Lprocurado.subs([(k, 1/2), (R,5), (T, 1/50000)])\n",
        "L2"
      ]
    },
    {
      "cell_type": "code",
      "execution_count": null,
      "id": "f1PZD53bFNuF",
      "metadata": {
        "colab": {
          "base_uri": "https://localhost:8080/",
          "height": 37
        },
        "id": "f1PZD53bFNuF",
        "outputId": "7e81e1a5-25dc-49e5-c65f-d884e18899f7"
      },
      "outputs": [
        {
          "data": {
            "text/plain": [
              "(0.0250000000000000, 0.00500000000000000)"
            ]
          },
          "execution_count": 56,
          "metadata": {},
          "output_type": "execute_result"
        }
      ],
      "source": [
        "#R = 1 ohm\n",
        "#Feq = 10 kHz\n",
        "L3=Lprocurado.subs([(k, 1/2), (R,1), (T, 1/10000)])\n",
        "\n",
        "#Feq = 50 kHz\n",
        "L4=Lprocurado.subs([(k, 1/2), (R,1), (T, 1/50000)])\n",
        "L3,L4"
      ]
    },
    {
      "cell_type": "code",
      "execution_count": null,
      "id": "6b70e418",
      "metadata": {},
      "outputs": [
        {
          "name": "stdout",
          "output_type": "stream",
          "text": [
            "Resultados para as indutâncias calculadas:\n",
            "L1 (R = 5 ohm, Feq = 10 kHz): 0.125000000000000\n",
            "L2 (R = 5 ohm, Feq = 50 kHz): 0.0250000000000000\n",
            "L3 (R = 1 ohm, Feq = 10 kHz): 0.0250000000000000\n",
            "L4 (R = 1 ohm, Feq = 50 kHz): 0.00500000000000000\n"
          ]
        }
      ],
      "source": [
        "# Imprimindo os resultados\n",
        "print(\"Resultados para as indutâncias calculadas:\")\n",
        "print(f\"L1 (R = 5 ohm, Feq = 10 kHz): {L1.evalf()}\")\n",
        "print(f\"L2 (R = 5 ohm, Feq = 50 kHz): {L2.evalf()}\")\n",
        "print(f\"L3 (R = 1 ohm, Feq = 10 kHz): {L3.evalf()}\")\n",
        "print(f\"L4 (R = 1 ohm, Feq = 50 kHz): {L4.evalf()}\")"
      ]
    },
    {
      "cell_type": "code",
      "execution_count": null,
      "id": "1e2c735c",
      "metadata": {},
      "outputs": [
        {
          "name": "stdout",
          "output_type": "stream",
          "text": [
            "V0 a 50khz\n"
          ]
        },
        {
          "data": {
            "text/plain": [
              "(Eq(V0, 2.49750000083327), Eq(V0, 2.49950000000717))"
            ]
          },
          "execution_count": 84,
          "metadata": {},
          "output_type": "execute_result"
        }
      ],
      "source": [
        "import sympy as sp\n",
        "\n",
        "print(\"V0 a 50khz\")\n",
        "sp.Eq(V0,Vsol.args[0][0].subs([(k, 1/2), (R,5), (T, 1/50000),(Vcc, 5),(L,L2),(Vdo,0)])),sp.Eq(V0,Vsol.args[0][0].subs([(k, 1/2), (R,5), (T, 1/50000),(Vcc, 5),(L,L1),(Vdo,0)]))\n"
      ]
    },
    {
      "cell_type": "code",
      "execution_count": null,
      "id": "2a8f405e",
      "metadata": {},
      "outputs": [
        {
          "data": {
            "text/latex": [
              "$\\displaystyle V_{0} = 0$"
            ],
            "text/plain": [
              "Eq(V0, 0)"
            ]
          },
          "execution_count": 77,
          "metadata": {},
          "output_type": "execute_result"
        }
      ],
      "source": [
        "sp.Eq(V0,limTayDV.subs([(k, 1/2), (R,5), (T, 1/50000),(Vcc, 5),(L,L3),(Vdo,1)]))"
      ]
    },
    {
      "cell_type": "code",
      "execution_count": null,
      "id": "15bf6019",
      "metadata": {},
      "outputs": [
        {
          "name": "stdout",
          "output_type": "stream",
          "text": [
            "   R (ohm)  Feq (Hz)                L (H)                V0  \\\n",
            "0        5   10000.0    0.125000000000000  2.49750000083327   \n",
            "1        5   50000.0   0.0250000000000000  2.49750000083327   \n",
            "2        1   10000.0   0.0250000000000000  2.49750000083327   \n",
            "3        1   50000.0  0.00500000000000000  2.49750000083327   \n",
            "\n",
            "                    DV  \n",
            "0  0.00499999833300535  \n",
            "1  0.00499999833300535  \n",
            "2  0.00499999833300535  \n",
            "3  0.00499999833300535  \n"
          ]
        }
      ],
      "source": [
        "import pandas as pd\n",
        "\n",
        "parametros = [\n",
        "    (5, 1/10000, L1),  # R = 5 ohm, Feq = 10 kHz, L = L1\n",
        "    (5, 1/50000, L2),  \n",
        "    (1, 1/10000, L3),  \n",
        "    (1, 1/50000, L4)   \n",
        "]\n",
        "\n",
        "# Calculando V0 e DV para cada conjunto de parâmetros\n",
        "resultados = []\n",
        "for R_val, T_val, L_val in parametros:\n",
        "    resultado_V0 = Vsol.args[0][0].subs([(k, 1/2), (R, R_val), (T, T_val), (Vcc, 5), (L, L_val), (Vdo, 0)])\n",
        "    resultado_DV = Vsol.args[0][1].subs([(k, 1/2), (R, R_val), (T, T_val), (Vcc, 5), (L, L_val), (Vdo, 0)])\n",
        "    resultados.append((R_val, T_val**(-1), L_val, resultado_V0, resultado_DV))\n",
        "\n",
        "# Criando um DataFrame a partir da lista de resultados\n",
        "df = pd.DataFrame(resultados, columns=['R (ohm)', 'Feq (Hz)', 'L (H)', 'V0', 'DV'])\n",
        "\n",
        "# Exibindo a tabela\n",
        "print(df)"
      ]
    },
    {
      "cell_type": "code",
      "execution_count": null,
      "id": "432bba46",
      "metadata": {},
      "outputs": [],
      "source": []
    },
    {
      "cell_type": "code",
      "execution_count": null,
      "id": "97b00d25",
      "metadata": {},
      "outputs": [],
      "source": []
    }
  ],
  "metadata": {
    "colab": {
      "provenance": []
    },
    "kernelspec": {
      "display_name": "Python 3 (ipykernel)",
      "language": "python",
      "name": "python3"
    },
    "language_info": {
      "codemirror_mode": {
        "name": "ipython",
        "version": 3
      },
      "file_extension": ".py",
      "mimetype": "text/x-python",
      "name": "python",
      "nbconvert_exporter": "python",
      "pygments_lexer": "ipython3",
      "version": "3.12.2"
    }
  },
  "nbformat": 4,
  "nbformat_minor": 5
}

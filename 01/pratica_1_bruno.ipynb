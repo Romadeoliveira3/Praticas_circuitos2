{
 "cells": [
  {
   "cell_type": "code",
   "execution_count": 24,
   "id": "8387f1c1-64db-46ba-9ebf-1ed17ee759d9",
   "metadata": {
    "id": "8387f1c1-64db-46ba-9ebf-1ed17ee759d9"
   },
   "outputs": [],
   "source": [
    "from sympy import *"
   ]
  },
  {
   "cell_type": "code",
   "execution_count": 25,
   "id": "1f586b7f-3117-4213-9c1f-1f4d6b10c59d",
   "metadata": {
    "id": "1f586b7f-3117-4213-9c1f-1f4d6b10c59d"
   },
   "outputs": [],
   "source": [
    "#definição de variáveis\n",
    "# DV = (delta)V\n",
    "Vcc, s, L, Iof, I, R, Vdo, Ioa, Vra, Vfr, t, k, T, V0, V1, DV = symbols('Vcc s L Iof I R Vdo Ioa Vra Vfr t k T V0 V1 DV')"
   ]
  },
  {
   "cell_type": "code",
   "execution_count": 26,
   "id": "a6f7072f-0567-49b3-9609-9ac11dd5c7b8",
   "metadata": {
    "colab": {
     "base_uri": "https://localhost:8080/",
     "height": 52
    },
    "id": "a6f7072f-0567-49b3-9609-9ac11dd5c7b8",
    "outputId": "5baaecc9-1eae-4694-8d25-7af60f4117c6"
   },
   "outputs": [
    {
     "data": {
      "text/latex": [
       "$\\displaystyle - I L s - I R + Iof L + \\frac{Vcc}{s} = 0$"
      ],
      "text/plain": [
       "Eq(-I*L*s - I*R + Iof*L + Vcc/s, 0)"
      ]
     },
     "execution_count": 26,
     "metadata": {},
     "output_type": "execute_result"
    }
   ],
   "source": [
    "# chave aberta\n",
    "Eq1=Eq(Vcc/s -s*L*I + L*Iof - R*I,0)\n",
    "Eq1"
   ]
  },
  {
   "cell_type": "code",
   "execution_count": 27,
   "id": "f05f9b9f-9083-4a29-8e21-773ed7d728e5",
   "metadata": {
    "colab": {
     "base_uri": "https://localhost:8080/",
     "height": 52
    },
    "id": "f05f9b9f-9083-4a29-8e21-773ed7d728e5",
    "outputId": "1ffe7fb1-98f8-4972-8a62-f5223d17a265",
    "scrolled": true
   },
   "outputs": [
    {
     "data": {
      "text/latex": [
       "$\\displaystyle - I L s - I R + Ioa L - \\frac{Vdo}{s} = 0$"
      ],
      "text/plain": [
       "Eq(-I*L*s - I*R + Ioa*L - Vdo/s, 0)"
      ]
     },
     "execution_count": 27,
     "metadata": {},
     "output_type": "execute_result"
    }
   ],
   "source": [
    "# chave fechada\n",
    "Eq2=Eq(-Vdo/s-s*L*I+Ioa*L - R*I,0)\n",
    "Eq2"
   ]
  },
  {
   "cell_type": "code",
   "execution_count": 28,
   "id": "951387b9-887b-46ea-ac00-f4cbd3ea1bf6",
   "metadata": {
    "colab": {
     "base_uri": "https://localhost:8080/"
    },
    "id": "951387b9-887b-46ea-ac00-f4cbd3ea1bf6",
    "outputId": "ecf42659-a4d9-4af5-9cf1-8a8cf8ea39d7"
   },
   "outputs": [
    {
     "data": {
      "text/plain": [
       "[(Iof*L*s + Vcc)/(s*(L*s + R))]"
      ]
     },
     "execution_count": 28,
     "metadata": {},
     "output_type": "execute_result"
    }
   ],
   "source": [
    "# define a corrente no circuito com chave fechada\n",
    "sol1 = solve(Eq1,I)\n",
    "sol1"
   ]
  },
  {
   "cell_type": "code",
   "execution_count": 29,
   "id": "3fde3c92-db75-4b17-b2c5-f562eb3e7347",
   "metadata": {
    "colab": {
     "base_uri": "https://localhost:8080/",
     "height": 57
    },
    "id": "3fde3c92-db75-4b17-b2c5-f562eb3e7347",
    "outputId": "139efa2b-ab8c-4f9e-d4e2-33835c6b25cc"
   },
   "outputs": [
    {
     "data": {
      "text/latex": [
       "$\\displaystyle \\frac{R \\left(Iof L s + Vcc\\right)}{s \\left(L s + R\\right)}$"
      ],
      "text/plain": [
       "R*(Iof*L*s + Vcc)/(s*(L*s + R))"
      ]
     },
     "execution_count": 29,
     "metadata": {},
     "output_type": "execute_result"
    }
   ],
   "source": [
    "# define a tensão no resistor no circuito com chave fechada\n",
    "Vrf=sol1[0]*R\n",
    "Vrf"
   ]
  },
  {
   "cell_type": "code",
   "execution_count": 30,
   "id": "b907cd93-cfe5-4c7f-aca8-718ef65235b0",
   "metadata": {
    "colab": {
     "base_uri": "https://localhost:8080/"
    },
    "id": "b907cd93-cfe5-4c7f-aca8-718ef65235b0",
    "outputId": "e5c3acd6-5291-4110-f16a-573b5f81d6fb"
   },
   "outputs": [
    {
     "data": {
      "text/plain": [
       "[(Ioa*L*s - Vdo)/(s*(L*s + R))]"
      ]
     },
     "execution_count": 30,
     "metadata": {},
     "output_type": "execute_result"
    }
   ],
   "source": [
    "# define a corrente no circuito com chave aberta\n",
    "sol2 = solve(Eq2,I)\n",
    "sol2"
   ]
  },
  {
   "cell_type": "code",
   "execution_count": 31,
   "id": "0e9360f7-080f-4bc9-a1aa-4683ee1d00a0",
   "metadata": {
    "colab": {
     "base_uri": "https://localhost:8080/",
     "height": 57
    },
    "id": "0e9360f7-080f-4bc9-a1aa-4683ee1d00a0",
    "outputId": "171c50b9-2d55-4ffa-df71-94630dc73c2b"
   },
   "outputs": [
    {
     "data": {
      "text/latex": [
       "$\\displaystyle \\frac{R \\left(Ioa L s - Vdo\\right)}{s \\left(L s + R\\right)}$"
      ],
      "text/plain": [
       "R*(Ioa*L*s - Vdo)/(s*(L*s + R))"
      ]
     },
     "execution_count": 31,
     "metadata": {},
     "output_type": "execute_result"
    }
   ],
   "source": [
    "# define a tensão no resistor no circuito com chave aberta\n",
    "Vra=sol2[0]*R\n",
    "Vra"
   ]
  },
  {
   "cell_type": "markdown",
   "id": "eaa3c752-a358-47cf-9b2b-c0fbb549b170",
   "metadata": {
    "id": "eaa3c752-a358-47cf-9b2b-c0fbb549b170"
   },
   "source": [
    "## Análise no Tempo"
   ]
  },
  {
   "cell_type": "code",
   "execution_count": 32,
   "id": "60138996-762e-40da-922b-3dba42424112",
   "metadata": {
    "colab": {
     "base_uri": "https://localhost:8080/",
     "height": 47
    },
    "id": "60138996-762e-40da-922b-3dba42424112",
    "outputId": "5a8caba6-a9ea-48c3-c080-98fa3cc4c1a7",
    "scrolled": true
   },
   "outputs": [
    {
     "data": {
      "text/latex": [
       "$\\displaystyle \\left(Iof R + Vcc e^{\\frac{R t}{L}} - Vcc\\right) e^{- \\frac{R t}{L}}$"
      ],
      "text/plain": [
       "(Iof*R + Vcc*exp(R*t/L) - Vcc)*exp(-R*t/L)"
      ]
     },
     "execution_count": 32,
     "metadata": {},
     "output_type": "execute_result"
    }
   ],
   "source": [
    "# Aplicaremos a transformada inversa de Laplace para obter a tensão no domínio do tempo\n",
    "# Dividimos por Heaviside(t) para elimitar o Euler como função de teta\n",
    "\n",
    "Vrft = simplify(inverse_laplace_transform(Vrf, s, t))/Heaviside(t)\n",
    "Vrft"
   ]
  },
  {
   "cell_type": "code",
   "execution_count": 33,
   "id": "a6ee0ec4-6f54-401c-bdd8-f03702e4c8f0",
   "metadata": {
    "colab": {
     "base_uri": "https://localhost:8080/",
     "height": 47
    },
    "id": "a6ee0ec4-6f54-401c-bdd8-f03702e4c8f0",
    "outputId": "243e7fad-54b4-46ec-deea-a2aa685b955d"
   },
   "outputs": [
    {
     "data": {
      "text/latex": [
       "$\\displaystyle \\left(Ioa R - Vdo e^{\\frac{R t}{L}} + Vdo\\right) e^{- \\frac{R t}{L}}$"
      ],
      "text/plain": [
       "(Ioa*R - Vdo*exp(R*t/L) + Vdo)*exp(-R*t/L)"
      ]
     },
     "execution_count": 33,
     "metadata": {},
     "output_type": "execute_result"
    }
   ],
   "source": [
    "# Aplicaremos a transformada inversa de Laplace para obter a tensão no domínio do tempo\n",
    "# Dividimos por Heaviside(t) para elimitar o Euler como função de teta\n",
    "\n",
    "Vrat = simplify(inverse_laplace_transform(Vra, s, t))/Heaviside(t)\n",
    "Vrat"
   ]
  },
  {
   "cell_type": "markdown",
   "id": "a088a1a7-8b17-487a-9cff-10eb0f358dbe",
   "metadata": {
    "id": "a088a1a7-8b17-487a-9cff-10eb0f358dbe",
    "jp-MarkdownHeadingCollapsed": true
   },
   "source": [
    "## V1 e V2"
   ]
  },
  {
   "cell_type": "code",
   "execution_count": 34,
   "id": "6a5922a4-871d-4b90-99a4-6a19da308b5e",
   "metadata": {
    "colab": {
     "base_uri": "https://localhost:8080/",
     "height": 47
    },
    "id": "6a5922a4-871d-4b90-99a4-6a19da308b5e",
    "outputId": "78e7b68c-a97c-4fa7-f8a3-0f954be7be3b"
   },
   "outputs": [
    {
     "data": {
      "text/latex": [
       "$\\displaystyle \\left(V_{0} + Vcc e^{\\frac{R T k}{L}} - Vcc\\right) e^{- \\frac{R T k}{L}}$"
      ],
      "text/plain": [
       "(V0 + Vcc*exp(R*T*k/L) - Vcc)*exp(-R*T*k/L)"
      ]
     },
     "execution_count": 34,
     "metadata": {},
     "output_type": "execute_result"
    }
   ],
   "source": [
    "# substituindo os valores de em t e na corrente inicial (condição inicial) para definir V1\n",
    "V1=Vrft.subs(t, k*T)\n",
    "V1=V1.subs(Iof, V0/R)\n",
    "V1"
   ]
  },
  {
   "cell_type": "code",
   "execution_count": 35,
   "id": "41b50272-8253-456d-a908-7da2a0923d89",
   "metadata": {
    "colab": {
     "base_uri": "https://localhost:8080/",
     "height": 47
    },
    "id": "41b50272-8253-456d-a908-7da2a0923d89",
    "outputId": "1c8c7ea9-fb6d-4f2d-a41c-d128f8066c5d"
   },
   "outputs": [
    {
     "data": {
      "text/latex": [
       "$\\displaystyle \\left(- Vdo e^{\\frac{R T \\left(1 - k\\right)}{L}} + Vdo + \\left(V_{0} + Vcc e^{\\frac{R T k}{L}} - Vcc\\right) e^{- \\frac{R T k}{L}}\\right) e^{- \\frac{R T \\left(1 - k\\right)}{L}}$"
      ],
      "text/plain": [
       "(-Vdo*exp(R*T*(1 - k)/L) + Vdo + (V0 + Vcc*exp(R*T*k/L) - Vcc)*exp(-R*T*k/L))*exp(-R*T*(1 - k)/L)"
      ]
     },
     "execution_count": 35,
     "metadata": {},
     "output_type": "execute_result"
    }
   ],
   "source": [
    "# substituindo os valores de em t e na corrente inicial (condição inicial) para definir V2\n",
    "\n",
    "V2=Vrat.subs(t, (1-k)*T)\n",
    "V2=V2.subs(Ioa, V1/R)\n",
    "V2"
   ]
  },
  {
   "cell_type": "markdown",
   "id": "4572553c-ad94-4ed4-9dfa-b5fc32bdeccc",
   "metadata": {
    "id": "4572553c-ad94-4ed4-9dfa-b5fc32bdeccc"
   },
   "source": [
    "## Análise em regime permanente"
   ]
  },
  {
   "cell_type": "code",
   "execution_count": 36,
   "id": "7b4da476-82e5-4c64-b1b5-b280c4601a73",
   "metadata": {
    "colab": {
     "base_uri": "https://localhost:8080/",
     "height": 105
    },
    "id": "7b4da476-82e5-4c64-b1b5-b280c4601a73",
    "outputId": "4f5a3653-223a-42a5-d1bf-9fddd4ed4770"
   },
   "outputs": [
    {
     "data": {
      "text/plain": [
       "(Vcc*exp(R*T*k/L)/(exp(R*T/L) - 1) - Vcc/(exp(R*T/L) - 1) - Vdo*exp(R*T/L)/(exp(R*T/L) - 1) + Vdo*exp(R*T*k/L)/(exp(R*T/L) - 1),\n",
       " Vcc*exp(R*T/L)*exp(R*T*k/L)/(exp(R*T/L)*exp(R*T*k/L) - exp(R*T*k/L)) - Vcc*exp(R*T/L)/(exp(R*T/L)*exp(R*T*k/L) - exp(R*T*k/L)) - Vcc*exp(2*R*T*k/L)/(exp(R*T/L)*exp(R*T*k/L) - exp(R*T*k/L)) + Vcc*exp(R*T*k/L)/(exp(R*T/L)*exp(R*T*k/L) - exp(R*T*k/L)) + Vdo*exp(R*T/L)*exp(R*T*k/L)/(exp(R*T/L)*exp(R*T*k/L) - exp(R*T*k/L)) - Vdo*exp(R*T/L)/(exp(R*T/L)*exp(R*T*k/L) - exp(R*T*k/L)) - Vdo*exp(2*R*T*k/L)/(exp(R*T/L)*exp(R*T*k/L) - exp(R*T*k/L)) + Vdo*exp(R*T*k/L)/(exp(R*T/L)*exp(R*T*k/L) - exp(R*T*k/L)))"
      ]
     },
     "execution_count": 36,
     "metadata": {},
     "output_type": "execute_result"
    }
   ],
   "source": [
    "# Achar os valores de V0 e DV\n",
    "# Considerando V2 = V0 e V1 = V0 + DV\n",
    "\n",
    "# V0 + DV = V1\n",
    "prop1 = Eq(V0 + DV, V1)\n",
    "\n",
    "# V0 = V2\n",
    "prop2 = Eq(V0, V2)\n",
    "\n",
    "# solucionando o sistema e obtendo os valores de V0 e DV\n",
    "Vsol = linsolve([prop1, prop2], (V0, DV))\n",
    "Vsol.args[0][0], Vsol.args[0][1]"
   ]
  },
  {
   "cell_type": "markdown",
   "id": "09b389b0-6209-4aa9-9abe-b28081eaf968",
   "metadata": {
    "id": "09b389b0-6209-4aa9-9abe-b28081eaf968"
   },
   "source": [
    "## Série de Taylor e limites"
   ]
  },
  {
   "cell_type": "code",
   "execution_count": 37,
   "id": "156b05bb-8b6a-4def-8da3-e6090023928b",
   "metadata": {
    "colab": {
     "base_uri": "https://localhost:8080/",
     "height": 58
    },
    "id": "156b05bb-8b6a-4def-8da3-e6090023928b",
    "outputId": "54a13be6-772f-402f-ad74-bbc771502d2a"
   },
   "outputs": [
    {
     "data": {
      "text/plain": [
       "(T*(-R*Vcc*k**2/L + R*Vcc*k/L - R*Vdo*k**2/L + R*Vdo*k/L),\n",
       " T*(R*Vcc*k**2/(2*L) - R*Vcc*k/(2*L) + R*Vdo*k**2/(2*L) - R*Vdo*k/(2*L)) + Vcc*k + Vdo*k - Vdo)"
      ]
     },
     "execution_count": 37,
     "metadata": {},
     "output_type": "execute_result"
    }
   ],
   "source": [
    "# aplicando a série de Taylor e os limites DV = Vsol.args[0][1]; V0 = Vsol.args[0][0]\n",
    "tayDV = series(Vsol.args[0][1], T, 0, 2)\n",
    "tayV0 = series(Vsol.args[0][0], T, 0, 2)\n",
    "tayDV.removeO(), tayV0.removeO()"
   ]
  },
  {
   "cell_type": "code",
   "execution_count": 38,
   "id": "0dbe7bf0-de0c-4d7d-bdc7-6beced482a18",
   "metadata": {
    "colab": {
     "base_uri": "https://localhost:8080/",
     "height": 38
    },
    "id": "0dbe7bf0-de0c-4d7d-bdc7-6beced482a18",
    "outputId": "35199f67-dc33-4ce9-aba7-8ceb497dbf47"
   },
   "outputs": [
    {
     "data": {
      "text/plain": [
       "(Vcc*k + Vdo*k - Vdo, 0)"
      ]
     },
     "execution_count": 38,
     "metadata": {},
     "output_type": "execute_result"
    }
   ],
   "source": [
    "# limites\n",
    "limTayDV = limit(Vsol.args[0][1], T, 0, dir=\"+-\")\n",
    "limTayV0 = limit(Vsol.args[0][0], T, 0, dir=\"+-\")\n",
    "limTayV0,limTayDV"
   ]
  },
  {
   "cell_type": "markdown",
   "id": "jOW3DjdtDosB",
   "metadata": {
    "id": "jOW3DjdtDosB"
   },
   "source": [
    "# Valores para o indutor"
   ]
  },
  {
   "cell_type": "code",
   "execution_count": 39,
   "id": "a6c23092-ccde-4c9c-9e96-fe37a8618067",
   "metadata": {
    "colab": {
     "base_uri": "https://localhost:8080/",
     "height": 57
    },
    "id": "a6c23092-ccde-4c9c-9e96-fe37a8618067",
    "outputId": "5cc4caeb-3399-4e7d-a0d2-f920014354c6"
   },
   "outputs": [
    {
     "data": {
      "text/latex": [
       "$\\displaystyle \\frac{1000 R T Vcc k \\left(1 - k\\right)}{Vcc + O\\left(T^{2}\\right)}$"
      ],
      "text/plain": [
       "1000*R*T*Vcc*k*(1 - k)/(Vcc + O(T**2))"
      ]
     },
     "execution_count": 39,
     "metadata": {},
     "output_type": "execute_result"
    }
   ],
   "source": [
    "Lprocurado = Eq(tayDV.subs(Vdo,0), Vcc/1000)\n",
    "Lprocurado = solve(Lprocurado, [L])[0]\n",
    "Lprocurado"
   ]
  },
  {
   "cell_type": "markdown",
   "id": "Wb-Rn54REf3k",
   "metadata": {
    "id": "Wb-Rn54REf3k"
   },
   "source": [
    "# Substituindo os valores"
   ]
  },
  {
   "cell_type": "code",
   "execution_count": 40,
   "id": "SDJ4A7JHEIsc",
   "metadata": {
    "colab": {
     "base_uri": "https://localhost:8080/",
     "height": 39
    },
    "id": "SDJ4A7JHEIsc",
    "outputId": "a5b9faaa-5254-40f0-f9b6-dd98985bb68d"
   },
   "outputs": [
    {
     "data": {
      "text/plain": [
       "(0.625*O(1)**(-1), 0.125*O(1)**(-1))"
      ]
     },
     "execution_count": 40,
     "metadata": {},
     "output_type": "execute_result"
    }
   ],
   "source": [
    "\n",
    "#R = 5 ohm\n",
    "#Feq = 10 kHz\n",
    "#Vcc = 5\n",
    "L1=Lprocurado.subs([(k, 1/2), (R,5), (T, 1/10000),(Vcc, 5)])\n",
    "\n",
    "#Feq = 50 kHz\n",
    "L2=Lprocurado.subs([(k, 1/2), (R,5), (T, 1/50000),(Vcc, 5)])\n",
    "L1,L2"
   ]
  },
  {
   "cell_type": "code",
   "execution_count": 41,
   "id": "f1PZD53bFNuF",
   "metadata": {
    "colab": {
     "base_uri": "https://localhost:8080/",
     "height": 39
    },
    "id": "f1PZD53bFNuF",
    "outputId": "6addec21-a7ed-4f75-f7f3-9269f469377a"
   },
   "outputs": [
    {
     "data": {
      "text/plain": [
       "(0.125*O(1)**(-1), 0.025*O(1)**(-1))"
      ]
     },
     "execution_count": 41,
     "metadata": {},
     "output_type": "execute_result"
    }
   ],
   "source": [
    "#R = 1 ohm\n",
    "#Feq = 10 kHz\n",
    "L3=Lprocurado.subs([(k, 1/2), (R,1), (T, 1/10000),(Vcc, 5)])\n",
    "\n",
    "#Feq = 50 kHz\n",
    "L4=Lprocurado.subs([(k, 1/2), (R,1), (T, 1/50000),(Vcc, 5)])\n",
    "L3,L4\n",
    "\n"
   ]
  },
  {
   "cell_type": "code",
   "execution_count": 42,
   "id": "DEUTJSiPJHL7",
   "metadata": {
    "id": "DEUTJSiPJHL7"
   },
   "outputs": [
    {
     "name": "stdout",
     "output_type": "stream",
     "text": [
      "Resultados para as indutâncias calculadas:\n",
      "L1 (R = 5 ohm, Feq = 10 kHz): 0.625*O(1)**(-1)\n",
      "L2 (R = 5 ohm, Feq = 50 kHz): 0.125*O(1)**(-1)\n",
      "L3 (R = 1 ohm, Feq = 10 kHz): 0.125*O(1)**(-1)\n",
      "L4 (R = 1 ohm, Feq = 50 kHz): 0.025*O(1)**(-1)\n"
     ]
    }
   ],
   "source": [
    "# Imprimindo os resultados\n",
    "print(\"Resultados para as indutâncias calculadas:\")\n",
    "print(f\"L1 (R = 5 ohm, Feq = 10 kHz): {L1.evalf()}\")\n",
    "print(f\"L2 (R = 5 ohm, Feq = 50 kHz): {L2.evalf()}\")\n",
    "print(f\"L3 (R = 1 ohm, Feq = 10 kHz): {L3.evalf()}\")\n",
    "print(f\"L4 (R = 1 ohm, Feq = 50 kHz): {L4.evalf()}\")"
   ]
  },
  {
   "cell_type": "code",
   "execution_count": 43,
   "id": "4d57cf57",
   "metadata": {},
   "outputs": [
    {
     "data": {
      "text/latex": [
       "$\\displaystyle DV = T \\left(\\frac{0.25 Vdo}{L} + \\frac{1.25}{L}\\right)$"
      ],
      "text/plain": [
       "Eq(DV, T*(0.25*Vdo/L + 1.25/L))"
      ]
     },
     "execution_count": 43,
     "metadata": {},
     "output_type": "execute_result"
    }
   ],
   "source": [
    "import sympy as sp\n",
    "expr = tayDV.subs([(k, 1/2), (R,1),(Vcc,5)]).removeO()\n",
    "resss = sp.Eq(DV, expr)\n",
    "resss"
   ]
  },
  {
   "cell_type": "code",
   "execution_count": 44,
   "id": "f323ebd1",
   "metadata": {
    "scrolled": true
   },
   "outputs": [
    {
     "name": "stdout",
     "output_type": "stream",
     "text": [
      "V0 a 50khz\n"
     ]
    },
    {
     "data": {
      "text/latex": [
       "$\\displaystyle V_{0} = 2.49750000083327$"
      ],
      "text/plain": [
       "Eq(V0, 2.49750000083327)"
      ]
     },
     "execution_count": 44,
     "metadata": {},
     "output_type": "execute_result"
    }
   ],
   "source": [
    "print(\"V0 a 50khz\")\n",
    "sp.Eq(V0,Vsol.args[0][0].subs([(k, 1/2), (R,5), (T, 1/50000),(Vcc, 5),(L,0.025),(Vdo,0)]))"
   ]
  },
  {
   "cell_type": "code",
   "execution_count": 45,
   "id": "6fea8b21",
   "metadata": {},
   "outputs": [
    {
     "data": {
      "text/latex": [
       "$\\displaystyle DV = 0.000999999987470801$"
      ],
      "text/plain": [
       "Eq(DV, 0.000999999987470801)"
      ]
     },
     "execution_count": 45,
     "metadata": {},
     "output_type": "execute_result"
    }
   ],
   "source": [
    "sp.Eq(DV,Vsol.args[0][1].subs([(k, 1/2), (R,5), (T, 1/10000),(Vcc, 5),(L,0.625),(Vdo,0)]))"
   ]
  },
  {
   "cell_type": "code",
   "execution_count": 46,
   "id": "e3e236ef",
   "metadata": {
    "scrolled": true
   },
   "outputs": [
    {
     "name": "stdout",
     "output_type": "stream",
     "text": [
      "   R (ohm)  Feq (Hz)  L (H)                V0                    DV\n",
      "0        5   10000.0  0.625  2.49950000000717  0.000999999987470801\n",
      "1        5   50000.0  0.125  2.49950000000717  0.000999999987470801\n",
      "2        1   10000.0  0.125  2.49950000000717  0.000999999987470801\n",
      "3        1   50000.0  0.025  2.49950000000717  0.000999999987470801\n"
     ]
    }
   ],
   "source": [
    "import pandas as pd\n",
    "\n",
    "parametros = [\n",
    "    (5, 1/10000, 0.625),  # R = 5 ohm, Feq = 10 kHz, L = 0.625\n",
    "    (5, 1/50000, 0.125),  # R = 5 ohm, Feq = 50 kHz, L = 0.125\n",
    "    (1, 1/10000, 0.125),  # R = 1 ohm, Feq = 10 kHz, L = 0.125\n",
    "    (1, 1/50000, 0.025)   # R = 1 ohm, Feq = 50 kHz, L = 0.025\n",
    "]\n",
    "\n",
    "# Calculando V0 e DV para cada conjunto de parâmetros\n",
    "resultados = []\n",
    "for R_val, T_val, L_val in parametros:\n",
    "    resultado_V0 = Vsol.args[0][0].subs([(k, 1/2), (R, R_val), (T, T_val), (Vcc, 5), (L, L_val), (Vdo, 0)])\n",
    "    resultado_DV = Vsol.args[0][1].subs([(k, 1/2), (R, R_val), (T, T_val), (Vcc, 5), (L, L_val), (Vdo, 0)])\n",
    "    resultados.append((R_val, T_val**(-1), L_val, resultado_V0, resultado_DV))\n",
    "\n",
    "# Criando um DataFrame a partir da lista de resultados\n",
    "df = pd.DataFrame(resultados, columns=['R (ohm)', 'Feq (Hz)', 'L (H)', 'V0', 'DV'])\n",
    "\n",
    "# Exibindo a tabela\n",
    "print(df)"
   ]
  },
  {
   "cell_type": "code",
   "execution_count": null,
   "id": "3317fb4b",
   "metadata": {},
   "outputs": [],
   "source": []
  }
 ],
 "metadata": {
  "colab": {
   "provenance": []
  },
  "kernelspec": {
   "display_name": "Python 3 (ipykernel)",
   "language": "python",
   "name": "python3"
  },
  "language_info": {
   "codemirror_mode": {
    "name": "ipython",
    "version": 3
   },
   "file_extension": ".py",
   "mimetype": "text/x-python",
   "name": "python",
   "nbconvert_exporter": "python",
   "pygments_lexer": "ipython3",
   "version": "3.12.2"
  }
 },
 "nbformat": 4,
 "nbformat_minor": 5
}

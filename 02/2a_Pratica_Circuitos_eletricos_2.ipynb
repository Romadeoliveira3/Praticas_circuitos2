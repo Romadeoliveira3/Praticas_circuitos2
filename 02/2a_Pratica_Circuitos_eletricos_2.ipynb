{
 "cells": [
  {
   "cell_type": "code",
   "execution_count": 31,
   "id": "d5bbb9a5-62de-487f-9f3a-d1402b9c4b23",
   "metadata": {},
   "outputs": [],
   "source": [
    "from sympy import *\n",
    "import sympy as sp\n",
    "import pandas as pd"
   ]
  },
  {
   "cell_type": "code",
   "execution_count": 32,
   "id": "59740c9e-c480-4ea4-b8e9-d37f8afbdb70",
   "metadata": {},
   "outputs": [],
   "source": [
    "#definição de variáveis\n",
    "Hs, Vi, R1, R2, C, R3, Vo, V1, s, t, w = symbols(\"Hs Vi R1 R2 C R3 Vo V1 s t w\")"
   ]
  },
  {
   "cell_type": "code",
   "execution_count": 33,
   "id": "84e7026f-3d3b-401e-aafe-6bf11d7d2852",
   "metadata": {},
   "outputs": [
    {
     "data": {
      "text/latex": [
       "$\\displaystyle V_{1} = - \\frac{Vo}{C R_{3} s}$"
      ],
      "text/plain": [
       "Eq(V1, -Vo/(C*R3*s))"
      ]
     },
     "execution_count": 33,
     "metadata": {},
     "output_type": "execute_result"
    }
   ],
   "source": [
    "eq1 = Eq(V1, -Vo*(1/(C*s))/R3)\n",
    "eq1"
   ]
  },
  {
   "cell_type": "code",
   "execution_count": 34,
   "id": "ea7fb75a-e6a0-465a-b4df-95c7edc3d342",
   "metadata": {},
   "outputs": [
    {
     "data": {
      "text/latex": [
       "$\\displaystyle \\frac{- V_{1} + Vi}{R_{1}} = C V_{1} s + C s \\left(V_{1} - Vo\\right) + \\frac{V_{1}}{R_{2}}$"
      ],
      "text/plain": [
       "Eq((-V1 + Vi)/R1, C*V1*s + C*s*(V1 - Vo) + V1/R2)"
      ]
     },
     "execution_count": 34,
     "metadata": {},
     "output_type": "execute_result"
    }
   ],
   "source": [
    "eq2 = Eq((Vi-V1)/R1, ((V1-Vo)/(1/(C*s)))+(V1/(1/(C*s)))+(V1/R2))\n",
    "eq2"
   ]
  },
  {
   "cell_type": "code",
   "execution_count": 35,
   "id": "891fcf3d-ee1a-474f-869a-74065d46d894",
   "metadata": {},
   "outputs": [
    {
     "data": {
      "text/latex": [
       "$\\displaystyle \\left\\{\\left( - \\frac{C R_{2} R_{3} Vi s}{C^{2} R_{1} R_{2} R_{3} s^{2} + 2 C R_{1} R_{2} s + R_{1} + R_{2}}, \\  \\frac{R_{2} Vi}{C^{2} R_{1} R_{2} R_{3} s^{2} + 2 C R_{1} R_{2} s + R_{1} + R_{2}}\\right)\\right\\}$"
      ],
      "text/plain": [
       "{(-C*R2*R3*Vi*s/(C**2*R1*R2*R3*s**2 + 2*C*R1*R2*s + R1 + R2), R2*Vi/(C**2*R1*R2*R3*s**2 + 2*C*R1*R2*s + R1 + R2))}"
      ]
     },
     "execution_count": 35,
     "metadata": {},
     "output_type": "execute_result"
    }
   ],
   "source": [
    "eqVo = linsolve([eq1,eq2], (Vo,V1))\n",
    "eqVo"
   ]
  },
  {
   "cell_type": "code",
   "execution_count": 36,
   "id": "0f64e029-b49c-41a6-859d-4f5342169f90",
   "metadata": {},
   "outputs": [
    {
     "data": {
      "text/latex": [
       "$\\displaystyle - \\frac{C R_{2} R_{3} s}{C^{2} R_{1} R_{2} R_{3} s^{2} + 2 C R_{1} R_{2} s + R_{1} + R_{2}}$"
      ],
      "text/plain": [
       "-C*R2*R3*s/(C**2*R1*R2*R3*s**2 + 2*C*R1*R2*s + R1 + R2)"
      ]
     },
     "execution_count": 36,
     "metadata": {},
     "output_type": "execute_result"
    }
   ],
   "source": [
    "# Calculando a função transferência H(s)\n",
    "\n",
    "solVo = eqVo.args[0][0]\n",
    "Hs = solVo/Vi\n",
    "Hs"
   ]
  },
  {
   "cell_type": "code",
   "execution_count": 37,
   "id": "80d5b19e-482b-4522-878d-5c031e0c257a",
   "metadata": {},
   "outputs": [
    {
     "data": {
      "text/latex": [
       "$\\displaystyle - \\frac{i C R_{2} R_{3} w}{- C^{2} R_{1} R_{2} R_{3} w^{2} + 2 i C R_{1} R_{2} w + R_{1} + R_{2}}$"
      ],
      "text/plain": [
       "-I*C*R2*R3*w/(-C**2*R1*R2*R3*w**2 + 2*I*C*R1*R2*w + R1 + R2)"
      ]
     },
     "execution_count": 37,
     "metadata": {},
     "output_type": "execute_result"
    }
   ],
   "source": [
    "# Substituindo s = jw\n",
    "\n",
    "Hjw = Hs.subs(s, I*w)\n",
    "Hjw"
   ]
  },
  {
   "cell_type": "code",
   "execution_count": 38,
   "id": "68bd1ca7-2f00-45c4-9963-041f7c50b299",
   "metadata": {},
   "outputs": [
    {
     "data": {
      "text/latex": [
       "$\\displaystyle \\left|{\\frac{C R_{2} R_{3} w}{- C^{2} R_{1} R_{2} R_{3} w^{2} + 2 i C R_{1} R_{2} w + R_{1} + R_{2}}}\\right|$"
      ],
      "text/plain": [
       "Abs(C*R2*R3*w/(-C**2*R1*R2*R3*w**2 + 2*I*C*R1*R2*w + R1 + R2))"
      ]
     },
     "execution_count": 38,
     "metadata": {},
     "output_type": "execute_result"
    }
   ],
   "source": [
    "abs(Hjw)"
   ]
  },
  {
   "cell_type": "code",
   "execution_count": 39,
   "id": "5a781b01-bdc5-433b-9213-12e82fc1673f",
   "metadata": {},
   "outputs": [
    {
     "data": {
      "text/latex": [
       "$\\displaystyle \\frac{180 \\arg{\\left(- \\frac{i C R_{2} R_{3} w}{- C^{2} R_{1} R_{2} R_{3} w^{2} + 2 i C R_{1} R_{2} w + R_{1} + R_{2}} \\right)}}{\\pi}$"
      ],
      "text/plain": [
       "180*arg(-I*C*R2*R3*w/(-C**2*R1*R2*R3*w**2 + 2*I*C*R1*R2*w + R1 + R2))/pi"
      ]
     },
     "execution_count": 39,
     "metadata": {},
     "output_type": "execute_result"
    }
   ],
   "source": [
    "#resposta em radiano, se liga\n",
    "\n",
    "deg(arg(Hjw))"
   ]
  },
  {
   "cell_type": "code",
   "execution_count": 40,
   "id": "19b72a0b-c638-4273-9cf3-6d0d78cd4d6a",
   "metadata": {},
   "outputs": [
    {
     "data": {
      "text/latex": [
       "$\\displaystyle - \\frac{2.209 i w}{- 0.000103823 w^{2} + 0.04418 i w + 940}$"
      ],
      "text/plain": [
       "-2.209*I*w/(-0.000103823*w**2 + 0.04418*I*w + 940)"
      ]
     },
     "execution_count": 40,
     "metadata": {},
     "output_type": "execute_result"
    }
   ],
   "source": [
    "H_subs=Hjw.subs({C:100e-9, R1:470, R2:470, R3:47e+3})\n",
    "H_subs"
   ]
  },
  {
   "cell_type": "code",
   "execution_count": 41,
   "id": "2f6c7552-b7ee-410e-a556-928afbd82402",
   "metadata": {},
   "outputs": [
    {
     "data": {
      "text/plain": [
       "(0.5947268235758382, -90.6815228100342)"
      ]
     },
     "execution_count": 41,
     "metadata": {},
     "output_type": "execute_result"
    }
   ],
   "source": [
    "#freq 40Hz\n",
    "Mod1=abs(H_subs)\n",
    "Arg1=deg(arg(H_subs))\n",
    "float(Mod1.subs(w,2*pi*40)), float(Arg1.subs(w,2*pi*40))"
   ]
  },
  {
   "cell_type": "code",
   "execution_count": 42,
   "id": "aa2d4352-4ff6-4e18-aa55-d4e5ab712178",
   "metadata": {},
   "outputs": [],
   "source": [
    "#w_40 = arg(0.59) theta(-90°)"
   ]
  },
  {
   "cell_type": "code",
   "execution_count": 53,
   "id": "f97e8ce4",
   "metadata": {},
   "outputs": [
    {
     "data": {
      "text/html": [
       "<div>\n",
       "<style scoped>\n",
       "    .dataframe tbody tr th:only-of-type {\n",
       "        vertical-align: middle;\n",
       "    }\n",
       "\n",
       "    .dataframe tbody tr th {\n",
       "        vertical-align: top;\n",
       "    }\n",
       "\n",
       "    .dataframe thead th {\n",
       "        text-align: right;\n",
       "    }\n",
       "</style>\n",
       "<table border=\"1\" class=\"dataframe\">\n",
       "  <thead>\n",
       "    <tr style=\"text-align: right;\">\n",
       "      <th></th>\n",
       "      <th>Frequência (Hz)</th>\n",
       "      <th>Módulo</th>\n",
       "      <th>Argumento (graus)</th>\n",
       "    </tr>\n",
       "  </thead>\n",
       "  <tbody>\n",
       "    <tr>\n",
       "      <th>0</th>\n",
       "      <td>40</td>\n",
       "      <td>0.594727</td>\n",
       "      <td>-90.681523</td>\n",
       "    </tr>\n",
       "    <tr>\n",
       "      <th>1</th>\n",
       "      <td>100</td>\n",
       "      <td>1.543132</td>\n",
       "      <td>-91.768580</td>\n",
       "    </tr>\n",
       "    <tr>\n",
       "      <th>2</th>\n",
       "      <td>200</td>\n",
       "      <td>3.567860</td>\n",
       "      <td>-94.091944</td>\n",
       "    </tr>\n",
       "    <tr>\n",
       "      <th>3</th>\n",
       "      <td>400</td>\n",
       "      <td>18.195645</td>\n",
       "      <td>-111.340696</td>\n",
       "    </tr>\n",
       "    <tr>\n",
       "      <th>4</th>\n",
       "      <td>480</td>\n",
       "      <td>49.973301</td>\n",
       "      <td>178.127517</td>\n",
       "    </tr>\n",
       "    <tr>\n",
       "      <th>5</th>\n",
       "      <td>550</td>\n",
       "      <td>22.685372</td>\n",
       "      <td>116.981800</td>\n",
       "    </tr>\n",
       "    <tr>\n",
       "      <th>6</th>\n",
       "      <td>1100</td>\n",
       "      <td>3.787440</td>\n",
       "      <td>94.344247</td>\n",
       "    </tr>\n",
       "    <tr>\n",
       "      <th>7</th>\n",
       "      <td>2200</td>\n",
       "      <td>1.614935</td>\n",
       "      <td>91.850901</td>\n",
       "    </tr>\n",
       "    <tr>\n",
       "      <th>8</th>\n",
       "      <td>5500</td>\n",
       "      <td>0.620342</td>\n",
       "      <td>90.710878</td>\n",
       "    </tr>\n",
       "    <tr>\n",
       "      <th>9</th>\n",
       "      <td>11000</td>\n",
       "      <td>0.308422</td>\n",
       "      <td>90.353428</td>\n",
       "    </tr>\n",
       "  </tbody>\n",
       "</table>\n",
       "</div>"
      ],
      "text/plain": [
       "   Frequência (Hz)     Módulo  Argumento (graus)\n",
       "0               40   0.594727         -90.681523\n",
       "1              100   1.543132         -91.768580\n",
       "2              200   3.567860         -94.091944\n",
       "3              400  18.195645        -111.340696\n",
       "4              480  49.973301         178.127517\n",
       "5              550  22.685372         116.981800\n",
       "6             1100   3.787440          94.344247\n",
       "7             2200   1.614935          91.850901\n",
       "8             5500   0.620342          90.710878\n",
       "9            11000   0.308422          90.353428"
      ]
     },
     "execution_count": 53,
     "metadata": {},
     "output_type": "execute_result"
    }
   ],
   "source": [
    "# calcular o módulo e o argumento em cada frequência\n",
    "\n",
    "def calcular_respostas(frequencias):\n",
    "    resultados = []\n",
    "    for freq in frequencias:\n",
    "        omega = 2*pi*freq\n",
    "        Mod = Abs(H_subs)\n",
    "        Arg = deg(arg(H_subs))\n",
    "        Mod_value = float(Mod.subs(w,omega))\n",
    "        Arg_value = float(Arg.subs(w,omega))\n",
    "        resultados.append({'Frequência (Hz)': freq,'Módulo': Mod_value,'Argumento (graus)': Arg_value})\n",
    "\n",
    "    return resultados\n",
    "\n",
    "# Lista de frequencias em Hz\n",
    "frequencias = [40, 100, 200, 400, 480, 550, 1100, 2200, 5500, 11000]\n",
    "resultados = calcular_respostas(frequencias)\n",
    "df = pd.DataFrame(resultados)\n",
    "df"
   ]
  },
  {
   "cell_type": "code",
   "execution_count": null,
   "id": "4e7ae94b",
   "metadata": {},
   "outputs": [],
   "source": []
  }
 ],
 "metadata": {
  "kernelspec": {
   "display_name": "Python 3 (ipykernel)",
   "language": "python",
   "name": "python3"
  },
  "language_info": {
   "codemirror_mode": {
    "name": "ipython",
    "version": 3
   },
   "file_extension": ".py",
   "mimetype": "text/x-python",
   "name": "python",
   "nbconvert_exporter": "python",
   "pygments_lexer": "ipython3",
   "version": "3.12.2"
  }
 },
 "nbformat": 4,
 "nbformat_minor": 5
}

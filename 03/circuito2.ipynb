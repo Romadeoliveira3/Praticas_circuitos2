{
 "cells": [
  {
   "cell_type": "code",
   "execution_count": 1,
   "metadata": {},
   "outputs": [],
   "source": [
    "from sympy import *\n",
    "import pandas as pd\n",
    "import matplotlib.pyplot as plt\n",
    "import numpy as np"
   ]
  },
  {
   "cell_type": "code",
   "execution_count": 2,
   "metadata": {},
   "outputs": [
    {
     "data": {
      "text/latex": [
       "$\\displaystyle c_{1} s va + \\frac{va}{r_{3}} + \\frac{va - vo}{r_{2}} + \\frac{va - vi}{r_{1}} = 0$"
      ],
      "text/plain": [
       "Eq(c1*s*va + va/r3 + (va - vo)/r2 + (va - vi)/r1, 0)"
      ]
     },
     "execution_count": 2,
     "metadata": {},
     "output_type": "execute_result"
    }
   ],
   "source": [
    "H_s, H_jw, mod_H_jw, phi, s, t, vi, vo, va, r1, r2, r3, c1, c2, Hs, w, vt = symbols(\"H_s H_jw |H_jw| phi s t vi vo va r1 r2 r3 c1 c2 Hs w vt\")\n",
    "\n",
    "eq1 = Eq((va-vi)/r1 + ((va-vo)/r2) + (va/(1/(s*c1))) + ((va)/r3), 0)\n",
    "eq1"
   ]
  },
  {
   "cell_type": "code",
   "execution_count": 3,
   "metadata": {},
   "outputs": [
    {
     "data": {
      "text/latex": [
       "$\\displaystyle va = - c_{2} r_{3} s vo$"
      ],
      "text/plain": [
       "Eq(va, -c2*r3*s*vo)"
      ]
     },
     "execution_count": 3,
     "metadata": {},
     "output_type": "execute_result"
    }
   ],
   "source": [
    "eq2 = Eq(va,-r3*(vo/(1/(s*c2))))\n",
    "eq2.simplify()"
   ]
  },
  {
   "cell_type": "code",
   "execution_count": 4,
   "metadata": {},
   "outputs": [
    {
     "data": {
      "text/latex": [
       "$\\displaystyle \\left\\{\\left( - \\frac{r_{2} vi}{c_{1} c_{2} r_{1} r_{2} r_{3} s^{2} + c_{2} r_{1} r_{2} s + c_{2} r_{1} r_{3} s + c_{2} r_{2} r_{3} s + r_{1}}, \\  \\frac{c_{2} r_{2} r_{3} s vi}{c_{1} c_{2} r_{1} r_{2} r_{3} s^{2} + c_{2} r_{1} r_{2} s + c_{2} r_{1} r_{3} s + c_{2} r_{2} r_{3} s + r_{1}}\\right)\\right\\}$"
      ],
      "text/plain": [
       "{(-r2*vi/(c1*c2*r1*r2*r3*s**2 + c2*r1*r2*s + c2*r1*r3*s + c2*r2*r3*s + r1), c2*r2*r3*s*vi/(c1*c2*r1*r2*r3*s**2 + c2*r1*r2*s + c2*r1*r3*s + c2*r2*r3*s + r1))}"
      ]
     },
     "execution_count": 4,
     "metadata": {},
     "output_type": "execute_result"
    }
   ],
   "source": [
    "sol = linsolve([eq1, eq2], (vo,va))\n",
    "sol"
   ]
  },
  {
   "cell_type": "code",
   "execution_count": 5,
   "metadata": {},
   "outputs": [
    {
     "data": {
      "text/latex": [
       "$\\displaystyle H_{s} = - \\frac{r_{2}}{c_{1} c_{2} r_{1} r_{2} r_{3} s^{2} + c_{2} r_{1} r_{2} s + c_{2} r_{1} r_{3} s + c_{2} r_{2} r_{3} s + r_{1}}$"
      ],
      "text/plain": [
       "Eq(H_s, -r2/(c1*c2*r1*r2*r3*s**2 + c2*r1*r2*s + c2*r1*r3*s + c2*r2*r3*s + r1))"
      ]
     },
     "execution_count": 5,
     "metadata": {},
     "output_type": "execute_result"
    }
   ],
   "source": [
    "Vo = sol.args[0][0]\n",
    "\n",
    "Hs = Vo/vi \n",
    "Eq(H_s, Hs)"
   ]
  },
  {
   "cell_type": "code",
   "execution_count": 6,
   "metadata": {},
   "outputs": [
    {
     "data": {
      "text/latex": [
       "$\\displaystyle H_{s} = - \\frac{470000.0}{10.3823 s^{2} + 2650.8 s + 470000.0}$"
      ],
      "text/plain": [
       "Eq(H_s, -470000.0/(10.3823*s**2 + 2650.8*s + 470000.0))"
      ]
     },
     "execution_count": 6,
     "metadata": {},
     "output_type": "execute_result"
    }
   ],
   "source": [
    "Hs_subs = Hs.subs({c1:100e-9, c2: 10e-9, r1:470e3, r2:470e3,r3:47e3})\n",
    "Eq(H_s, Hs_subs).simplify()"
   ]
  },
  {
   "cell_type": "code",
   "execution_count": 7,
   "metadata": {},
   "outputs": [
    {
     "data": {
      "text/latex": [
       "$\\displaystyle H_{jw} = - \\frac{r_{2}}{- c_{1} c_{2} r_{1} r_{2} r_{3} w^{2} + i c_{2} r_{1} r_{2} w + i c_{2} r_{1} r_{3} w + i c_{2} r_{2} r_{3} w + r_{1}}$"
      ],
      "text/plain": [
       "Eq(H_jw, -r2/(-c1*c2*r1*r2*r3*w**2 + I*c2*r1*r2*w + I*c2*r1*r3*w + I*c2*r2*r3*w + r1))"
      ]
     },
     "execution_count": 7,
     "metadata": {},
     "output_type": "execute_result"
    }
   ],
   "source": [
    "# Substituindo s = jw\n",
    "\n",
    "Hjw = Hs.subs(s, I*w)\n",
    "Eq(H_jw,Hjw)"
   ]
  },
  {
   "cell_type": "code",
   "execution_count": 8,
   "metadata": {},
   "outputs": [
    {
     "data": {
      "text/latex": [
       "$\\displaystyle |H_{jw|} = \\frac{470000.0}{\\left|{- 10.3823 w^{2} + 2650.8 i w + 470000.0}\\right|}$"
      ],
      "text/plain": [
       "Eq(|H_jw|, 470000.0/Abs(-10.3823*w**2 + 2650.8*I*w + 470000.0))"
      ]
     },
     "execution_count": 8,
     "metadata": {},
     "output_type": "execute_result"
    }
   ],
   "source": [
    "#Calculando Modulo\n",
    "mod_Hjw = Eq(mod_H_jw,abs(Hjw))\n",
    "mod_Hjw_subs = mod_Hjw.subs({c1:100e-9, c2: 10e-9, r1:470e3, r2:470e3,r3:47e3})\n",
    "mod_Hjw_subs\n"
   ]
  },
  {
   "cell_type": "code",
   "execution_count": 9,
   "metadata": {},
   "outputs": [
    {
     "data": {
      "text/latex": [
       "$\\displaystyle H_{jw} = - \\frac{470000.0}{- 10.3823 w^{2} + 2650.8 i w + 470000.0}$"
      ],
      "text/plain": [
       "Eq(H_jw, -470000.0/(-10.3823*w**2 + 2650.8*I*w + 470000.0))"
      ]
     },
     "execution_count": 9,
     "metadata": {},
     "output_type": "execute_result"
    }
   ],
   "source": [
    "Hjw_subs = Hjw.subs({c1:100e-9, c2: 10e-9, r1:470e3, r2:470e3,r3:47e3})\n",
    "Hjw_denom = denom(Hjw_subs)\n",
    "Hjw_polos = solve(Hjw_denom, w)\n",
    "Hjw_polos\n",
    "Eq(H_jw,Hjw_subs).simplify()"
   ]
  },
  {
   "cell_type": "code",
   "execution_count": 10,
   "metadata": {},
   "outputs": [
    {
     "data": {
      "text/plain": [
       "[-170.212765957447 + 127.659574468085*I, 170.212765957447 + 127.659574468085*I]"
      ]
     },
     "execution_count": 10,
     "metadata": {},
     "output_type": "execute_result"
    }
   ],
   "source": [
    "Hjw_polos"
   ]
  },
  {
   "cell_type": "code",
   "execution_count": 11,
   "metadata": {},
   "outputs": [
    {
     "data": {
      "text/latex": [
       "$\\displaystyle \\phi = \\frac{180 \\arg{\\left(- \\frac{1}{- 10.3823 w^{2} + 2650.8 i w + 470000.0} \\right)}}{\\pi}$"
      ],
      "text/plain": [
       "Eq(phi, 180*arg(-1/(-10.3823*w**2 + 2650.8*I*w + 470000.0))/pi)"
      ]
     },
     "execution_count": 11,
     "metadata": {},
     "output_type": "execute_result"
    }
   ],
   "source": [
    "#resposta em radiano, se liga\n",
    "Fase = Eq(phi,deg(arg(Hjw_subs)))\n",
    "Fase"
   ]
  },
  {
   "cell_type": "code",
   "execution_count": 12,
   "metadata": {},
   "outputs": [
    {
     "data": {
      "text/plain": [
       "(0.6795413111574066, 74.41665699680756)"
      ]
     },
     "execution_count": 12,
     "metadata": {},
     "output_type": "execute_result"
    }
   ],
   "source": [
    "#freq 40Hz\n",
    "Mod1=abs(Hjw_subs)\n",
    "Arg1=deg(arg(Hjw_subs))\n",
    "float(Mod1.subs(w,2*pi*40)), float(Arg1.subs(w,2*pi*40))"
   ]
  },
  {
   "cell_type": "code",
   "execution_count": 13,
   "metadata": {},
   "outputs": [
    {
     "data": {
      "text/html": [
       "<div>\n",
       "<style scoped>\n",
       "    .dataframe tbody tr th:only-of-type {\n",
       "        vertical-align: middle;\n",
       "    }\n",
       "\n",
       "    .dataframe tbody tr th {\n",
       "        vertical-align: top;\n",
       "    }\n",
       "\n",
       "    .dataframe thead th {\n",
       "        text-align: right;\n",
       "    }\n",
       "</style>\n",
       "<table border=\"1\" class=\"dataframe\">\n",
       "  <thead>\n",
       "    <tr style=\"text-align: right;\">\n",
       "      <th></th>\n",
       "      <th>Frequência (Hz)</th>\n",
       "      <th>Módulo_Python</th>\n",
       "      <th>Argumento_Python (Deg)</th>\n",
       "      <th>Período (s)</th>\n",
       "      <th>Yo</th>\n",
       "      <th>Uo</th>\n",
       "      <th>|H(jω)| LTSpice</th>\n",
       "      <th>Fase LTSpice (Deg)</th>\n",
       "    </tr>\n",
       "  </thead>\n",
       "  <tbody>\n",
       "    <tr>\n",
       "      <th>0</th>\n",
       "      <td>0.010000</td>\n",
       "      <td>1.000000e+00</td>\n",
       "      <td>179.979696</td>\n",
       "      <td>100.000000</td>\n",
       "      <td>0.010000</td>\n",
       "      <td>0.010000</td>\n",
       "      <td>1.0</td>\n",
       "      <td>3.600000e-02</td>\n",
       "    </tr>\n",
       "    <tr>\n",
       "      <th>1</th>\n",
       "      <td>0.011768</td>\n",
       "      <td>1.000000e+00</td>\n",
       "      <td>179.976106</td>\n",
       "      <td>84.975344</td>\n",
       "      <td>0.011768</td>\n",
       "      <td>0.011768</td>\n",
       "      <td>1.0</td>\n",
       "      <td>4.985591e-02</td>\n",
       "    </tr>\n",
       "    <tr>\n",
       "      <th>2</th>\n",
       "      <td>0.013849</td>\n",
       "      <td>1.000000e+00</td>\n",
       "      <td>179.971881</td>\n",
       "      <td>72.208090</td>\n",
       "      <td>0.013849</td>\n",
       "      <td>0.013849</td>\n",
       "      <td>1.0</td>\n",
       "      <td>6.904477e-02</td>\n",
       "    </tr>\n",
       "    <tr>\n",
       "      <th>3</th>\n",
       "      <td>0.016298</td>\n",
       "      <td>1.000000e+00</td>\n",
       "      <td>179.966910</td>\n",
       "      <td>61.359073</td>\n",
       "      <td>0.016298</td>\n",
       "      <td>0.016298</td>\n",
       "      <td>1.0</td>\n",
       "      <td>9.561916e-02</td>\n",
       "    </tr>\n",
       "    <tr>\n",
       "      <th>4</th>\n",
       "      <td>0.019179</td>\n",
       "      <td>1.000000e+00</td>\n",
       "      <td>179.961059</td>\n",
       "      <td>52.140083</td>\n",
       "      <td>0.019179</td>\n",
       "      <td>0.019179</td>\n",
       "      <td>1.0</td>\n",
       "      <td>1.324217e-01</td>\n",
       "    </tr>\n",
       "    <tr>\n",
       "      <th>...</th>\n",
       "      <td>...</td>\n",
       "      <td>...</td>\n",
       "      <td>...</td>\n",
       "      <td>...</td>\n",
       "      <td>...</td>\n",
       "      <td>...</td>\n",
       "      <td>...</td>\n",
       "      <td>...</td>\n",
       "    </tr>\n",
       "    <tr>\n",
       "      <th>95</th>\n",
       "      <td>52140.082880</td>\n",
       "      <td>4.217947e-07</td>\n",
       "      <td>0.044653</td>\n",
       "      <td>0.000019</td>\n",
       "      <td>52140.082880</td>\n",
       "      <td>52140.082880</td>\n",
       "      <td>1.0</td>\n",
       "      <td>9.786918e+11</td>\n",
       "    </tr>\n",
       "    <tr>\n",
       "      <th>96</th>\n",
       "      <td>61359.072734</td>\n",
       "      <td>3.045699e-07</td>\n",
       "      <td>0.037944</td>\n",
       "      <td>0.000016</td>\n",
       "      <td>61359.072734</td>\n",
       "      <td>61359.072734</td>\n",
       "      <td>1.0</td>\n",
       "      <td>1.355377e+12</td>\n",
       "    </tr>\n",
       "    <tr>\n",
       "      <th>97</th>\n",
       "      <td>72208.090184</td>\n",
       "      <td>2.199241e-07</td>\n",
       "      <td>0.032243</td>\n",
       "      <td>0.000014</td>\n",
       "      <td>72208.090184</td>\n",
       "      <td>72208.090184</td>\n",
       "      <td>1.0</td>\n",
       "      <td>1.877043e+12</td>\n",
       "    </tr>\n",
       "    <tr>\n",
       "      <th>98</th>\n",
       "      <td>84975.343591</td>\n",
       "      <td>1.588030e-07</td>\n",
       "      <td>0.027399</td>\n",
       "      <td>0.000012</td>\n",
       "      <td>84975.343591</td>\n",
       "      <td>84975.343591</td>\n",
       "      <td>1.0</td>\n",
       "      <td>2.599491e+12</td>\n",
       "    </tr>\n",
       "    <tr>\n",
       "      <th>99</th>\n",
       "      <td>100000.000000</td>\n",
       "      <td>1.146686e-07</td>\n",
       "      <td>0.023282</td>\n",
       "      <td>0.000010</td>\n",
       "      <td>100000.000000</td>\n",
       "      <td>100000.000000</td>\n",
       "      <td>1.0</td>\n",
       "      <td>3.600000e+12</td>\n",
       "    </tr>\n",
       "  </tbody>\n",
       "</table>\n",
       "<p>100 rows × 8 columns</p>\n",
       "</div>"
      ],
      "text/plain": [
       "    Frequência (Hz)  Módulo_Python  Argumento_Python (Deg)  Período (s)  \\\n",
       "0          0.010000   1.000000e+00              179.979696   100.000000   \n",
       "1          0.011768   1.000000e+00              179.976106    84.975344   \n",
       "2          0.013849   1.000000e+00              179.971881    72.208090   \n",
       "3          0.016298   1.000000e+00              179.966910    61.359073   \n",
       "4          0.019179   1.000000e+00              179.961059    52.140083   \n",
       "..              ...            ...                     ...          ...   \n",
       "95     52140.082880   4.217947e-07                0.044653     0.000019   \n",
       "96     61359.072734   3.045699e-07                0.037944     0.000016   \n",
       "97     72208.090184   2.199241e-07                0.032243     0.000014   \n",
       "98     84975.343591   1.588030e-07                0.027399     0.000012   \n",
       "99    100000.000000   1.146686e-07                0.023282     0.000010   \n",
       "\n",
       "               Yo             Uo  |H(jω)| LTSpice  Fase LTSpice (Deg)  \n",
       "0        0.010000       0.010000              1.0        3.600000e-02  \n",
       "1        0.011768       0.011768              1.0        4.985591e-02  \n",
       "2        0.013849       0.013849              1.0        6.904477e-02  \n",
       "3        0.016298       0.016298              1.0        9.561916e-02  \n",
       "4        0.019179       0.019179              1.0        1.324217e-01  \n",
       "..            ...            ...              ...                 ...  \n",
       "95   52140.082880   52140.082880              1.0        9.786918e+11  \n",
       "96   61359.072734   61359.072734              1.0        1.355377e+12  \n",
       "97   72208.090184   72208.090184              1.0        1.877043e+12  \n",
       "98   84975.343591   84975.343591              1.0        2.599491e+12  \n",
       "99  100000.000000  100000.000000              1.0        3.600000e+12  \n",
       "\n",
       "[100 rows x 8 columns]"
      ]
     },
     "execution_count": 13,
     "metadata": {},
     "output_type": "execute_result"
    }
   ],
   "source": [
    "# calcular o módulo e o argumento em cada frequência\n",
    "\n",
    "def calcular_respostas(frequencias, Yo, Uo, cursor_diff_2_1):\n",
    "    resultados = []\n",
    "    for i, freq in enumerate(frequencias):  # Usando enumerate para indexar corretamente\n",
    "        omega = 2 * pi * freq\n",
    "        Mod = abs(Hjw_subs)\n",
    "        Arg = deg(arg(Hjw_subs))\n",
    "        Mod_value = float(Mod.subs(w, omega))\n",
    "        Arg_value = float(Arg.subs(w, omega))\n",
    "        Periodo = 1 / freq\n",
    "        Mod_Hjw = Yo[i] / Uo[i] \n",
    "        Phase = 360*cursor_diff_2_1[i]/Periodo\n",
    "\n",
    "        resultados.append({\n",
    "            'Frequência (Hz)': freq,\n",
    "            'Módulo_Python': Mod_value,\n",
    "            'Argumento_Python (Deg)': Arg_value,\n",
    "            'Período (s)': Periodo,\n",
    "            'Yo': Yo[i],\n",
    "            'Uo': Uo[i],\n",
    "            '|H(jω)| LTSpice': abs(Mod_Hjw),\n",
    "            \"Fase LTSpice (Deg)\": Phase\n",
    "        })\n",
    "\n",
    "    return resultados\n",
    "\n",
    "# Lista de frequencias em Hz\n",
    "# frequencias = [0.01, 0.1, 1, 10, 100, 1000]\n",
    "frequencias = np.logspace(-2, 5, num=100)\n",
    "Yo = np.logspace(-2, 5, num=100)\n",
    "Uo = np.logspace(-2, 5, num=100)\n",
    "cursor_diff_2_1 = np.logspace(-2, 5, num=100)\n",
    "\n",
    "resultados = calcular_respostas(frequencias, Yo, Uo, cursor_diff_2_1)\n",
    "df = pd.DataFrame(resultados)\n",
    "df"
   ]
  },
  {
   "cell_type": "code",
   "execution_count": 14,
   "metadata": {},
   "outputs": [
    {
     "data": {
      "image/png": "[encoded data removed]",
      "text/plain": [
       "<Figure size 1000x1000 with 2 Axes>"
      ]
     },
     "metadata": {},
     "output_type": "display_data"
    }
   ],
   "source": [
    "# Convertendo módulo para dB \n",
    "df['Módulo_Python'] = 20 * np.log10(df['Módulo_Python'])\n",
    "\n",
    "# Plotando o diagrama de Bode\n",
    "fig, axs = plt.subplots(2, 1, figsize=(10, 10))\n",
    "\n",
    "# Módulo em dB\n",
    "axs[0].semilogx(df['Frequência (Hz)'], df['Módulo_Python'], marker='o', linestyle='-')\n",
    "axs[0].set_title('Módulo Python (dB) vs Frequência')\n",
    "axs[0].set_xlabel('Frequência (Hz)')\n",
    "axs[0].set_ylabel('Magnitude (dB)')\n",
    "axs[0].grid(True, which=\"both\", ls=\"-\")\n",
    "\n",
    "# Fase em graus\n",
    "axs[1].semilogx(df['Frequência (Hz)'], df['Argumento_Python (Deg)'], marker='o', linestyle='-')\n",
    "axs[1].set_title('Fase Python (Deg) vs Frequência')\n",
    "axs[1].set_xlabel('Frequência (Hz)')\n",
    "axs[1].set_ylabel('Fase (Deg)')\n",
    "axs[1].grid(True, which=\"both\", ls=\"-\")\n",
    "\n",
    "plt.tight_layout()\n",
    "plt.show()"
   ]
  },
  {
   "cell_type": "code",
   "execution_count": 15,
   "metadata": {},
   "outputs": [
    {
     "data": {
      "text/plain": [
       "46"
      ]
     },
     "execution_count": 15,
     "metadata": {},
     "output_type": "execute_result"
    }
   ],
   "source": [
    "arrayAbsHj2pif = df['Módulo_Python']\n",
    "np.argmax(arrayAbsHj2pif)"
   ]
  },
  {
   "cell_type": "code",
   "execution_count": 16,
   "metadata": {},
   "outputs": [
    {
     "data": {
      "text/latex": [
       "$\\displaystyle - \\frac{2350000.0}{s \\left(10.3823 s^{2} + 2650.8 s + 470000.0\\right)}$"
      ],
      "text/plain": [
       "-2350000.0/(s*(10.3823*s**2 + 2650.8*s + 470000.0))"
      ]
     },
     "execution_count": 16,
     "metadata": {},
     "output_type": "execute_result"
    }
   ],
   "source": [
    "Hs_sub_deg = Hs_subs*5*(1/s)\n",
    "\n",
    "Hs_sub_deg"
   ]
  },
  {
   "cell_type": "code",
   "execution_count": 17,
   "metadata": {},
   "outputs": [
    {
     "data": {
      "text/latex": [
       "$\\displaystyle - 2350000.0 \\left(- 1.59574468085106 \\cdot 10^{-6} e^{- 127.659574468085 t} \\sin{\\left(170.212765957447 t \\right)} - 2.12765957446809 \\cdot 10^{-6} e^{- 127.659574468085 t} \\cos{\\left(170.212765957447 t \\right)}\\right) \\theta\\left(t\\right) - 5.0 \\theta\\left(t\\right)$"
      ],
      "text/plain": [
       "-2350000.0*(-1.59574468085106e-6*exp(-127.659574468085*t)*sin(170.212765957447*t) - 2.12765957446809e-6*exp(-127.659574468085*t)*cos(170.212765957447*t))*Heaviside(t) - 5.0*Heaviside(t)"
      ]
     },
     "execution_count": 17,
     "metadata": {},
     "output_type": "execute_result"
    }
   ],
   "source": [
    "#Transformada inversa de Laplace\n",
    "vt = inverse_laplace_transform(Hs_sub_deg, s, t)\n",
    "vt"
   ]
  },
  {
   "cell_type": "code",
   "execution_count": 18,
   "metadata": {},
   "outputs": [
    {
     "data": {
      "text/latex": [
       "$\\displaystyle H_{s} = - \\frac{470000.0}{10.3823 s^{2} + 2650.8 s + 470000.0}$"
      ],
      "text/plain": [
       "Eq(H_s, -470000.0/(10.3823*s**2 + 2650.8*s + 470000.0))"
      ]
     },
     "execution_count": 18,
     "metadata": {},
     "output_type": "execute_result"
    }
   ],
   "source": [
    "Eq(H_s, Hs_subs)"
   ]
  },
  {
   "cell_type": "code",
   "execution_count": 19,
   "metadata": {},
   "outputs": [
    {
     "data": {
      "image/png": "[encoded data removed]",
      "text/plain": [
       "<Figure size 1000x600 with 1 Axes>"
      ]
     },
     "metadata": {},
     "output_type": "display_data"
    }
   ],
   "source": [
    "# Realizando a transformação inversa de Laplace\n",
    "vt = inverse_laplace_transform(Hs_sub_deg, s, t)\n",
    "\n",
    "# Convertendo a expressão simbólica para uma função numérica\n",
    "v_t_func = lambdify(t, vt, 'numpy')\n",
    "\n",
    "# Definindo o vetor de tempo de 0 a 5 segundos\n",
    "t_vals = np.linspace(0, 0.1, 100)\n",
    "v_t_vals = v_t_func(t_vals)\n",
    "\n",
    "# Plotando a resposta ao degrau\n",
    "plt.figure(figsize=(10, 6))\n",
    "plt.plot(t_vals, v_t_vals, label='Resposta ao Degrau')\n",
    "plt.title('Resposta ao Degrau para 0 ≤ t ≤ 5s')\n",
    "plt.xlabel('Tempo (s)')\n",
    "plt.ylabel('v(t)')\n",
    "plt.grid(True)\n",
    "plt.legend()\n",
    "plt.show()\n"
   ]
  },
  {
   "cell_type": "code",
   "execution_count": 20,
   "metadata": {},
   "outputs": [],
   "source": [
    "\n",
    "# Determinando o valor de regime permanente\n",
    "lam_Vo_t = lambdify(t, vt)\n",
    "t_vals= np.linspace(0,0.5, 1000)\n",
    "Vo_vals= lam_Vo_t(t_vals)\n"
   ]
  },
  {
   "cell_type": "code",
   "execution_count": 21,
   "metadata": {},
   "outputs": [
    {
     "data": {
      "text/latex": [
       "$\\displaystyle -5.0$"
      ],
      "text/plain": [
       "-5.00000000000000"
      ]
     },
     "execution_count": 21,
     "metadata": {},
     "output_type": "execute_result"
    }
   ],
   "source": [
    "valor_regime_permanente = vt.subs(t,2)\n",
    "valor_regime_permanente"
   ]
  },
  {
   "cell_type": "code",
   "execution_count": 22,
   "metadata": {},
   "outputs": [
    {
     "data": {
      "text/plain": [
       "(array([0.0025025]), array([0.01101101]))"
      ]
     },
     "execution_count": 22,
     "metadata": {},
     "output_type": "execute_result"
    }
   ],
   "source": [
    "t_10 = t_vals[np.where(np.isclose(-5*0.1, Vo_vals, atol=1e-1))]\n",
    "t_90 = t_vals[np.where(np.isclose(-5*0.9, Vo_vals, atol=1e-1))]\n",
    "\n",
    "t_10,t_90"
   ]
  },
  {
   "cell_type": "code",
   "execution_count": 23,
   "metadata": {},
   "outputs": [
    {
     "data": {
      "text/latex": [
       "$\\displaystyle - 2350000.0 \\left(- 1.59574468085106 \\cdot 10^{-6} e^{- 127.659574468085 t} \\sin{\\left(170.212765957447 t \\right)} - 2.12765957446809 \\cdot 10^{-6} e^{- 127.659574468085 t} \\cos{\\left(170.212765957447 t \\right)}\\right) \\theta\\left(t\\right) - 5.0 \\theta\\left(t\\right)$"
      ],
      "text/plain": [
       "-2350000.0*(-1.59574468085106e-6*exp(-127.659574468085*t)*sin(170.212765957447*t) - 2.12765957446809e-6*exp(-127.659574468085*t)*cos(170.212765957447*t))*Heaviside(t) - 5.0*Heaviside(t)"
      ]
     },
     "execution_count": 23,
     "metadata": {},
     "output_type": "execute_result"
    }
   ],
   "source": [
    "#Transformada inversa de Laplace\n",
    "vt = inverse_laplace_transform(Hs_sub_deg, s, t)\n",
    "vt"
   ]
  },
  {
   "cell_type": "code",
   "execution_count": 24,
   "metadata": {},
   "outputs": [
    {
     "data": {
      "text/plain": [
       "(-0.566179061974448, -4.48880082565333)"
      ]
     },
     "execution_count": 24,
     "metadata": {},
     "output_type": "execute_result"
    }
   ],
   "source": [
    "vt_10 = vt.subs(t,0.0025025)\n",
    "vt_90 = vt.subs(t,0.01101101)\n",
    "\n",
    "vt_10, vt_90"
   ]
  },
  {
   "cell_type": "code",
   "execution_count": 25,
   "metadata": {},
   "outputs": [
    {
     "data": {
      "text/plain": [
       "(array([0.01251251, 0.01301301, 0.02952953, 0.03003003, 0.03053053,\n",
       "        0.03103103, 0.03153153, 0.03203203, 0.03253253, 0.03303303,\n",
       "        0.03353353, 0.03403403, 0.03453453, 0.03503504, 0.03553554,\n",
       "        0.03603604, 0.03653654, 0.03703704, 0.03753754, 0.03803804,\n",
       "        0.03853854, 0.03903904, 0.03953954, 0.04004004, 0.04054054,\n",
       "        0.04104104, 0.04154154, 0.04204204, 0.04254254, 0.04304304,\n",
       "        0.04354354, 0.04404404, 0.04454454, 0.04504505, 0.04554555,\n",
       "        0.04604605, 0.04654655, 0.04704705, 0.04754755, 0.04804805,\n",
       "        0.04854855, 0.04904905, 0.04954955, 0.05005005, 0.05055055,\n",
       "        0.05105105, 0.05155155, 0.05205205, 0.05255255, 0.05305305,\n",
       "        0.05355355, 0.05405405, 0.05455455, 0.05505506, 0.05555556,\n",
       "        0.05605606, 0.05655656, 0.05705706, 0.05755756, 0.05805806,\n",
       "        0.05855856, 0.05905906, 0.05955956, 0.06006006, 0.06056056,\n",
       "        0.06106106, 0.06156156, 0.06206206, 0.06256256, 0.06306306,\n",
       "        0.06356356, 0.06406406, 0.06456456, 0.06506507, 0.06556557,\n",
       "        0.06606607, 0.06656657, 0.06706707, 0.06756757, 0.06806807,\n",
       "        0.06856857, 0.06906907, 0.06956957, 0.07007007, 0.07057057,\n",
       "        0.07107107, 0.07157157, 0.07207207, 0.07257257, 0.07307307,\n",
       "        0.07357357, 0.07407407, 0.07457457, 0.07507508, 0.07557558,\n",
       "        0.07607608, 0.07657658, 0.07707708, 0.07757758, 0.07807808,\n",
       "        0.07857858, 0.07907908, 0.07957958, 0.08008008, 0.08058058,\n",
       "        0.08108108, 0.08158158, 0.08208208, 0.08258258, 0.08308308,\n",
       "        0.08358358, 0.08408408, 0.08458458, 0.08508509, 0.08558559,\n",
       "        0.08608609, 0.08658659, 0.08708709, 0.08758759, 0.08808809,\n",
       "        0.08858859, 0.08908909, 0.08958959, 0.09009009, 0.09059059,\n",
       "        0.09109109, 0.09159159, 0.09209209, 0.09259259, 0.09309309,\n",
       "        0.09359359, 0.09409409, 0.09459459, 0.0950951 , 0.0955956 ,\n",
       "        0.0960961 , 0.0965966 , 0.0970971 , 0.0975976 , 0.0980981 ,\n",
       "        0.0985986 , 0.0990991 , 0.0995996 , 0.1001001 , 0.1006006 ,\n",
       "        0.1011011 , 0.1016016 , 0.1021021 , 0.1026026 , 0.1031031 ,\n",
       "        0.1036036 , 0.1041041 , 0.1046046 , 0.10510511, 0.10560561,\n",
       "        0.10610611, 0.10660661, 0.10710711, 0.10760761, 0.10810811,\n",
       "        0.10860861, 0.10910911, 0.10960961, 0.11011011, 0.11061061,\n",
       "        0.11111111, 0.11161161, 0.11211211, 0.11261261, 0.11311311,\n",
       "        0.11361361, 0.11411411, 0.11461461, 0.11511512, 0.11561562,\n",
       "        0.11611612, 0.11661662, 0.11711712, 0.11761762, 0.11811812,\n",
       "        0.11861862, 0.11911912, 0.11961962, 0.12012012, 0.12062062,\n",
       "        0.12112112, 0.12162162, 0.12212212, 0.12262262, 0.12312312,\n",
       "        0.12362362, 0.12412412, 0.12462462, 0.12512513, 0.12562563,\n",
       "        0.12612613, 0.12662663, 0.12712713, 0.12762763, 0.12812813,\n",
       "        0.12862863, 0.12912913, 0.12962963, 0.13013013, 0.13063063,\n",
       "        0.13113113, 0.13163163, 0.13213213, 0.13263263, 0.13313313,\n",
       "        0.13363363, 0.13413413, 0.13463463, 0.13513514, 0.13563564,\n",
       "        0.13613614, 0.13663664, 0.13713714, 0.13763764, 0.13813814,\n",
       "        0.13863864, 0.13913914, 0.13963964, 0.14014014, 0.14064064,\n",
       "        0.14114114, 0.14164164, 0.14214214, 0.14264264, 0.14314314,\n",
       "        0.14364364, 0.14414414, 0.14464464, 0.14514515, 0.14564565,\n",
       "        0.14614615, 0.14664665, 0.14714715, 0.14764765, 0.14814815,\n",
       "        0.14864865, 0.14914915, 0.14964965, 0.15015015, 0.15065065,\n",
       "        0.15115115, 0.15165165, 0.15215215, 0.15265265, 0.15315315,\n",
       "        0.15365365, 0.15415415, 0.15465465, 0.15515516, 0.15565566,\n",
       "        0.15615616, 0.15665666, 0.15715716, 0.15765766, 0.15815816,\n",
       "        0.15865866, 0.15915916, 0.15965966, 0.16016016, 0.16066066,\n",
       "        0.16116116, 0.16166166, 0.16216216, 0.16266266, 0.16316316,\n",
       "        0.16366366, 0.16416416, 0.16466466, 0.16516517, 0.16566567,\n",
       "        0.16616617, 0.16666667, 0.16716717, 0.16766767, 0.16816817,\n",
       "        0.16866867, 0.16916917, 0.16966967, 0.17017017, 0.17067067,\n",
       "        0.17117117, 0.17167167, 0.17217217, 0.17267267, 0.17317317,\n",
       "        0.17367367, 0.17417417, 0.17467467, 0.17517518, 0.17567568,\n",
       "        0.17617618, 0.17667668, 0.17717718, 0.17767768, 0.17817818,\n",
       "        0.17867868, 0.17917918, 0.17967968, 0.18018018, 0.18068068,\n",
       "        0.18118118, 0.18168168, 0.18218218, 0.18268268, 0.18318318,\n",
       "        0.18368368, 0.18418418, 0.18468468, 0.18518519, 0.18568569,\n",
       "        0.18618619, 0.18668669, 0.18718719, 0.18768769, 0.18818819,\n",
       "        0.18868869, 0.18918919, 0.18968969, 0.19019019, 0.19069069,\n",
       "        0.19119119, 0.19169169, 0.19219219, 0.19269269, 0.19319319,\n",
       "        0.19369369, 0.19419419, 0.19469469, 0.1951952 , 0.1956957 ,\n",
       "        0.1961962 , 0.1966967 , 0.1971972 , 0.1976977 , 0.1981982 ,\n",
       "        0.1986987 , 0.1991992 , 0.1996997 , 0.2002002 , 0.2007007 ,\n",
       "        0.2012012 , 0.2017017 , 0.2022022 , 0.2027027 , 0.2032032 ,\n",
       "        0.2037037 , 0.2042042 , 0.2047047 , 0.20520521, 0.20570571,\n",
       "        0.20620621, 0.20670671, 0.20720721, 0.20770771, 0.20820821,\n",
       "        0.20870871, 0.20920921, 0.20970971, 0.21021021, 0.21071071,\n",
       "        0.21121121, 0.21171171, 0.21221221, 0.21271271, 0.21321321,\n",
       "        0.21371371, 0.21421421, 0.21471471, 0.21521522, 0.21571572,\n",
       "        0.21621622, 0.21671672, 0.21721722, 0.21771772, 0.21821822,\n",
       "        0.21871872, 0.21921922, 0.21971972, 0.22022022, 0.22072072,\n",
       "        0.22122122, 0.22172172, 0.22222222, 0.22272272, 0.22322322,\n",
       "        0.22372372, 0.22422422, 0.22472472, 0.22522523, 0.22572573,\n",
       "        0.22622623, 0.22672673, 0.22722723, 0.22772773, 0.22822823,\n",
       "        0.22872873, 0.22922923, 0.22972973, 0.23023023, 0.23073073,\n",
       "        0.23123123, 0.23173173, 0.23223223, 0.23273273, 0.23323323,\n",
       "        0.23373373, 0.23423423, 0.23473473, 0.23523524, 0.23573574,\n",
       "        0.23623624, 0.23673674, 0.23723724, 0.23773774, 0.23823824,\n",
       "        0.23873874, 0.23923924, 0.23973974, 0.24024024, 0.24074074,\n",
       "        0.24124124, 0.24174174, 0.24224224, 0.24274274, 0.24324324,\n",
       "        0.24374374, 0.24424424, 0.24474474, 0.24524525, 0.24574575,\n",
       "        0.24624625, 0.24674675, 0.24724725, 0.24774775, 0.24824825,\n",
       "        0.24874875, 0.24924925, 0.24974975, 0.25025025, 0.25075075,\n",
       "        0.25125125, 0.25175175, 0.25225225, 0.25275275, 0.25325325,\n",
       "        0.25375375, 0.25425425, 0.25475475, 0.25525526, 0.25575576,\n",
       "        0.25625626, 0.25675676, 0.25725726, 0.25775776, 0.25825826,\n",
       "        0.25875876, 0.25925926, 0.25975976, 0.26026026, 0.26076076,\n",
       "        0.26126126, 0.26176176, 0.26226226, 0.26276276, 0.26326326,\n",
       "        0.26376376, 0.26426426, 0.26476476, 0.26526527, 0.26576577,\n",
       "        0.26626627, 0.26676677, 0.26726727, 0.26776777, 0.26826827,\n",
       "        0.26876877, 0.26926927, 0.26976977, 0.27027027, 0.27077077,\n",
       "        0.27127127, 0.27177177, 0.27227227, 0.27277277, 0.27327327,\n",
       "        0.27377377, 0.27427427, 0.27477477, 0.27527528, 0.27577578,\n",
       "        0.27627628, 0.27677678, 0.27727728, 0.27777778, 0.27827828,\n",
       "        0.27877878, 0.27927928, 0.27977978, 0.28028028, 0.28078078,\n",
       "        0.28128128, 0.28178178, 0.28228228, 0.28278278, 0.28328328,\n",
       "        0.28378378, 0.28428428, 0.28478478, 0.28528529, 0.28578579,\n",
       "        0.28628629, 0.28678679, 0.28728729, 0.28778779, 0.28828829,\n",
       "        0.28878879, 0.28928929, 0.28978979, 0.29029029, 0.29079079,\n",
       "        0.29129129, 0.29179179, 0.29229229, 0.29279279, 0.29329329,\n",
       "        0.29379379, 0.29429429, 0.29479479, 0.2952953 , 0.2957958 ,\n",
       "        0.2962963 , 0.2967968 , 0.2972973 , 0.2977978 , 0.2982983 ,\n",
       "        0.2987988 , 0.2992993 , 0.2997998 , 0.3003003 , 0.3008008 ,\n",
       "        0.3013013 , 0.3018018 , 0.3023023 , 0.3028028 , 0.3033033 ,\n",
       "        0.3038038 , 0.3043043 , 0.3048048 , 0.30530531, 0.30580581,\n",
       "        0.30630631, 0.30680681, 0.30730731, 0.30780781, 0.30830831,\n",
       "        0.30880881, 0.30930931, 0.30980981, 0.31031031, 0.31081081,\n",
       "        0.31131131, 0.31181181, 0.31231231, 0.31281281, 0.31331331,\n",
       "        0.31381381, 0.31431431, 0.31481481, 0.31531532, 0.31581582,\n",
       "        0.31631632, 0.31681682, 0.31731732, 0.31781782, 0.31831832,\n",
       "        0.31881882, 0.31931932, 0.31981982, 0.32032032, 0.32082082,\n",
       "        0.32132132, 0.32182182, 0.32232232, 0.32282282, 0.32332332,\n",
       "        0.32382382, 0.32432432, 0.32482482, 0.32532533, 0.32582583,\n",
       "        0.32632633, 0.32682683, 0.32732733, 0.32782783, 0.32832833,\n",
       "        0.32882883, 0.32932933, 0.32982983, 0.33033033, 0.33083083,\n",
       "        0.33133133, 0.33183183, 0.33233233, 0.33283283, 0.33333333,\n",
       "        0.33383383, 0.33433433, 0.33483483, 0.33533534, 0.33583584,\n",
       "        0.33633634, 0.33683684, 0.33733734, 0.33783784, 0.33833834,\n",
       "        0.33883884, 0.33933934, 0.33983984, 0.34034034, 0.34084084,\n",
       "        0.34134134, 0.34184184, 0.34234234, 0.34284284, 0.34334334,\n",
       "        0.34384384, 0.34434434, 0.34484484, 0.34534535, 0.34584585,\n",
       "        0.34634635, 0.34684685, 0.34734735, 0.34784785, 0.34834835,\n",
       "        0.34884885, 0.34934935, 0.34984985, 0.35035035, 0.35085085,\n",
       "        0.35135135, 0.35185185, 0.35235235, 0.35285285, 0.35335335,\n",
       "        0.35385385, 0.35435435, 0.35485485, 0.35535536, 0.35585586,\n",
       "        0.35635636, 0.35685686, 0.35735736, 0.35785786, 0.35835836,\n",
       "        0.35885886, 0.35935936, 0.35985986, 0.36036036, 0.36086086,\n",
       "        0.36136136, 0.36186186, 0.36236236, 0.36286286, 0.36336336,\n",
       "        0.36386386, 0.36436436, 0.36486486, 0.36536537, 0.36586587,\n",
       "        0.36636637, 0.36686687, 0.36736737, 0.36786787, 0.36836837,\n",
       "        0.36886887, 0.36936937, 0.36986987, 0.37037037, 0.37087087,\n",
       "        0.37137137, 0.37187187, 0.37237237, 0.37287287, 0.37337337,\n",
       "        0.37387387, 0.37437437, 0.37487487, 0.37537538, 0.37587588,\n",
       "        0.37637638, 0.37687688, 0.37737738, 0.37787788, 0.37837838,\n",
       "        0.37887888, 0.37937938, 0.37987988, 0.38038038, 0.38088088,\n",
       "        0.38138138, 0.38188188, 0.38238238, 0.38288288, 0.38338338,\n",
       "        0.38388388, 0.38438438, 0.38488488, 0.38538539, 0.38588589,\n",
       "        0.38638639, 0.38688689, 0.38738739, 0.38788789, 0.38838839,\n",
       "        0.38888889, 0.38938939, 0.38988989, 0.39039039, 0.39089089,\n",
       "        0.39139139, 0.39189189, 0.39239239, 0.39289289, 0.39339339,\n",
       "        0.39389389, 0.39439439, 0.39489489, 0.3953954 , 0.3958959 ,\n",
       "        0.3963964 , 0.3968969 , 0.3973974 , 0.3978979 , 0.3983984 ,\n",
       "        0.3988989 , 0.3993994 , 0.3998999 , 0.4004004 , 0.4009009 ,\n",
       "        0.4014014 , 0.4019019 , 0.4024024 , 0.4029029 , 0.4034034 ,\n",
       "        0.4039039 , 0.4044044 , 0.4049049 , 0.40540541, 0.40590591,\n",
       "        0.40640641, 0.40690691, 0.40740741, 0.40790791, 0.40840841,\n",
       "        0.40890891, 0.40940941, 0.40990991, 0.41041041, 0.41091091,\n",
       "        0.41141141, 0.41191191, 0.41241241, 0.41291291, 0.41341341,\n",
       "        0.41391391, 0.41441441, 0.41491491, 0.41541542, 0.41591592,\n",
       "        0.41641642, 0.41691692, 0.41741742, 0.41791792, 0.41841842,\n",
       "        0.41891892, 0.41941942, 0.41991992, 0.42042042, 0.42092092,\n",
       "        0.42142142, 0.42192192, 0.42242242, 0.42292292, 0.42342342,\n",
       "        0.42392392, 0.42442442, 0.42492492, 0.42542543, 0.42592593,\n",
       "        0.42642643, 0.42692693, 0.42742743, 0.42792793, 0.42842843,\n",
       "        0.42892893, 0.42942943, 0.42992993, 0.43043043, 0.43093093,\n",
       "        0.43143143, 0.43193193, 0.43243243, 0.43293293, 0.43343343,\n",
       "        0.43393393, 0.43443443, 0.43493493, 0.43543544, 0.43593594,\n",
       "        0.43643644, 0.43693694, 0.43743744, 0.43793794, 0.43843844,\n",
       "        0.43893894, 0.43943944, 0.43993994, 0.44044044, 0.44094094,\n",
       "        0.44144144, 0.44194194, 0.44244244, 0.44294294, 0.44344344,\n",
       "        0.44394394, 0.44444444, 0.44494494, 0.44544545, 0.44594595,\n",
       "        0.44644645, 0.44694695, 0.44744745, 0.44794795, 0.44844845,\n",
       "        0.44894895, 0.44944945, 0.44994995, 0.45045045, 0.45095095,\n",
       "        0.45145145, 0.45195195, 0.45245245, 0.45295295, 0.45345345,\n",
       "        0.45395395, 0.45445445, 0.45495495, 0.45545546, 0.45595596,\n",
       "        0.45645646, 0.45695696, 0.45745746, 0.45795796, 0.45845846,\n",
       "        0.45895896, 0.45945946, 0.45995996, 0.46046046, 0.46096096,\n",
       "        0.46146146, 0.46196196, 0.46246246, 0.46296296, 0.46346346,\n",
       "        0.46396396, 0.46446446, 0.46496496, 0.46546547, 0.46596597,\n",
       "        0.46646647, 0.46696697, 0.46746747, 0.46796797, 0.46846847,\n",
       "        0.46896897, 0.46946947, 0.46996997, 0.47047047, 0.47097097,\n",
       "        0.47147147, 0.47197197, 0.47247247, 0.47297297, 0.47347347,\n",
       "        0.47397397, 0.47447447, 0.47497497, 0.47547548, 0.47597598,\n",
       "        0.47647648, 0.47697698, 0.47747748, 0.47797798, 0.47847848,\n",
       "        0.47897898, 0.47947948, 0.47997998, 0.48048048, 0.48098098,\n",
       "        0.48148148, 0.48198198, 0.48248248, 0.48298298, 0.48348348,\n",
       "        0.48398398, 0.48448448, 0.48498498, 0.48548549, 0.48598599,\n",
       "        0.48648649, 0.48698699, 0.48748749, 0.48798799, 0.48848849,\n",
       "        0.48898899, 0.48948949, 0.48998999, 0.49049049, 0.49099099,\n",
       "        0.49149149, 0.49199199, 0.49249249, 0.49299299, 0.49349349,\n",
       "        0.49399399, 0.49449449, 0.49499499, 0.4954955 , 0.495996  ,\n",
       "        0.4964965 , 0.496997  , 0.4974975 , 0.497998  , 0.4984985 ,\n",
       "        0.498999  , 0.4994995 , 0.5       ]),\n",
       " array([0.01651652, 0.01701702, 0.01751752, 0.01801802, 0.01851852,\n",
       "        0.01901902, 0.01951952, 0.02002002, 0.02052052, 0.02102102]))"
      ]
     },
     "execution_count": 25,
     "metadata": {},
     "output_type": "execute_result"
    }
   ],
   "source": [
    "t_99 = t_vals[np.where(np.isclose(-5*0.99, Vo_vals, atol=1e-1))]\n",
    "t_101 = t_vals[np.where(np.isclose(-5*1.1, Vo_vals, atol=1e-1))]\n",
    "\n",
    "t_99,t_101"
   ]
  },
  {
   "cell_type": "code",
   "execution_count": null,
   "metadata": {},
   "outputs": [],
   "source": []
  }
 ],
 "metadata": {
  "kernelspec": {
   "display_name": "Python 3 (ipykernel)",
   "language": "python",
   "name": "python3"
  },
  "language_info": {
   "codemirror_mode": {
    "name": "ipython",
    "version": 3
   },
   "file_extension": ".py",
   "mimetype": "text/x-python",
   "name": "python",
   "nbconvert_exporter": "python",
   "pygments_lexer": "ipython3",
   "version": "3.12.2"
  }
 },
 "nbformat": 4,
 "nbformat_minor": 4
}

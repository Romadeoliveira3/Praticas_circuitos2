{
 "cells": [
  {
   "cell_type": "code",
   "execution_count": null,
   "metadata": {},
   "outputs": [],
   "source": [
    "from sympy import *\n",
    "import pandas as pd\n",
    "import matplotlib.pyplot as plt\n",
    "import numpy as np"
   ]
  },
  {
   "cell_type": "code",
   "execution_count": null,
   "metadata": {},
   "outputs": [],
   "source": [
    "H_s, H_jw, mod_H_jw, phi, s, t, vi, vo, va, r1, r2, r3, c1, c2, Hs, w, vt = symbols(\"H_s H_jw |H_jw| phi s t vi vo va r1 r2 r3 c1 c2 Hs w vt\")\n",
    "\n",
    "eq1 = Eq((va-vi)/r1 + ((va-vo)/r2) + (va/(1/(s*c1))) + ((va)/r3), 0)\n",
    "eq1"
   ]
  }
 ],
 "metadata": {
  "kernelspec": {
   "display_name": "Python 3 (ipykernel)",
   "language": "python",
   "name": "python3"
  },
  "language_info": {
   "codemirror_mode": {
    "name": "ipython",
    "version": 3
   },
   "file_extension": ".py",
   "mimetype": "text/x-python",
   "name": "python",
   "nbconvert_exporter": "python",
   "pygments_lexer": "ipython3",
   "version": "3.11.9"
  }
 },
 "nbformat": 4,
 "nbformat_minor": 4
}

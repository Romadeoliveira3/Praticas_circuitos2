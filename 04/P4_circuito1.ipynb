{
 "cells": [
  {
   "cell_type": "code",
   "execution_count": 1,
   "metadata": {},
   "outputs": [],
   "source": [
    "from sympy import *\n",
    "import pandas as pd\n",
    "import matplotlib.pyplot as plt\n",
    "import numpy as np"
   ]
  },
  {
   "cell_type": "code",
   "execution_count": 2,
   "metadata": {},
   "outputs": [],
   "source": [
    "H_s, H_jw, mod_H_jw, phi, s, k, t, c, r, rl, Hs, w = symbols(\"H_s H_jw |H_jw| phi s k t c r rl Hs w\")\n"
   ]
  },
  {
   "cell_type": "code",
   "execution_count": 3,
   "metadata": {},
   "outputs": [
    {
     "data": {
      "text/latex": [
       "$\\displaystyle \\frac{1}{c r s + 1}$"
      ],
      "text/plain": [
       "1/(c*r*s + 1)"
      ]
     },
     "execution_count": 3,
     "metadata": {},
     "output_type": "execute_result"
    }
   ],
   "source": [
    "Hs = (1/(s*r*c + 1))\n",
    "Hs\n"
   ]
  },
  {
   "cell_type": "code",
   "execution_count": 4,
   "metadata": {},
   "outputs": [
    {
     "data": {
      "text/latex": [
       "$\\displaystyle \\frac{1}{0.0033 s + 1}$"
      ],
      "text/plain": [
       "1/(0.0033*s + 1)"
      ]
     },
     "execution_count": 4,
     "metadata": {},
     "output_type": "execute_result"
    }
   ],
   "source": [
    "Hs_subs = Hs.subs({c:100e-9, r: 33e3, rl: 22e3}).simplify()\n",
    "Hs_subs"
   ]
  },
  {
   "cell_type": "code",
   "execution_count": 5,
   "metadata": {},
   "outputs": [
    {
     "data": {
      "text/latex": [
       "$\\displaystyle H_{jw} = \\frac{1}{i c r w + 1}$"
      ],
      "text/plain": [
       "Eq(H_jw, 1/(I*c*r*w + 1))"
      ]
     },
     "execution_count": 5,
     "metadata": {},
     "output_type": "execute_result"
    }
   ],
   "source": [
    "# Substituindo s = jw\n",
    "\n",
    "Hjw = Hs.subs(s, I*w)\n",
    "Eq(H_jw,Hjw)"
   ]
  },
  {
   "cell_type": "code",
   "execution_count": 6,
   "metadata": {},
   "outputs": [
    {
     "data": {
      "text/latex": [
       "$\\displaystyle H_{jw} = \\frac{1}{0.0033 i w + 1}$"
      ],
      "text/plain": [
       "Eq(H_jw, 1/(0.0033*I*w + 1))"
      ]
     },
     "execution_count": 6,
     "metadata": {},
     "output_type": "execute_result"
    }
   ],
   "source": [
    "Eq(H_jw,Hjw).subs({c:100e-9, r: 33e3, rl: 22e3})"
   ]
  },
  {
   "cell_type": "code",
   "execution_count": 7,
   "metadata": {},
   "outputs": [
    {
     "data": {
      "text/latex": [
       "$\\displaystyle |H_{jw|} = \\frac{1}{\\left|{i c r w + 1}\\right|}$"
      ],
      "text/plain": [
       "Eq(|H_jw|, 1/Abs(I*c*r*w + 1))"
      ]
     },
     "execution_count": 7,
     "metadata": {},
     "output_type": "execute_result"
    }
   ],
   "source": [
    "#Calculando Modulo\n",
    "mod_Hjw = Eq(mod_H_jw,abs(Hjw))\n",
    "mod_Hjw"
   ]
  },
  {
   "cell_type": "code",
   "execution_count": 8,
   "metadata": {},
   "outputs": [
    {
     "data": {
      "text/latex": [
       "$\\displaystyle \\phi = \\frac{180 \\arg{\\left(\\frac{1}{i c r w + 1} \\right)}}{\\pi}$"
      ],
      "text/plain": [
       "Eq(phi, 180*arg(1/(I*c*r*w + 1))/pi)"
      ]
     },
     "execution_count": 8,
     "metadata": {},
     "output_type": "execute_result"
    }
   ],
   "source": [
    "#resposta em radiano, se liga\n",
    "Eq(phi,deg(arg(Hjw)))"
   ]
  },
  {
   "cell_type": "code",
   "execution_count": 9,
   "metadata": {},
   "outputs": [
    {
     "data": {
      "text/latex": [
       "$\\displaystyle |H_{jw|} = \\frac{1}{\\left|{0.0033 i w + 1}\\right|}$"
      ],
      "text/plain": [
       "Eq(|H_jw|, 1/Abs(0.0033*I*w + 1))"
      ]
     },
     "execution_count": 9,
     "metadata": {},
     "output_type": "execute_result"
    }
   ],
   "source": [
    "\n",
    "mod_Hjw_subs = mod_Hjw.subs({c:100e-9, r: 33e3, rl: 22e3})\n",
    "mod_Hjw_subs\n"
   ]
  },
  {
   "cell_type": "code",
   "execution_count": 10,
   "metadata": {},
   "outputs": [
    {
     "data": {
      "text/latex": [
       "$\\displaystyle |H_{jw|} = 1$"
      ],
      "text/plain": [
       "Eq(|H_jw|, 1)"
      ]
     },
     "execution_count": 10,
     "metadata": {},
     "output_type": "execute_result"
    }
   ],
   "source": [
    "mod_H_zero = mod_Hjw_subs.subs(w,0)\n",
    "mod_H_zero"
   ]
  },
  {
   "cell_type": "code",
   "execution_count": 11,
   "metadata": {},
   "outputs": [
    {
     "data": {
      "text/plain": [
       "7.0710678118654755"
      ]
     },
     "execution_count": 11,
     "metadata": {},
     "output_type": "execute_result"
    }
   ],
   "source": [
    "float((10)/(sqrt(2)))"
   ]
  },
  {
   "cell_type": "code",
   "execution_count": 12,
   "metadata": {},
   "outputs": [
    {
     "data": {
      "text/latex": [
       "$\\displaystyle H_{jw} = \\frac{1}{0.0033 i w + 1}$"
      ],
      "text/plain": [
       "Eq(H_jw, 1/(0.0033*I*w + 1))"
      ]
     },
     "execution_count": 12,
     "metadata": {},
     "output_type": "execute_result"
    }
   ],
   "source": [
    "Hjw_subs = Hjw.subs({c:100e-9, r: 33e3})\n",
    "Hjw_denom = denom(Hjw_subs)\n",
    "Hjw_polos = solve(Hjw_denom, w)\n",
    "Hjw_polos\n",
    "Eq(H_jw,Hjw_subs)"
   ]
  },
  {
   "cell_type": "code",
   "execution_count": 13,
   "metadata": {},
   "outputs": [
    {
     "data": {
      "text/plain": [
       "[303.030303030303*I]"
      ]
     },
     "execution_count": 13,
     "metadata": {},
     "output_type": "execute_result"
    }
   ],
   "source": [
    "Hjw_polos"
   ]
  },
  {
   "cell_type": "code",
   "execution_count": 14,
   "metadata": {},
   "outputs": [
    {
     "data": {
      "text/latex": [
       "$\\displaystyle \\phi = \\frac{180 \\arg{\\left(\\frac{1}{0.0033 i w + 1} \\right)}}{\\pi}$"
      ],
      "text/plain": [
       "Eq(phi, 180*arg(1/(0.0033*I*w + 1))/pi)"
      ]
     },
     "execution_count": 14,
     "metadata": {},
     "output_type": "execute_result"
    }
   ],
   "source": [
    "#resposta em radiano, se liga\n",
    "Fase = Eq(phi,deg(arg(Hjw_subs)))\n",
    "Fase"
   ]
  },
  {
   "cell_type": "code",
   "execution_count": 15,
   "metadata": {},
   "outputs": [
    {
     "data": {
      "text/plain": [
       "(0.6942436063344006, -46.03302698221118)"
      ]
     },
     "execution_count": 15,
     "metadata": {},
     "output_type": "execute_result"
    }
   ],
   "source": [
    "#freq 40Hz\n",
    "Mod1=abs(Hjw_subs)\n",
    "Arg1=deg(arg(Hjw_subs))\n",
    "float(Mod1.subs(w,2*pi*50)), float(Arg1.subs(w,2*pi*50))"
   ]
  },
  {
   "cell_type": "code",
   "execution_count": 16,
   "metadata": {},
   "outputs": [
    {
     "data": {
      "text/html": [
       "<div>\n",
       "<style scoped>\n",
       "    .dataframe tbody tr th:only-of-type {\n",
       "        vertical-align: middle;\n",
       "    }\n",
       "\n",
       "    .dataframe tbody tr th {\n",
       "        vertical-align: top;\n",
       "    }\n",
       "\n",
       "    .dataframe thead th {\n",
       "        text-align: right;\n",
       "    }\n",
       "</style>\n",
       "<table border=\"1\" class=\"dataframe\">\n",
       "  <thead>\n",
       "    <tr style=\"text-align: right;\">\n",
       "      <th></th>\n",
       "      <th>Frequência (Hz)</th>\n",
       "      <th>Módulo_Python</th>\n",
       "      <th>Argumento_Python (Deg)</th>\n",
       "      <th>Período (s)</th>\n",
       "      <th>Yo</th>\n",
       "      <th>Uo</th>\n",
       "      <th>|H(jω)| LTSpice</th>\n",
       "      <th>Fase LTSpice (Deg)</th>\n",
       "    </tr>\n",
       "  </thead>\n",
       "  <tbody>\n",
       "    <tr>\n",
       "      <th>0</th>\n",
       "      <td>0.010000</td>\n",
       "      <td>1.000000</td>\n",
       "      <td>-0.011880</td>\n",
       "      <td>100.000000</td>\n",
       "      <td>0.010000</td>\n",
       "      <td>0.010000</td>\n",
       "      <td>1.0</td>\n",
       "      <td>3.600000e-02</td>\n",
       "    </tr>\n",
       "    <tr>\n",
       "      <th>1</th>\n",
       "      <td>0.011768</td>\n",
       "      <td>1.000000</td>\n",
       "      <td>-0.013981</td>\n",
       "      <td>84.975344</td>\n",
       "      <td>0.011768</td>\n",
       "      <td>0.011768</td>\n",
       "      <td>1.0</td>\n",
       "      <td>4.985591e-02</td>\n",
       "    </tr>\n",
       "    <tr>\n",
       "      <th>2</th>\n",
       "      <td>0.013849</td>\n",
       "      <td>1.000000</td>\n",
       "      <td>-0.016452</td>\n",
       "      <td>72.208090</td>\n",
       "      <td>0.013849</td>\n",
       "      <td>0.013849</td>\n",
       "      <td>1.0</td>\n",
       "      <td>6.904477e-02</td>\n",
       "    </tr>\n",
       "    <tr>\n",
       "      <th>3</th>\n",
       "      <td>0.016298</td>\n",
       "      <td>1.000000</td>\n",
       "      <td>-0.019361</td>\n",
       "      <td>61.359073</td>\n",
       "      <td>0.016298</td>\n",
       "      <td>0.016298</td>\n",
       "      <td>1.0</td>\n",
       "      <td>9.561916e-02</td>\n",
       "    </tr>\n",
       "    <tr>\n",
       "      <th>4</th>\n",
       "      <td>0.019179</td>\n",
       "      <td>1.000000</td>\n",
       "      <td>-0.022785</td>\n",
       "      <td>52.140083</td>\n",
       "      <td>0.019179</td>\n",
       "      <td>0.019179</td>\n",
       "      <td>1.0</td>\n",
       "      <td>1.324217e-01</td>\n",
       "    </tr>\n",
       "    <tr>\n",
       "      <th>...</th>\n",
       "      <td>...</td>\n",
       "      <td>...</td>\n",
       "      <td>...</td>\n",
       "      <td>...</td>\n",
       "      <td>...</td>\n",
       "      <td>...</td>\n",
       "      <td>...</td>\n",
       "      <td>...</td>\n",
       "    </tr>\n",
       "    <tr>\n",
       "      <th>95</th>\n",
       "      <td>52140.082880</td>\n",
       "      <td>0.000925</td>\n",
       "      <td>-89.947002</td>\n",
       "      <td>0.000019</td>\n",
       "      <td>52140.082880</td>\n",
       "      <td>52140.082880</td>\n",
       "      <td>1.0</td>\n",
       "      <td>9.786918e+11</td>\n",
       "    </tr>\n",
       "    <tr>\n",
       "      <th>96</th>\n",
       "      <td>61359.072734</td>\n",
       "      <td>0.000786</td>\n",
       "      <td>-89.954965</td>\n",
       "      <td>0.000016</td>\n",
       "      <td>61359.072734</td>\n",
       "      <td>61359.072734</td>\n",
       "      <td>1.0</td>\n",
       "      <td>1.355377e+12</td>\n",
       "    </tr>\n",
       "    <tr>\n",
       "      <th>97</th>\n",
       "      <td>72208.090184</td>\n",
       "      <td>0.000668</td>\n",
       "      <td>-89.961731</td>\n",
       "      <td>0.000014</td>\n",
       "      <td>72208.090184</td>\n",
       "      <td>72208.090184</td>\n",
       "      <td>1.0</td>\n",
       "      <td>1.877043e+12</td>\n",
       "    </tr>\n",
       "    <tr>\n",
       "      <th>98</th>\n",
       "      <td>84975.343591</td>\n",
       "      <td>0.000568</td>\n",
       "      <td>-89.967481</td>\n",
       "      <td>0.000012</td>\n",
       "      <td>84975.343591</td>\n",
       "      <td>84975.343591</td>\n",
       "      <td>1.0</td>\n",
       "      <td>2.599491e+12</td>\n",
       "    </tr>\n",
       "    <tr>\n",
       "      <th>99</th>\n",
       "      <td>100000.000000</td>\n",
       "      <td>0.000482</td>\n",
       "      <td>-89.972367</td>\n",
       "      <td>0.000010</td>\n",
       "      <td>100000.000000</td>\n",
       "      <td>100000.000000</td>\n",
       "      <td>1.0</td>\n",
       "      <td>3.600000e+12</td>\n",
       "    </tr>\n",
       "  </tbody>\n",
       "</table>\n",
       "<p>100 rows × 8 columns</p>\n",
       "</div>"
      ],
      "text/plain": [
       "    Frequência (Hz)  Módulo_Python  Argumento_Python (Deg)  Período (s)  \\\n",
       "0          0.010000       1.000000               -0.011880   100.000000   \n",
       "1          0.011768       1.000000               -0.013981    84.975344   \n",
       "2          0.013849       1.000000               -0.016452    72.208090   \n",
       "3          0.016298       1.000000               -0.019361    61.359073   \n",
       "4          0.019179       1.000000               -0.022785    52.140083   \n",
       "..              ...            ...                     ...          ...   \n",
       "95     52140.082880       0.000925              -89.947002     0.000019   \n",
       "96     61359.072734       0.000786              -89.954965     0.000016   \n",
       "97     72208.090184       0.000668              -89.961731     0.000014   \n",
       "98     84975.343591       0.000568              -89.967481     0.000012   \n",
       "99    100000.000000       0.000482              -89.972367     0.000010   \n",
       "\n",
       "               Yo             Uo  |H(jω)| LTSpice  Fase LTSpice (Deg)  \n",
       "0        0.010000       0.010000              1.0        3.600000e-02  \n",
       "1        0.011768       0.011768              1.0        4.985591e-02  \n",
       "2        0.013849       0.013849              1.0        6.904477e-02  \n",
       "3        0.016298       0.016298              1.0        9.561916e-02  \n",
       "4        0.019179       0.019179              1.0        1.324217e-01  \n",
       "..            ...            ...              ...                 ...  \n",
       "95   52140.082880   52140.082880              1.0        9.786918e+11  \n",
       "96   61359.072734   61359.072734              1.0        1.355377e+12  \n",
       "97   72208.090184   72208.090184              1.0        1.877043e+12  \n",
       "98   84975.343591   84975.343591              1.0        2.599491e+12  \n",
       "99  100000.000000  100000.000000              1.0        3.600000e+12  \n",
       "\n",
       "[100 rows x 8 columns]"
      ]
     },
     "execution_count": 16,
     "metadata": {},
     "output_type": "execute_result"
    }
   ],
   "source": [
    "# calcular o módulo e o argumento em cada frequência\n",
    "\n",
    "def calcular_respostas(frequencias, Yo, Uo, cursor_diff_2_1):\n",
    "    resultados = []\n",
    "    for i, freq in enumerate(frequencias):  # Usando enumerate para indexar corretamente\n",
    "        omega = 2 * pi * freq\n",
    "        Mod = abs(Hjw_subs)\n",
    "        Arg = deg(arg(Hjw_subs))\n",
    "        Mod_value = float(Mod.subs(w, omega))\n",
    "        Arg_value = float(Arg.subs(w, omega))\n",
    "        Periodo = 1 / freq\n",
    "        Mod_Hjw = Yo[i] / Uo[i] \n",
    "        Phase = 360*cursor_diff_2_1[i]/Periodo\n",
    "\n",
    "        resultados.append({\n",
    "            'Frequência (Hz)': freq,\n",
    "            'Módulo_Python': Mod_value,\n",
    "            'Argumento_Python (Deg)': Arg_value,\n",
    "            'Período (s)': Periodo,\n",
    "            'Yo': Yo[i],\n",
    "            'Uo': Uo[i],\n",
    "            '|H(jω)| LTSpice': abs(Mod_Hjw),\n",
    "            \"Fase LTSpice (Deg)\": Phase\n",
    "        })\n",
    "\n",
    "    return resultados\n",
    "\n",
    "# Lista de frequencias em Hz\n",
    "# frequencias = [0.01, 0.1, 1, 10, 100, 1000]\n",
    "frequencias = np.logspace(-2, 5, num=100)\n",
    "Yo = np.logspace(-2, 5, num=100)\n",
    "Uo = np.logspace(-2, 5, num=100)\n",
    "cursor_diff_2_1 = np.logspace(-2, 5, num=100)\n",
    "\n",
    "resultados = calcular_respostas(frequencias, Yo, Uo, cursor_diff_2_1)\n",
    "df = pd.DataFrame(resultados)\n",
    "df"
   ]
  },
  {
   "cell_type": "code",
   "execution_count": 20,
   "metadata": {},
   "outputs": [
    {
     "data": {
      "image/png": "[encoded data removed]",
      "text/plain": [
       "<Figure size 1000x500 with 1 Axes>"
      ]
     },
     "metadata": {},
     "output_type": "display_data"
    }
   ],
   "source": [
    "# Convertendo módulo para dB \n",
    "df['Módulo_Python'] = 20 * np.log10(df['Módulo_Python'])\n",
    "\n",
    "\n",
    "# Fase em graus\n",
    "plt.figure(figsize=(10, 5))\n",
    "plt.semilogx(df['Frequência (Hz)'], df['Argumento_Python (Deg)'], marker='o', linestyle='-',linewidth=3, color='green')\n",
    "plt.title('Diagrama de Bode de Fase do Filtro')\n",
    "plt.xlabel('Frequência [Hz]')\n",
    "plt.ylabel('Fase [graus]')\n",
    "plt.grid(True, which=\"both\", ls=\"-\")\n",
    "plt.show()\n"
   ]
  },
  {
   "cell_type": "code",
   "execution_count": 22,
   "metadata": {},
   "outputs": [
    {
     "name": "stderr",
     "output_type": "stream",
     "text": [
      "No artists with labels found to put in legend.  Note that artists whose label start with an underscore are ignored when legend() is called with no argument.\n"
     ]
    },
    {
     "data": {
      "image/png": "[encoded data removed]",
      "text/plain": [
       "<Figure size 1000x500 with 1 Axes>"
      ]
     },
     "metadata": {},
     "output_type": "display_data"
    }
   ],
   "source": [
    "\n",
    "# Módulo em dB\n",
    "plt.figure(figsize=(10, 5))\n",
    "plt.semilogx(df['Frequência (Hz)'], df['Módulo_Python'], marker='o', linestyle='-',linewidth=3, color='blue')\n",
    "plt.title('Diagrama de Bode de Magnitude do Filtro')\n",
    "plt.xlabel('Frequência [Hz]')\n",
    "plt.ylabel('Magnitude [dB]')\n",
    "plt.grid(True, which=\"both\", ls=\"-\")\n",
    "plt.legend()\n",
    "plt.show()\n"
   ]
  },
  {
   "cell_type": "code",
   "execution_count": null,
   "metadata": {},
   "outputs": [],
   "source": [
    "# Convertendo módulo para dB\n",
    "df['Módulo_Python'] = 20 * np.log10(df['Módulo_Python'])\n",
    "\n",
    "# Plotando o diagrama de Bode\n",
    "fig, ax1 = plt.subplots(figsize=(10, 5))\n",
    "\n",
    "# Módulo em dB\n",
    "ax1.semilogx(df['Frequência (Hz)'], df['Módulo_Python'], marker='o', linestyle='-', label='Módulo (dB)')\n",
    "ax1.set_xlabel('Frequência (Hz)')\n",
    "ax1.set_ylabel('Magnitude (dB)')\n",
    "ax1.grid(True, which=\"both\", ls=\"-\")\n",
    "ax1.legend(loc='upper right')\n",
    "\n",
    "# Fase em graus\n",
    "ax2 = ax1.twinx()\n",
    "ax2.semilogx(df['Frequência (Hz)'], df['Argumento_Python (Deg)'], marker='o', linestyle='-', color='orange', label='Fase (Deg)')\n",
    "ax2.set_ylabel('Fase (Deg)')\n",
    "ax2.legend(loc='lower right')\n",
    "\n",
    "plt.title('Diagrama de Bode')\n",
    "plt.grid(True, which=\"both\", ls=\"-\")\n",
    "plt.show()"
   ]
  },
  {
   "cell_type": "code",
   "execution_count": null,
   "metadata": {},
   "outputs": [],
   "source": [
    "10 * np.log10(df['Módulo_Python'])"
   ]
  },
  {
   "cell_type": "code",
   "execution_count": null,
   "metadata": {},
   "outputs": [],
   "source": [
    "Hs_sub_deg = Hs_subs*0.8*(1/s)\n",
    "\n",
    "Hs_sub_deg"
   ]
  },
  {
   "cell_type": "code",
   "execution_count": null,
   "metadata": {},
   "outputs": [],
   "source": [
    "#Transformada inversa de Laplace\n",
    "vt = inverse_laplace_transform(Hs_sub_deg, s, t)\n",
    "vt"
   ]
  },
  {
   "cell_type": "code",
   "execution_count": null,
   "metadata": {},
   "outputs": [],
   "source": [
    "Eq(H_s, Hs_subs)"
   ]
  },
  {
   "cell_type": "code",
   "execution_count": null,
   "metadata": {},
   "outputs": [],
   "source": [
    "# Realizando a transformação inversa de Laplace\n",
    "vt = inverse_laplace_transform(Hs_sub_deg, s, t)\n",
    "\n",
    "# Convertendo a expressão simbólica para uma função numérica\n",
    "v_t_func = lambdify(t, vt, 'numpy')\n",
    "\n",
    "# Definindo o vetor de tempo de 0 a 5 segundos\n",
    "t_vals = np.linspace(0, 5, 500)\n",
    "v_t_vals = v_t_func(t_vals)\n",
    "\n",
    "# Plotando a resposta ao degrau\n",
    "plt.figure(figsize=(10, 6))\n",
    "plt.plot(t_vals, v_t_vals, label='Resposta ao Degrau')\n",
    "plt.title('Resposta ao Degrau para 0 ≤ t ≤ 5s')\n",
    "plt.xlabel('Tempo (s)')\n",
    "plt.ylabel('v(t)')\n",
    "plt.grid(True)\n",
    "plt.legend()\n",
    "plt.show()\n"
   ]
  },
  {
   "cell_type": "code",
   "execution_count": null,
   "metadata": {},
   "outputs": [],
   "source": [
    "\n",
    "# Determinando o valor de regime permanente\n",
    "lam_Vo_t = lambdify(t, vt)\n",
    "t_vals= np.linspace(0,0.5, 1000)\n",
    "Vo_vals= lam_Vo_t(t_vals)\n"
   ]
  },
  {
   "cell_type": "code",
   "execution_count": null,
   "metadata": {},
   "outputs": [],
   "source": [
    "valor_regime_permanente = vt.subs(t,2)\n",
    "valor_regime_permanente"
   ]
  },
  {
   "cell_type": "code",
   "execution_count": null,
   "metadata": {},
   "outputs": [],
   "source": [
    "t_10 = t_vals[np.where(np.isclose(-8*0.1, Vo_vals, atol=1e-1))][1]\n",
    "t_90 = t_vals[np.where(np.isclose(-8*0.9, Vo_vals, atol=1e-2))][1]\n",
    "\n",
    "t_10,t_90"
   ]
  },
  {
   "cell_type": "code",
   "execution_count": null,
   "metadata": {},
   "outputs": [],
   "source": [
    "vt_10 = vt.subs(t,t_10)\n",
    "vt_90 = vt.subs(t,t_90)\n",
    "\n",
    "vt_10, vt_90"
   ]
  },
  {
   "cell_type": "code",
   "execution_count": null,
   "metadata": {},
   "outputs": [],
   "source": []
  }
 ],
 "metadata": {
  "kernelspec": {
   "display_name": "Python 3 (ipykernel)",
   "language": "python",
   "name": "python3"
  },
  "language_info": {
   "codemirror_mode": {
    "name": "ipython",
    "version": 3
   },
   "file_extension": ".py",
   "mimetype": "text/x-python",
   "name": "python",
   "nbconvert_exporter": "python",
   "pygments_lexer": "ipython3",
   "version": "3.12.2"
  }
 },
 "nbformat": 4,
 "nbformat_minor": 4
}

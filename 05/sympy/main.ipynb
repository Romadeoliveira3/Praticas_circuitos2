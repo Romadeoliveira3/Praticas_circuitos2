{
 "cells": [
  {
   "cell_type": "code",
   "execution_count": 193,
   "metadata": {},
   "outputs": [],
   "source": [
    "from sympy import *\n",
    "import pandas as pd\n",
    "import matplotlib.pyplot as plt\n",
    "import numpy as np"
   ]
  },
  {
   "cell_type": "code",
   "execution_count": 194,
   "metadata": {},
   "outputs": [
    {
     "data": {
      "text/latex": [
       "$\\displaystyle c s \\left(va - vi\\right) + c s \\left(va - vo\\right) + \\frac{va - vo}{r_{1}} = 0$"
      ],
      "text/plain": [
       "Eq(c*s*(va - vi) + c*s*(va - vo) + (va - vo)/r1, 0)"
      ]
     },
     "execution_count": 194,
     "metadata": {},
     "output_type": "execute_result"
    }
   ],
   "source": [
    "H_s, H_jw, mod_H_jw, phi, s, t, vi, vo, va, r1, r2, r3, r4, c, Hs, w = symbols(\"H_s H_jw |H_jw| phi s t vi vo va r1 r2 r3 r4 c Hs w\")\n",
    "\n",
    "eq1 = Eq((va - vi)*s*c + (va - vo)*(1/r1) + (va - vo)*s*c, 0)\n",
    "eq1"
   ]
  },
  {
   "cell_type": "code",
   "execution_count": 195,
   "metadata": {},
   "outputs": [
    {
     "data": {
      "text/latex": [
       "$\\displaystyle va = \\frac{vo \\left(c s + \\frac{1}{r_{2}}\\right)}{c s}$"
      ],
      "text/plain": [
       "Eq(va, vo*(c*s + 1/r2)/(c*s))"
      ]
     },
     "execution_count": 195,
     "metadata": {},
     "output_type": "execute_result"
    }
   ],
   "source": [
    "eq2 = Eq(va, vo*((1/r2)+s*c)/(s*c))\n",
    "eq2"
   ]
  },
  {
   "cell_type": "code",
   "execution_count": 196,
   "metadata": {},
   "outputs": [
    {
     "data": {
      "text/latex": [
       "$\\displaystyle \\left\\{\\left( \\frac{c^{2} r_{1} r_{2} s^{2} vi}{c^{2} r_{1} r_{2} s^{2} + 2 c r_{1} s + 1}, \\  \\frac{c^{2} r_{1} r_{2} s^{2} vi + c r_{1} s vi}{c^{2} r_{1} r_{2} s^{2} + 2 c r_{1} s + 1}\\right)\\right\\}$"
      ],
      "text/plain": [
       "{(c**2*r1*r2*s**2*vi/(c**2*r1*r2*s**2 + 2*c*r1*s + 1), (c**2*r1*r2*s**2*vi + c*r1*s*vi)/(c**2*r1*r2*s**2 + 2*c*r1*s + 1))}"
      ]
     },
     "execution_count": 196,
     "metadata": {},
     "output_type": "execute_result"
    }
   ],
   "source": [
    "sol = linsolve([eq1, eq2], (vo,va))\n",
    "sol"
   ]
  },
  {
   "cell_type": "code",
   "execution_count": 197,
   "metadata": {},
   "outputs": [
    {
     "data": {
      "text/latex": [
       "$\\displaystyle H_{s} = \\frac{c^{2} r_{1} r_{2} s^{2}}{c^{2} r_{1} r_{2} s^{2} + 2 c r_{1} s + 1}$"
      ],
      "text/plain": [
       "Eq(H_s, c**2*r1*r2*s**2/(c**2*r1*r2*s**2 + 2*c*r1*s + 1))"
      ]
     },
     "execution_count": 197,
     "metadata": {},
     "output_type": "execute_result"
    }
   ],
   "source": [
    "Vo = sol.args[0][0]\n",
    "\n",
    "H1 = Vo/vi \n",
    "Eq(H_s, H1)"
   ]
  },
  {
   "cell_type": "code",
   "execution_count": 198,
   "metadata": {},
   "outputs": [
    {
     "data": {
      "text/latex": [
       "$\\displaystyle \\frac{c^{2} r_{3} r_{4} s^{2}}{c^{2} r_{3} r_{4} s^{2} + 2 c r_{3} s + 1}$"
      ],
      "text/plain": [
       "c**2*r3*r4*s**2/(c**2*r3*r4*s**2 + 2*c*r3*s + 1)"
      ]
     },
     "execution_count": 198,
     "metadata": {},
     "output_type": "execute_result"
    }
   ],
   "source": [
    "eq3 = Eq((va - vi)*s*c + (va - vo)*(1/r3) + (va - vo)*s*c, 0)\n",
    "eq4 = Eq(va, vo*((1/r4)+s*c)/(s*c))\n",
    "sol = linsolve([eq3, eq4], (vo,va))\n",
    "Vo = sol.args[0][0]\n",
    "H2 = Vo/vi \n",
    "H2"
   ]
  },
  {
   "cell_type": "code",
   "execution_count": 199,
   "metadata": {},
   "outputs": [
    {
     "data": {
      "text/latex": [
       "$\\displaystyle H_{s} = \\frac{c^{4} r_{1} r_{2} r_{3} r_{4} s^{4}}{\\left(c^{2} r_{1} r_{2} s^{2} + 2 c r_{1} s + 1\\right) \\left(c^{2} r_{3} r_{4} s^{2} + 2 c r_{3} s + 1\\right)}$"
      ],
      "text/plain": [
       "Eq(H_s, c**4*r1*r2*r3*r4*s**4/((c**2*r1*r2*s**2 + 2*c*r1*s + 1)*(c**2*r3*r4*s**2 + 2*c*r3*s + 1)))"
      ]
     },
     "execution_count": 199,
     "metadata": {},
     "output_type": "execute_result"
    }
   ],
   "source": [
    "Hs = H1*H2\n",
    "Eq(H_s, Hs)"
   ]
  },
  {
   "cell_type": "code",
   "execution_count": 200,
   "metadata": {},
   "outputs": [
    {
     "data": {
      "text/latex": [
       "$\\displaystyle \\frac{6.45213801581349 \\cdot 10^{-12} s^{4}}{\\left(2.532201 \\cdot 10^{-6} s^{2} + 0.002941 s + 1\\right) \\left(2.54803549 \\cdot 10^{-6} s^{2} + 0.0012254 s + 1\\right)}$"
      ],
      "text/plain": [
       "6.45213801581349e-12*s**4/((2.532201e-6*s**2 + 0.002941*s + 1)*(2.54803549e-6*s**2 + 0.0012254*s + 1))"
      ]
     },
     "execution_count": 200,
     "metadata": {},
     "output_type": "execute_result"
    }
   ],
   "source": [
    "Hs.subs({c:100e-9, r1:6127, r2:41587,r3:14705,r4:17220})"
   ]
  },
  {
   "cell_type": "code",
   "execution_count": 201,
   "metadata": {},
   "outputs": [
    {
     "data": {
      "text/latex": [
       "$\\displaystyle H_{jw} = \\frac{c^{4} r_{1} r_{2} r_{3} r_{4} w^{4}}{\\left(- c^{2} r_{1} r_{2} w^{2} + 2 i c r_{1} w + 1\\right) \\left(- c^{2} r_{3} r_{4} w^{2} + 2 i c r_{3} w + 1\\right)}$"
      ],
      "text/plain": [
       "Eq(H_jw, c**4*r1*r2*r3*r4*w**4/((-c**2*r1*r2*w**2 + 2*I*c*r1*w + 1)*(-c**2*r3*r4*w**2 + 2*I*c*r3*w + 1)))"
      ]
     },
     "execution_count": 201,
     "metadata": {},
     "output_type": "execute_result"
    }
   ],
   "source": [
    "# Substituindo s = jw\n",
    "\n",
    "Hjw = Hs.subs(s, I*w)\n",
    "Eq(H_jw,Hjw)"
   ]
  },
  {
   "cell_type": "code",
   "execution_count": 202,
   "metadata": {},
   "outputs": [
    {
     "data": {
      "text/latex": [
       "$\\displaystyle H_{jw} = \\frac{6.45213801581349 \\cdot 10^{-12} w^{4}}{\\left(- 2.54803549 \\cdot 10^{-6} w^{2} + 0.0012254 i w + 1\\right) \\left(- 2.532201 \\cdot 10^{-6} w^{2} + 0.002941 i w + 1\\right)}$"
      ],
      "text/plain": [
       "Eq(H_jw, 6.45213801581349e-12*w**4/((-2.54803549e-6*w**2 + 0.0012254*I*w + 1)*(-2.532201e-6*w**2 + 0.002941*I*w + 1)))"
      ]
     },
     "execution_count": 202,
     "metadata": {},
     "output_type": "execute_result"
    }
   ],
   "source": [
    "Eq(H_jw,Hjw).subs({c:100e-9, r1:6127, r2:41587,r3:14705,r4:17220})"
   ]
  },
  {
   "cell_type": "code",
   "execution_count": 203,
   "metadata": {},
   "outputs": [
    {
     "data": {
      "text/latex": [
       "$\\displaystyle |H_{jw|} = \\left|{\\frac{c^{4} r_{1} r_{2} r_{3} r_{4} w^{4}}{\\left(- c^{2} r_{1} r_{2} w^{2} + 2 i c r_{1} w + 1\\right) \\left(- c^{2} r_{3} r_{4} w^{2} + 2 i c r_{3} w + 1\\right)}}\\right|$"
      ],
      "text/plain": [
       "Eq(|H_jw|, Abs(c**4*r1*r2*r3*r4*w**4/((-c**2*r1*r2*w**2 + 2*I*c*r1*w + 1)*(-c**2*r3*r4*w**2 + 2*I*c*r3*w + 1))))"
      ]
     },
     "execution_count": 203,
     "metadata": {},
     "output_type": "execute_result"
    }
   ],
   "source": [
    "#Calculando Modulo\n",
    "mod_Hjw = Eq(mod_H_jw,abs(Hjw))\n",
    "mod_Hjw"
   ]
  },
  {
   "cell_type": "code",
   "execution_count": 204,
   "metadata": {},
   "outputs": [
    {
     "data": {
      "text/latex": [
       "$\\displaystyle \\phi = \\frac{180 \\arg{\\left(\\frac{c^{4} r_{1} r_{2} r_{3} r_{4} w^{4}}{\\left(- c^{2} r_{1} r_{2} w^{2} + 2 i c r_{1} w + 1\\right) \\left(- c^{2} r_{3} r_{4} w^{2} + 2 i c r_{3} w + 1\\right)} \\right)}}{\\pi}$"
      ],
      "text/plain": [
       "Eq(phi, 180*arg(c**4*r1*r2*r3*r4*w**4/((-c**2*r1*r2*w**2 + 2*I*c*r1*w + 1)*(-c**2*r3*r4*w**2 + 2*I*c*r3*w + 1)))/pi)"
      ]
     },
     "execution_count": 204,
     "metadata": {},
     "output_type": "execute_result"
    }
   ],
   "source": [
    "#resposta em radiano, se liga\n",
    "Eq(phi,deg(arg(Hjw)))"
   ]
  },
  {
   "cell_type": "code",
   "execution_count": 205,
   "metadata": {},
   "outputs": [
    {
     "data": {
      "text/latex": [
       "$\\displaystyle |H_{jw|} = 6.45213801581349 \\cdot 10^{-12} \\left|{\\frac{w^{4}}{\\left(- 2.54803549 \\cdot 10^{-6} w^{2} + 0.0012254 i w + 1\\right) \\left(- 2.532201 \\cdot 10^{-6} w^{2} + 0.002941 i w + 1\\right)}}\\right|$"
      ],
      "text/plain": [
       "Eq(|H_jw|, 6.45213801581349e-12*Abs(w**4/((-2.54803549e-6*w**2 + 0.0012254*I*w + 1)*(-2.532201e-6*w**2 + 0.002941*I*w + 1))))"
      ]
     },
     "execution_count": 205,
     "metadata": {},
     "output_type": "execute_result"
    }
   ],
   "source": [
    "mod_Hjw_subs = mod_Hjw.subs({c:100e-9, r1:6127, r2:41587,r3:14705,r4:17220})\n",
    "mod_Hjw_subs"
   ]
  },
  {
   "cell_type": "code",
   "execution_count": 206,
   "metadata": {},
   "outputs": [
    {
     "data": {
      "text/latex": [
       "$\\displaystyle H_{jw} = \\frac{6.45213801581349 \\cdot 10^{-12} w^{4}}{\\left(- 2.54803549 \\cdot 10^{-6} w^{2} + 0.0012254 i w + 1\\right) \\left(- 2.532201 \\cdot 10^{-6} w^{2} + 0.002941 i w + 1\\right)}$"
      ],
      "text/plain": [
       "Eq(H_jw, 6.45213801581349e-12*w**4/((-2.54803549e-6*w**2 + 0.0012254*I*w + 1)*(-2.532201e-6*w**2 + 0.002941*I*w + 1)))"
      ]
     },
     "execution_count": 206,
     "metadata": {},
     "output_type": "execute_result"
    }
   ],
   "source": [
    "Hjw_subs = Hjw.subs({c:100e-9, r1:6127, r2:41587,r3:14705,r4:17220})\n",
    "Hjw_denom = denom(Hjw_subs)\n",
    "Hjw_polos = solve(Hjw_denom, w)\n",
    "Hjw_polos\n",
    "Eq(H_jw,Hjw_subs)"
   ]
  },
  {
   "cell_type": "code",
   "execution_count": 207,
   "metadata": {},
   "outputs": [
    {
     "data": {
      "text/plain": [
       "[-578.479313420915 + 240.459759059321*I,\n",
       " -240.161469991273 + 580.720092915215*I,\n",
       " 240.161469991273 + 580.720092915215*I,\n",
       " 578.479313420915 + 240.459759059321*I]"
      ]
     },
     "execution_count": 207,
     "metadata": {},
     "output_type": "execute_result"
    }
   ],
   "source": [
    "Hjw_polos"
   ]
  },
  {
   "cell_type": "code",
   "execution_count": 208,
   "metadata": {},
   "outputs": [
    {
     "data": {
      "text/latex": [
       "$\\displaystyle \\phi = \\frac{180 \\arg{\\left(\\frac{w^{4}}{\\left(- 2.54803549 \\cdot 10^{-6} w^{2} + 0.0012254 i w + 1\\right) \\left(- 2.532201 \\cdot 10^{-6} w^{2} + 0.002941 i w + 1\\right)} \\right)}}{\\pi}$"
      ],
      "text/plain": [
       "Eq(phi, 180*arg(w**4/((-2.54803549e-6*w**2 + 0.0012254*I*w + 1)*(-2.532201e-6*w**2 + 0.002941*I*w + 1)))/pi)"
      ]
     },
     "execution_count": 208,
     "metadata": {},
     "output_type": "execute_result"
    }
   ],
   "source": [
    "#resposta em radiano, se liga\n",
    "Fase = Eq(phi,deg(arg(Hjw_subs)))\n",
    "Fase"
   ]
  },
  {
   "cell_type": "code",
   "execution_count": 209,
   "metadata": {},
   "outputs": [
    {
     "data": {
      "text/latex": [
       "$\\displaystyle |H_{jw|} = 0$"
      ],
      "text/plain": [
       "Eq(|H_jw|, 0)"
      ]
     },
     "execution_count": 209,
     "metadata": {},
     "output_type": "execute_result"
    }
   ],
   "source": [
    "mod_H_zero = mod_Hjw_subs.subs(w,0)\n",
    "mod_H_zero"
   ]
  },
  {
   "cell_type": "code",
   "execution_count": 210,
   "metadata": {},
   "outputs": [
    {
     "data": {
      "text/plain": [
       "(0.7067692127914706, 179.56930552862335)"
      ]
     },
     "execution_count": 210,
     "metadata": {},
     "output_type": "execute_result"
    }
   ],
   "source": [
    "#freq 100Hz\n",
    "Mod1=abs(Hjw_subs)\n",
    "Arg1=deg(arg(Hjw_subs))\n",
    "float(Mod1.subs(w,2*pi*100)), float(Arg1.subs(w,2*pi*100))"
   ]
  },
  {
   "cell_type": "code",
   "execution_count": 211,
   "metadata": {},
   "outputs": [
    {
     "data": {
      "text/plain": [
       "(0.9962950969941358, 77.9331053301367)"
      ]
     },
     "execution_count": 211,
     "metadata": {},
     "output_type": "execute_result"
    }
   ],
   "source": [
    "#freq 100Hz\n",
    "Mod1=abs(Hjw_subs)\n",
    "Arg1=deg(arg(Hjw_subs))\n",
    "float(Mod1.subs(w,2*pi*200)), float(Arg1.subs(w,2*pi*200))"
   ]
  },
  {
   "cell_type": "code",
   "execution_count": 212,
   "metadata": {},
   "outputs": [],
   "source": [
    "# calcular o módulo e o argumento em cada frequência\n",
    "\n",
    "def calcular_respostas(frequencias):\n",
    "    resultados = []\n",
    "    for i, freq in enumerate(frequencias):  # Usando enumerate para indexar corretamente\n",
    "        omega = 2 * pi * freq\n",
    "        Mod = abs(Hjw_subs)\n",
    "        Arg = deg(arg(Hjw_subs))\n",
    "        Mod_value = float(Mod.subs(w, omega))\n",
    "        Arg_value = float(Arg.subs(w, omega))\n",
    "\n",
    "        resultados.append({\n",
    "            'Frequência (Hz)': freq,\n",
    "            'Módulo_Python': Mod_value,\n",
    "            'Argumento_Python (Deg)': Arg_value,\n",
    "        })\n",
    "\n",
    "    return resultados\n",
    "\n",
    "# Lista de frequencias em Hz\n",
    "# frequencias = [0.01, 0.1, 1, 10, 100, 1000]\n",
    "frequencias = np.logspace(-3, 5, num=100)\n",
    "\n",
    "\n",
    "resultados = calcular_respostas(frequencias)\n",
    "df = pd.DataFrame(resultados)\n"
   ]
  },
  {
   "cell_type": "code",
   "execution_count": 213,
   "metadata": {},
   "outputs": [
    {
     "data": {
      "image/png": "[encoded data removed]",
      "text/plain": [
       "<Figure size 1000x1000 with 2 Axes>"
      ]
     },
     "metadata": {},
     "output_type": "display_data"
    }
   ],
   "source": [
    "# Convertendo módulo para dB \n",
    "df['Módulo_Python'] = 20 * np.log10(df['Módulo_Python'])\n",
    "\n",
    "# Plotando o diagrama de Bode\n",
    "fig, axs = plt.subplots(2, 1, figsize=(10, 10))\n",
    "\n",
    "# Módulo em dB\n",
    "axs[0].semilogx(df['Frequência (Hz)'], df['Módulo_Python'], marker='o', linestyle='-')\n",
    "axs[0].set_title('Módulo Python (dB) vs Frequência')\n",
    "axs[0].set_xlabel('Frequência (Hz)')\n",
    "axs[0].set_ylabel('Magnitude (dB)')\n",
    "axs[0].grid(True, which=\"both\", ls=\"-\")\n",
    "\n",
    "# Fase em graus\n",
    "axs[1].semilogx(df['Frequência (Hz)'], df['Argumento_Python (Deg)'], marker='o', linestyle='-')\n",
    "axs[1].set_title('Fase Python (Deg) vs Frequência')\n",
    "axs[1].set_xlabel('Frequência (Hz)')\n",
    "axs[1].set_ylabel('Fase (Deg)')\n",
    "axs[1].grid(True, which=\"both\", ls=\"-\")\n",
    "\n",
    "plt.tight_layout()\n",
    "plt.show()"
   ]
  }
 ],
 "metadata": {
  "kernelspec": {
   "display_name": "Python 3",
   "language": "python",
   "name": "python3"
  },
  "language_info": {
   "codemirror_mode": {
    "name": "ipython",
    "version": 3
   },
   "file_extension": ".py",
   "mimetype": "text/x-python",
   "name": "python",
   "nbconvert_exporter": "python",
   "pygments_lexer": "ipython3",
   "version": "3.12.2"
  }
 },
 "nbformat": 4,
 "nbformat_minor": 2
}
